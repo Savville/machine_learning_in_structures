{
  "cells": [
    {
      "cell_type": "markdown",
      "metadata": {
        "id": "view-in-github",
        "colab_type": "text"
      },
      "source": [
        "<a href=\"https://colab.research.google.com/github/Savville/machine-learning-projecs/blob/main/structural_with_python.ipynb\" target=\"_parent\"><img src=\"https://colab.research.google.com/assets/colab-badge.svg\" alt=\"Open In Colab\"/></a>"
      ]
    },
    {
      "cell_type": "markdown",
      "metadata": {
        "ExecuteTime": {
          "end_time": "2018-08-02T13:35:01.752519Z",
          "start_time": "2018-08-02T13:35:01.747883Z"
        },
        "id": "ZZtj-0XeUt0S"
      },
      "source": [
        "# Indeterminate Beam calculator\n",
        "\n",
        "### Table of Contents\n",
        "1. Initialisation\n",
        "2. Basic Usage (Readme example)\n",
        "    - 2.1 Basic Usage\n",
        "    - 2.2 Querying Data\n",
        "    - 2.3 Specifiying Units\n",
        "3. Support Class Breakdown\n",
        "4. Load Classes Breakdown\n",
        "    - 4.1 Point Torque\n",
        "    - 4.2 Point Load\n",
        "    - 4.3 Uniformly Distributed Load (UDL)\n",
        "    - 4.4 Trapezoidal Load\n",
        "    - 4.5 Distributed Load\n",
        "    - 4.6 Vertical and Horizontal Load Child Classes\n",
        "5. Statically Determinate Beam (Ex 12.14 Hibbeler)\n",
        "6. Statically Indeterminate Beam (Ex 12.21 Hibbeler)\n",
        "7. Spring Supported Beam (Ex 12.16 Hibbeler)\n",
        "8. Axially Loaded Indeterminate Beam (Ex 4.13 Hibbeler)\n",
        "\n",
        "Note:\n",
        "You must always run the initialization cell first.\n",
        "Then you are free to move to any of the other sections as per the table of contents."
      ]
    },
    {
      "cell_type": "markdown",
      "metadata": {
        "id": "y908_ogYUt0z"
      },
      "source": [
        " ## 1. Initialisation\n"
      ]
    },
    {
      "cell_type": "code",
      "execution_count": 1,
      "metadata": {
        "colab": {
          "base_uri": "https://localhost:8080/"
        },
        "id": "tVeLnz-9Ut03",
        "outputId": "ff8b7953-fb54-4f5c-f6d6-a9ee45820b31"
      },
      "outputs": [
        {
          "output_type": "stream",
          "name": "stdout",
          "text": [
            "Collecting indeterminatebeam\n",
            "  Downloading indeterminatebeam-2.4.0-py3-none-any.whl.metadata (12 kB)\n",
            "Requirement already satisfied: matplotlib in /usr/local/lib/python3.12/dist-packages (from indeterminatebeam) (3.10.0)\n",
            "Requirement already satisfied: numpy in /usr/local/lib/python3.12/dist-packages (from indeterminatebeam) (2.0.2)\n",
            "Requirement already satisfied: sympy>=1.10 in /usr/local/lib/python3.12/dist-packages (from indeterminatebeam) (1.13.3)\n",
            "Requirement already satisfied: plotly>=4.14.1 in /usr/local/lib/python3.12/dist-packages (from indeterminatebeam) (5.24.1)\n",
            "Requirement already satisfied: tenacity>=6.2.0 in /usr/local/lib/python3.12/dist-packages (from plotly>=4.14.1->indeterminatebeam) (8.5.0)\n",
            "Requirement already satisfied: packaging in /usr/local/lib/python3.12/dist-packages (from plotly>=4.14.1->indeterminatebeam) (25.0)\n",
            "Requirement already satisfied: mpmath<1.4,>=1.1.0 in /usr/local/lib/python3.12/dist-packages (from sympy>=1.10->indeterminatebeam) (1.3.0)\n",
            "Requirement already satisfied: contourpy>=1.0.1 in /usr/local/lib/python3.12/dist-packages (from matplotlib->indeterminatebeam) (1.3.3)\n",
            "Requirement already satisfied: cycler>=0.10 in /usr/local/lib/python3.12/dist-packages (from matplotlib->indeterminatebeam) (0.12.1)\n",
            "Requirement already satisfied: fonttools>=4.22.0 in /usr/local/lib/python3.12/dist-packages (from matplotlib->indeterminatebeam) (4.59.1)\n",
            "Requirement already satisfied: kiwisolver>=1.3.1 in /usr/local/lib/python3.12/dist-packages (from matplotlib->indeterminatebeam) (1.4.9)\n",
            "Requirement already satisfied: pillow>=8 in /usr/local/lib/python3.12/dist-packages (from matplotlib->indeterminatebeam) (11.3.0)\n",
            "Requirement already satisfied: pyparsing>=2.3.1 in /usr/local/lib/python3.12/dist-packages (from matplotlib->indeterminatebeam) (3.2.3)\n",
            "Requirement already satisfied: python-dateutil>=2.7 in /usr/local/lib/python3.12/dist-packages (from matplotlib->indeterminatebeam) (2.9.0.post0)\n",
            "Requirement already satisfied: six>=1.5 in /usr/local/lib/python3.12/dist-packages (from python-dateutil>=2.7->matplotlib->indeterminatebeam) (1.17.0)\n",
            "Downloading indeterminatebeam-2.4.0-py3-none-any.whl (34 kB)\n",
            "Installing collected packages: indeterminatebeam\n",
            "Successfully installed indeterminatebeam-2.4.0\n"
          ]
        }
      ],
      "source": [
        "# RUN THIS CELL FIRST TO INITIALISE GOOGLE NOTEBOOK!!!!\n",
        "!pip install indeterminatebeam\n",
        "%matplotlib inline\n",
        "\n",
        "# import beam and supports\n",
        "from indeterminatebeam import Beam, Support\n",
        "\n",
        "# import loads (all load types imported for reference)\n",
        "from indeterminatebeam import (\n",
        "    PointTorque,\n",
        "    PointLoad,\n",
        "    PointLoadV,\n",
        "    PointLoadH,\n",
        "    UDL,\n",
        "    UDLV,\n",
        "    UDLH,\n",
        "    TrapezoidalLoad,\n",
        "    TrapezoidalLoadV,\n",
        "    TrapezoidalLoadH,\n",
        "    DistributedLoad,\n",
        "    DistributedLoadV,\n",
        "    DistributedLoadH\n",
        ")\n",
        "\n",
        "# Note: load ending in V are vertical loads\n",
        "# load ending in H are horizontal loads\n",
        "# load not ending in either takes angle as an input (except torque)\n"
      ]
    },
    {
      "cell_type": "markdown",
      "metadata": {
        "id": "Ws1oDmG4Ut1G"
      },
      "source": [
        "## 2. Basic Usage (Readme example)"
      ]
    },
    {
      "cell_type": "markdown",
      "metadata": {
        "id": "0VeY-B73Ut1J"
      },
      "source": [
        "### 2.1 Basic Usage"
      ]
    },
    {
      "cell_type": "code",
      "execution_count": 3,
      "metadata": {
        "colab": {
          "base_uri": "https://localhost:8080/",
          "height": 1000
        },
        "id": "Ppk6kdoJUt1M",
        "outputId": "5de30859-483f-458e-c2a0-6af85b6206e6"
      },
      "outputs": [
        {
          "output_type": "display_data",
          "data": {
            "text/html": [
              "<html>\n",
              "<head><meta charset=\"utf-8\" /></head>\n",
              "<body>\n",
              "    <div>            <script src=\"https://cdnjs.cloudflare.com/ajax/libs/mathjax/2.7.5/MathJax.js?config=TeX-AMS-MML_SVG\"></script><script type=\"text/javascript\">if (window.MathJax && window.MathJax.Hub && window.MathJax.Hub.Config) {window.MathJax.Hub.Config({SVG: {font: \"STIX-Web\"}});}</script>                <script type=\"text/javascript\">window.PlotlyConfig = {MathJaxConfig: 'local'};</script>\n",
              "        <script charset=\"utf-8\" src=\"https://cdn.plot.ly/plotly-2.35.2.min.js\"></script>                <div id=\"15e0026a-0170-4e05-8ce1-4ffd2399db05\" class=\"plotly-graph-div\" style=\"height:550px; width:700px;\"></div>            <script type=\"text/javascript\">                                    window.PLOTLYENV=window.PLOTLYENV || {};                                    if (document.getElementById(\"15e0026a-0170-4e05-8ce1-4ffd2399db05\")) {                    Plotly.newPlot(                        \"15e0026a-0170-4e05-8ce1-4ffd2399db05\",                        [{\"hoverinfo\":\"skip\",\"hovertemplate\":\"%{x} %{meta[0]}\",\"line\":{\"color\":\"purple\",\"width\":2},\"meta\":[\"m\"],\"mode\":\"lines\",\"name\":\"Beam_\",\"x\":[0,10],\"y\":[0,0],\"type\":\"scatter\",\"xaxis\":\"x\",\"yaxis\":\"y\"},{\"hoverinfo\":\"skip\",\"hovertemplate\":\"x: %{x:.3f} %{meta[1]}\\u003cbr\\u003eFixed: %{meta[0]}\",\"marker\":{\"color\":\"blue\",\"size\":10,\"symbol\":\"triangle-up\"},\"meta\":[\"[0, 1, 0]\",\"m\"],\"mode\":\"markers\",\"name\":\"Support\",\"opacity\":0,\"showlegend\":false,\"x\":[2],\"y\":[0],\"type\":\"scatter\",\"xaxis\":\"x\",\"yaxis\":\"y\"},{\"fill\":\"toself\",\"hoverinfo\":\"skip\",\"marker\":{\"color\":\"blue\",\"size\":10,\"symbol\":\"arrow-up\"},\"mode\":\"markers\",\"name\":\"Support\",\"showlegend\":false,\"x\":[2],\"y\":[0],\"type\":\"scatter\",\"xaxis\":\"x\",\"yaxis\":\"y\"},{\"hoverinfo\":\"skip\",\"hovertemplate\":\"x: %{x:.3f} %{meta[1]}\\u003cbr\\u003eFixed: %{meta[0]}\",\"marker\":{\"color\":\"blue\",\"size\":10,\"symbol\":\"triangle-up\"},\"meta\":[\"[1, 1, 0]\",\"m\"],\"mode\":\"markers\",\"name\":\"Support\",\"opacity\":0,\"showlegend\":false,\"x\":[7],\"y\":[0],\"type\":\"scatter\",\"xaxis\":\"x\",\"yaxis\":\"y\"},{\"fill\":\"toself\",\"hoverinfo\":\"skip\",\"marker\":{\"color\":\"blue\",\"size\":10,\"symbol\":\"arrow-up\"},\"mode\":\"markers\",\"name\":\"Support\",\"showlegend\":false,\"x\":[7],\"y\":[0],\"type\":\"scatter\",\"xaxis\":\"x\",\"yaxis\":\"y\"},{\"hoverinfo\":\"skip\",\"hovertemplate\":\"x: %{x:.3f} %{meta[1]}\\u003cbr\\u003eFixed: %{meta[0]}\",\"marker\":{\"color\":\"blue\",\"size\":10,\"symbol\":\"triangle-up\"},\"meta\":[\"[1, 1, 1]\",\"m\"],\"mode\":\"markers\",\"name\":\"Support\",\"opacity\":0,\"showlegend\":false,\"x\":[10],\"y\":[0],\"type\":\"scatter\",\"xaxis\":\"x\",\"yaxis\":\"y\"},{\"hoverinfo\":\"skip\",\"hovertemplate\":\"x: %{meta[1]:.3f} %{meta[2]}\\u003cbr\\u003eForce: %{meta[0]:.3f} %{meta[3]}            \\u003cbr\\u003eAngle: %{meta[5]:.3f} deg\",\"marker\":{\"color\":\"red\",\"size\":10,\"symbol\":\"triangle-up\"},\"meta\":[2000,3,\"m\",\"N\",\"N.m\",90],\"mode\":\"markers\",\"name\":\"Point\\u003cbr\\u003eLoad\",\"opacity\":0,\"showlegend\":false,\"x\":[3],\"y\":[0],\"type\":\"scatter\",\"xaxis\":\"x\",\"yaxis\":\"y\"},{\"fill\":\"tozeroy\",\"hoverinfo\":\"skip\",\"hovertemplate\":\"\",\"line\":{\"color\":\"mediumpurple\",\"width\":1},\"mode\":\"lines\",\"name\":\"Distributed\\u003cbr\\u003eLoad\",\"x\":[2.0,2.01,2.02,2.03,2.04,2.05,2.06,2.07,2.08,2.09,2.1,2.11,2.12,2.13,2.14,2.15,2.16,2.17,2.18,2.19,2.2,2.21,2.22,2.23,2.24,2.25,2.26,2.27,2.2800000000000002,2.29,2.3,2.31,2.32,2.33,2.34,2.35,2.36,2.37,2.38,2.39,2.4,2.41,2.42,2.43,2.44,2.45,2.46,2.47,2.48,2.49,2.5,2.51,2.52,2.5300000000000002,2.54,2.55,2.56,2.5700000000000003,2.58,2.59,2.6,2.61,2.62,2.63,2.64,2.65,2.66,2.67,2.68,2.69,2.7,2.71,2.7199999999999998,2.73,2.74,2.75,2.76,2.77,2.7800000000000002,2.79,2.8,2.81,2.8200000000000003,2.83,2.84,2.85,2.86,2.87,2.88,2.89,2.9,2.91,2.92,2.93,2.94,2.95,2.96,2.9699999999999998,2.98,2.99,3.0,3.01,3.02,3.0300000000000002,3.04,3.05,3.06,3.0700000000000003,3.08,3.09,3.1,3.1100000000000003,3.12,3.13,3.14,3.1500000000000004,3.16,3.17,3.1799999999999997,3.19,3.2,3.21,3.2199999999999998,3.23,3.24,3.25,3.26,3.27,3.2800000000000002,3.29,3.3,3.31,3.3200000000000003,3.33,3.34,3.35,3.3600000000000003,3.37,3.38,3.39,3.4000000000000004,3.41,3.42,3.4299999999999997,3.44,3.45,3.46,3.4699999999999998,3.48,3.49,3.5,3.51,3.52,3.5300000000000002,3.54,3.55,3.56,3.5700000000000003,3.58,3.59,3.6,3.6100000000000003,3.62,3.63,3.64,3.6500000000000004,3.66,3.67,3.6799999999999997,3.69,3.7,3.71,3.7199999999999998,3.73,3.74,3.75,3.76,3.77,3.7800000000000002,3.79,3.8,3.81,3.8200000000000003,3.83,3.84,3.85,3.8600000000000003,3.87,3.88,3.89,3.9000000000000004,3.91,3.92,3.9299999999999997,3.94,3.95,3.96,3.9699999999999998,3.98,3.99,4.0,4.01,4.02,4.03,4.04,4.05,4.0600000000000005,4.07,4.08,4.09,4.1,4.109999999999999,4.12,4.13,4.140000000000001,4.15,4.16,4.17,4.18,4.1899999999999995,4.2,4.21,4.220000000000001,4.23,4.24,4.25,4.26,4.27,4.28,4.29,4.300000000000001,4.3100000000000005,4.32,4.33,4.34,4.35,4.359999999999999,4.37,4.38,4.390000000000001,4.4,4.41,4.42,4.43,4.4399999999999995,4.45,4.46,4.470000000000001,4.48,4.49,4.5,4.51,4.52,4.53,4.54,4.550000000000001,4.5600000000000005,4.57,4.58,4.59,4.6,4.609999999999999,4.62,4.63,4.640000000000001,4.65,4.66,4.67,4.68,4.6899999999999995,4.7,4.71,4.720000000000001,4.73,4.74,4.75,4.76,4.77,4.78,4.79,4.800000000000001,4.8100000000000005,4.82,4.83,4.84,4.85,4.859999999999999,4.87,4.88,4.890000000000001,4.9,4.91,4.92,4.93,4.9399999999999995,4.95,4.96,4.970000000000001,4.98,4.99,5.0,5.01,5.02,5.03,5.04,5.050000000000001,5.0600000000000005,5.07,5.08,5.09,5.1,5.109999999999999,5.12,5.13,5.140000000000001,5.15,5.16,5.17,5.18,5.1899999999999995,5.2,5.21,5.220000000000001,5.23,5.24,5.25,5.26,5.27,5.28,5.29,5.300000000000001,5.3100000000000005,5.32,5.33,5.34,5.35,5.359999999999999,5.37,5.38,5.390000000000001,5.4,5.41,5.42,5.43,5.4399999999999995,5.45,5.46,5.470000000000001,5.48,5.49,5.5,5.51,5.52,5.53,5.54,5.550000000000001,5.5600000000000005,5.57,5.58,5.59,5.6,5.609999999999999,5.62,5.63,5.640000000000001,5.65,5.66,5.67,5.68,5.6899999999999995,5.7,5.71,5.720000000000001,5.73,5.74,5.75,5.76,5.77,5.78,5.79,5.800000000000001,5.8100000000000005,5.82,5.83,5.84,5.85,5.859999999999999,5.87,5.88,5.890000000000001,5.9,5.91,5.92,5.93,5.9399999999999995,5.95,5.96,5.970000000000001,5.98,5.99,6.0],\"y\":[-1.0,-1.0,-1.0,-1.0,-1.0,-1.0,-1.0,-1.0,-1.0,-1.0,-1.0,-1.0,-1.0,-1.0,-1.0,-1.0,-1.0,-1.0,-1.0,-1.0,-1.0,-1.0,-1.0,-1.0,-1.0,-1.0,-1.0,-1.0,-1.0,-1.0,-1.0,-1.0,-1.0,-1.0,-1.0,-1.0,-1.0,-1.0,-1.0,-1.0,-1.0,-1.0,-1.0,-1.0,-1.0,-1.0,-1.0,-1.0,-1.0,-1.0,-1.0,-1.0,-1.0,-1.0,-1.0,-1.0,-1.0,-1.0,-1.0,-1.0,-1.0,-1.0,-1.0,-1.0,-1.0,-1.0,-1.0,-1.0,-1.0,-1.0,-1.0,-1.0,-1.0,-1.0,-1.0,-1.0,-1.0,-1.0,-1.0,-1.0,-1.0,-1.0,-1.0,-1.0,-1.0,-1.0,-1.0,-1.0,-1.0,-1.0,-1.0,-1.0,-1.0,-1.0,-1.0,-1.0,-1.0,-1.0,-1.0,-1.0,-1.0,-1.0,-1.0,-1.0,-1.0,-1.0,-1.0,-1.0,-1.0,-1.0,-1.0,-1.0,-1.0,-1.0,-1.0,-1.0,-1.0,-1.0,-1.0,-1.0,-1.0,-1.0,-1.0,-1.0,-1.0,-1.0,-1.0,-1.0,-1.0,-1.0,-1.0,-1.0,-1.0,-1.0,-1.0,-1.0,-1.0,-1.0,-1.0,-1.0,-1.0,-1.0,-1.0,-1.0,-1.0,-1.0,-1.0,-1.0,-1.0,-1.0,-1.0,-1.0,-1.0,-1.0,-1.0,-1.0,-1.0,-1.0,-1.0,-1.0,-1.0,-1.0,-1.0,-1.0,-1.0,-1.0,-1.0,-1.0,-1.0,-1.0,-1.0,-1.0,-1.0,-1.0,-1.0,-1.0,-1.0,-1.0,-1.0,-1.0,-1.0,-1.0,-1.0,-1.0,-1.0,-1.0,-1.0,-1.0,-1.0,-1.0,-1.0,-1.0,-1.0,-1.0,-1.0,-1.0,-1.0,-1.0,-1.0,-1.0,-1.0,-1.0,-1.0,-1.0,-1.0,-1.0,-1.0,-1.0,-1.0,-1.0,-1.0,-1.0,-1.0,-1.0,-1.0,-1.0,-1.0,-1.0,-1.0,-1.0,-1.0,-1.0,-1.0,-1.0,-1.0,-1.0,-1.0,-1.0,-1.0,-1.0,-1.0,-1.0,-1.0,-1.0,-1.0,-1.0,-1.0,-1.0,-1.0,-1.0,-1.0,-1.0,-1.0,-1.0,-1.0,-1.0,-1.0,-1.0,-1.0,-1.0,-1.0,-1.0,-1.0,-1.0,-1.0,-1.0,-1.0,-1.0,-1.0,-1.0,-1.0,-1.0,-1.0,-1.0,-1.0,-1.0,-1.0,-1.0,-1.0,-1.0,-1.0,-1.0,-1.0,-1.0,-1.0,-1.0,-1.0,-1.0,-1.0,-1.0,-1.0,-1.0,-1.0,-1.0,-1.0,-1.0,-1.0,-1.0,-1.0,-1.0,-1.0,-1.0,-1.0,-1.0,-1.0,-1.0,-1.0,-1.0,-1.0,-1.0,-1.0,-1.0,-1.0,-1.0,-1.0,-1.0,-1.0,-1.0,-1.0,-1.0,-1.0,-1.0,-1.0,-1.0,-1.0,-1.0,-1.0,-1.0,-1.0,-1.0,-1.0,-1.0,-1.0,-1.0,-1.0,-1.0,-1.0,-1.0,-1.0,-1.0,-1.0,-1.0,-1.0,-1.0,-1.0,-1.0,-1.0,-1.0,-1.0,-1.0,-1.0,-1.0,-1.0,-1.0,-1.0,-1.0,-1.0,-1.0,-1.0,-1.0,-1.0,-1.0,-1.0,-1.0,-1.0,-1.0,-1.0,-1.0,-1.0,-1.0,-1.0,-1.0,-1.0,-1.0,-1.0,-1.0,-1.0,-1.0,-1.0,-1.0,-1.0,-1.0,-1.0,-1.0,-1.0,-1.0,-1.0,-1.0,-1.0,-1.0,-1.0,-1.0,-1.0,-1.0,-1.0,-1.0,-1.0,-1.0,-1.0,-1.0,-1.0,-1.0,-1.0,-1.0,-1.0,-1.0,-1.0,-1.0,-1.0,-1.0,-1.0],\"type\":\"scatter\",\"xaxis\":\"x\",\"yaxis\":\"y\"},{\"hoverinfo\":\"skip\",\"hovertemplate\":\"x: %{meta[0]:.3f} %{meta[3]}\\u003cbr\\u003eForce: %{meta[1]:.3f} %{meta[4]}        \\u003cbr\\u003eAngle: %{meta[2]:.3f} deg\",\"marker\":{\"color\":\"mediumpurple\",\"size\":10,\"symbol\":\"triangle-up\"},\"meta\":[2,3000.0,90,\"m\",\"N\\u002fm\"],\"mode\":\"markers\",\"name\":\"Distributed\\u003cbr\\u003eLoad\",\"opacity\":0,\"showlegend\":false,\"x\":[2],\"y\":[0],\"type\":\"scatter\",\"xaxis\":\"x\",\"yaxis\":\"y\"},{\"hoverinfo\":\"skip\",\"hovertemplate\":\"x: %{meta[0]:.3f} %{meta[3]}\\u003cbr\\u003eForce: %{meta[1]:.3f} %{meta[4]}        \\u003cbr\\u003eAngle: %{meta[2]:.3f} deg\",\"marker\":{\"color\":\"mediumpurple\",\"size\":10,\"symbol\":\"triangle-up\"},\"meta\":[6,3000.0,90,\"m\",\"N\\u002fm\"],\"mode\":\"markers\",\"name\":\"Distributed\\u003cbr\\u003eLoad\",\"opacity\":0,\"showlegend\":false,\"x\":[6],\"y\":[0],\"type\":\"scatter\",\"xaxis\":\"x\",\"yaxis\":\"y\"},{\"hoverinfo\":\"skip\",\"hovertemplate\":\"x: %{meta[1]:.3f} %{meta[2]}\\u003cbr\\u003eMoment: %{meta[0]:.3f} %{meta[4]}\",\"marker\":{\"color\":\"magenta\",\"size\":10,\"symbol\":\"triangle-up\"},\"meta\":[3000,5.5,\"m\",\"N\",\"N.m\"],\"mode\":\"markers\",\"name\":\"Point\\u003cbr\\u003eTorque\",\"opacity\":0,\"showlegend\":false,\"x\":[5.5],\"y\":[0],\"type\":\"scatter\",\"xaxis\":\"x\",\"yaxis\":\"y\"},{\"hoverinfo\":\"skip\",\"hovertemplate\":\"%{x}\",\"line\":{\"color\":\"purple\",\"width\":2},\"mode\":\"lines\",\"name\":\"Beam\",\"x\":[0,10],\"y\":[0,0],\"type\":\"scatter\",\"xaxis\":\"x2\",\"yaxis\":\"y2\"},{\"hoverinfo\":\"skip\",\"hovertemplate\":\"Reactions\\u003cbr\\u003ex coord: %{x:.3f} %{meta[3]}\\u003cbr\\u003ey: %{meta[1]:.3f} %{meta[4]}\",\"marker\":{\"color\":\"red\",\"size\":10,\"symbol\":\"triangle-up\"},\"meta\":[0,-7039.3103448276,0,\"m\",\"N\",\"N.m\"],\"mode\":\"markers\",\"name\":\"Reaction\",\"opacity\":0,\"showlegend\":false,\"x\":[2],\"y\":[0],\"type\":\"scatter\",\"xaxis\":\"x2\",\"yaxis\":\"y2\"},{\"hoverinfo\":\"skip\",\"hovertemplate\":\"Reactions\\u003cbr\\u003ex coord: %{x:.3f} %{meta[3]}\\u003cbr\\u003ey: %{meta[1]:.3f} %{meta[4]}\",\"marker\":{\"color\":\"red\",\"size\":10,\"symbol\":\"triangle-up\"},\"meta\":[0.0,-9862.4137931034,0,\"m\",\"N\",\"N.m\"],\"mode\":\"markers\",\"name\":\"Reaction\",\"opacity\":0,\"showlegend\":false,\"x\":[7],\"y\":[0],\"type\":\"scatter\",\"xaxis\":\"x2\",\"yaxis\":\"y2\"},{\"hoverinfo\":\"skip\",\"hovertemplate\":\"Reactions\\u003cbr\\u003ex coord: %{x:.3f} %{meta[3]}\\u003cbr\\u003ey: %{meta[1]:.3f} %{meta[4]}\\u003cbr\\u003em: %{meta[2]:.3f} %{meta[5]}\",\"marker\":{\"color\":\"red\",\"size\":10,\"symbol\":\"triangle-up\"},\"meta\":[0.0,2901.724137931,-2901.724137931,\"m\",\"N\",\"N.m\"],\"mode\":\"markers\",\"name\":\"Reaction\",\"opacity\":0,\"showlegend\":false,\"x\":[10],\"y\":[0],\"type\":\"scatter\",\"xaxis\":\"x2\",\"yaxis\":\"y2\"}],                        {\"template\":{\"data\":{\"histogram2dcontour\":[{\"type\":\"histogram2dcontour\",\"colorbar\":{\"outlinewidth\":0,\"ticks\":\"\"},\"colorscale\":[[0.0,\"#0d0887\"],[0.1111111111111111,\"#46039f\"],[0.2222222222222222,\"#7201a8\"],[0.3333333333333333,\"#9c179e\"],[0.4444444444444444,\"#bd3786\"],[0.5555555555555556,\"#d8576b\"],[0.6666666666666666,\"#ed7953\"],[0.7777777777777778,\"#fb9f3a\"],[0.8888888888888888,\"#fdca26\"],[1.0,\"#f0f921\"]]}],\"choropleth\":[{\"type\":\"choropleth\",\"colorbar\":{\"outlinewidth\":0,\"ticks\":\"\"}}],\"histogram2d\":[{\"type\":\"histogram2d\",\"colorbar\":{\"outlinewidth\":0,\"ticks\":\"\"},\"colorscale\":[[0.0,\"#0d0887\"],[0.1111111111111111,\"#46039f\"],[0.2222222222222222,\"#7201a8\"],[0.3333333333333333,\"#9c179e\"],[0.4444444444444444,\"#bd3786\"],[0.5555555555555556,\"#d8576b\"],[0.6666666666666666,\"#ed7953\"],[0.7777777777777778,\"#fb9f3a\"],[0.8888888888888888,\"#fdca26\"],[1.0,\"#f0f921\"]]}],\"heatmap\":[{\"type\":\"heatmap\",\"colorbar\":{\"outlinewidth\":0,\"ticks\":\"\"},\"colorscale\":[[0.0,\"#0d0887\"],[0.1111111111111111,\"#46039f\"],[0.2222222222222222,\"#7201a8\"],[0.3333333333333333,\"#9c179e\"],[0.4444444444444444,\"#bd3786\"],[0.5555555555555556,\"#d8576b\"],[0.6666666666666666,\"#ed7953\"],[0.7777777777777778,\"#fb9f3a\"],[0.8888888888888888,\"#fdca26\"],[1.0,\"#f0f921\"]]}],\"heatmapgl\":[{\"type\":\"heatmapgl\",\"colorbar\":{\"outlinewidth\":0,\"ticks\":\"\"},\"colorscale\":[[0.0,\"#0d0887\"],[0.1111111111111111,\"#46039f\"],[0.2222222222222222,\"#7201a8\"],[0.3333333333333333,\"#9c179e\"],[0.4444444444444444,\"#bd3786\"],[0.5555555555555556,\"#d8576b\"],[0.6666666666666666,\"#ed7953\"],[0.7777777777777778,\"#fb9f3a\"],[0.8888888888888888,\"#fdca26\"],[1.0,\"#f0f921\"]]}],\"contourcarpet\":[{\"type\":\"contourcarpet\",\"colorbar\":{\"outlinewidth\":0,\"ticks\":\"\"}}],\"contour\":[{\"type\":\"contour\",\"colorbar\":{\"outlinewidth\":0,\"ticks\":\"\"},\"colorscale\":[[0.0,\"#0d0887\"],[0.1111111111111111,\"#46039f\"],[0.2222222222222222,\"#7201a8\"],[0.3333333333333333,\"#9c179e\"],[0.4444444444444444,\"#bd3786\"],[0.5555555555555556,\"#d8576b\"],[0.6666666666666666,\"#ed7953\"],[0.7777777777777778,\"#fb9f3a\"],[0.8888888888888888,\"#fdca26\"],[1.0,\"#f0f921\"]]}],\"surface\":[{\"type\":\"surface\",\"colorbar\":{\"outlinewidth\":0,\"ticks\":\"\"},\"colorscale\":[[0.0,\"#0d0887\"],[0.1111111111111111,\"#46039f\"],[0.2222222222222222,\"#7201a8\"],[0.3333333333333333,\"#9c179e\"],[0.4444444444444444,\"#bd3786\"],[0.5555555555555556,\"#d8576b\"],[0.6666666666666666,\"#ed7953\"],[0.7777777777777778,\"#fb9f3a\"],[0.8888888888888888,\"#fdca26\"],[1.0,\"#f0f921\"]]}],\"mesh3d\":[{\"type\":\"mesh3d\",\"colorbar\":{\"outlinewidth\":0,\"ticks\":\"\"}}],\"scatter\":[{\"fillpattern\":{\"fillmode\":\"overlay\",\"size\":10,\"solidity\":0.2},\"type\":\"scatter\"}],\"parcoords\":[{\"type\":\"parcoords\",\"line\":{\"colorbar\":{\"outlinewidth\":0,\"ticks\":\"\"}}}],\"scatterpolargl\":[{\"type\":\"scatterpolargl\",\"marker\":{\"colorbar\":{\"outlinewidth\":0,\"ticks\":\"\"}}}],\"bar\":[{\"error_x\":{\"color\":\"#2a3f5f\"},\"error_y\":{\"color\":\"#2a3f5f\"},\"marker\":{\"line\":{\"color\":\"#E5ECF6\",\"width\":0.5},\"pattern\":{\"fillmode\":\"overlay\",\"size\":10,\"solidity\":0.2}},\"type\":\"bar\"}],\"scattergeo\":[{\"type\":\"scattergeo\",\"marker\":{\"colorbar\":{\"outlinewidth\":0,\"ticks\":\"\"}}}],\"scatterpolar\":[{\"type\":\"scatterpolar\",\"marker\":{\"colorbar\":{\"outlinewidth\":0,\"ticks\":\"\"}}}],\"histogram\":[{\"marker\":{\"pattern\":{\"fillmode\":\"overlay\",\"size\":10,\"solidity\":0.2}},\"type\":\"histogram\"}],\"scattergl\":[{\"type\":\"scattergl\",\"marker\":{\"colorbar\":{\"outlinewidth\":0,\"ticks\":\"\"}}}],\"scatter3d\":[{\"type\":\"scatter3d\",\"line\":{\"colorbar\":{\"outlinewidth\":0,\"ticks\":\"\"}},\"marker\":{\"colorbar\":{\"outlinewidth\":0,\"ticks\":\"\"}}}],\"scattermapbox\":[{\"type\":\"scattermapbox\",\"marker\":{\"colorbar\":{\"outlinewidth\":0,\"ticks\":\"\"}}}],\"scatterternary\":[{\"type\":\"scatterternary\",\"marker\":{\"colorbar\":{\"outlinewidth\":0,\"ticks\":\"\"}}}],\"scattercarpet\":[{\"type\":\"scattercarpet\",\"marker\":{\"colorbar\":{\"outlinewidth\":0,\"ticks\":\"\"}}}],\"carpet\":[{\"aaxis\":{\"endlinecolor\":\"#2a3f5f\",\"gridcolor\":\"white\",\"linecolor\":\"white\",\"minorgridcolor\":\"white\",\"startlinecolor\":\"#2a3f5f\"},\"baxis\":{\"endlinecolor\":\"#2a3f5f\",\"gridcolor\":\"white\",\"linecolor\":\"white\",\"minorgridcolor\":\"white\",\"startlinecolor\":\"#2a3f5f\"},\"type\":\"carpet\"}],\"table\":[{\"cells\":{\"fill\":{\"color\":\"#EBF0F8\"},\"line\":{\"color\":\"white\"}},\"header\":{\"fill\":{\"color\":\"#C8D4E3\"},\"line\":{\"color\":\"white\"}},\"type\":\"table\"}],\"barpolar\":[{\"marker\":{\"line\":{\"color\":\"#E5ECF6\",\"width\":0.5},\"pattern\":{\"fillmode\":\"overlay\",\"size\":10,\"solidity\":0.2}},\"type\":\"barpolar\"}],\"pie\":[{\"automargin\":true,\"type\":\"pie\"}]},\"layout\":{\"autotypenumbers\":\"strict\",\"colorway\":[\"#636efa\",\"#EF553B\",\"#00cc96\",\"#ab63fa\",\"#FFA15A\",\"#19d3f3\",\"#FF6692\",\"#B6E880\",\"#FF97FF\",\"#FECB52\"],\"font\":{\"color\":\"#2a3f5f\"},\"hovermode\":\"closest\",\"hoverlabel\":{\"align\":\"left\"},\"paper_bgcolor\":\"white\",\"plot_bgcolor\":\"#E5ECF6\",\"polar\":{\"bgcolor\":\"#E5ECF6\",\"angularaxis\":{\"gridcolor\":\"white\",\"linecolor\":\"white\",\"ticks\":\"\"},\"radialaxis\":{\"gridcolor\":\"white\",\"linecolor\":\"white\",\"ticks\":\"\"}},\"ternary\":{\"bgcolor\":\"#E5ECF6\",\"aaxis\":{\"gridcolor\":\"white\",\"linecolor\":\"white\",\"ticks\":\"\"},\"baxis\":{\"gridcolor\":\"white\",\"linecolor\":\"white\",\"ticks\":\"\"},\"caxis\":{\"gridcolor\":\"white\",\"linecolor\":\"white\",\"ticks\":\"\"}},\"coloraxis\":{\"colorbar\":{\"outlinewidth\":0,\"ticks\":\"\"}},\"colorscale\":{\"sequential\":[[0.0,\"#0d0887\"],[0.1111111111111111,\"#46039f\"],[0.2222222222222222,\"#7201a8\"],[0.3333333333333333,\"#9c179e\"],[0.4444444444444444,\"#bd3786\"],[0.5555555555555556,\"#d8576b\"],[0.6666666666666666,\"#ed7953\"],[0.7777777777777778,\"#fb9f3a\"],[0.8888888888888888,\"#fdca26\"],[1.0,\"#f0f921\"]],\"sequentialminus\":[[0.0,\"#0d0887\"],[0.1111111111111111,\"#46039f\"],[0.2222222222222222,\"#7201a8\"],[0.3333333333333333,\"#9c179e\"],[0.4444444444444444,\"#bd3786\"],[0.5555555555555556,\"#d8576b\"],[0.6666666666666666,\"#ed7953\"],[0.7777777777777778,\"#fb9f3a\"],[0.8888888888888888,\"#fdca26\"],[1.0,\"#f0f921\"]],\"diverging\":[[0,\"#8e0152\"],[0.1,\"#c51b7d\"],[0.2,\"#de77ae\"],[0.3,\"#f1b6da\"],[0.4,\"#fde0ef\"],[0.5,\"#f7f7f7\"],[0.6,\"#e6f5d0\"],[0.7,\"#b8e186\"],[0.8,\"#7fbc41\"],[0.9,\"#4d9221\"],[1,\"#276419\"]]},\"xaxis\":{\"gridcolor\":\"white\",\"linecolor\":\"white\",\"ticks\":\"\",\"title\":{\"standoff\":15},\"zerolinecolor\":\"white\",\"automargin\":true,\"zerolinewidth\":2},\"yaxis\":{\"gridcolor\":\"white\",\"linecolor\":\"white\",\"ticks\":\"\",\"title\":{\"standoff\":15},\"zerolinecolor\":\"white\",\"automargin\":true,\"zerolinewidth\":2},\"scene\":{\"xaxis\":{\"backgroundcolor\":\"#E5ECF6\",\"gridcolor\":\"white\",\"linecolor\":\"white\",\"showbackground\":true,\"ticks\":\"\",\"zerolinecolor\":\"white\",\"gridwidth\":2},\"yaxis\":{\"backgroundcolor\":\"#E5ECF6\",\"gridcolor\":\"white\",\"linecolor\":\"white\",\"showbackground\":true,\"ticks\":\"\",\"zerolinecolor\":\"white\",\"gridwidth\":2},\"zaxis\":{\"backgroundcolor\":\"#E5ECF6\",\"gridcolor\":\"white\",\"linecolor\":\"white\",\"showbackground\":true,\"ticks\":\"\",\"zerolinecolor\":\"white\",\"gridwidth\":2}},\"shapedefaults\":{\"line\":{\"color\":\"#2a3f5f\"}},\"annotationdefaults\":{\"arrowcolor\":\"#2a3f5f\",\"arrowhead\":0,\"arrowwidth\":1},\"geo\":{\"bgcolor\":\"white\",\"landcolor\":\"#E5ECF6\",\"subunitcolor\":\"white\",\"showland\":true,\"showlakes\":true,\"lakecolor\":\"white\"},\"title\":{\"x\":0.05},\"mapbox\":{\"style\":\"light\"}}},\"xaxis\":{\"anchor\":\"y\",\"domain\":[0.0,1.0],\"matches\":\"x2\",\"showticklabels\":false},\"yaxis\":{\"anchor\":\"x\",\"domain\":[0.55,1.0],\"visible\":false,\"range\":[-3,3],\"fixedrange\":true},\"xaxis2\":{\"anchor\":\"y2\",\"domain\":[0.0,1.0],\"title\":{\"text\":\"Beam Length (m)\"}},\"yaxis2\":{\"anchor\":\"x2\",\"domain\":[0.0,0.45],\"visible\":false,\"range\":[-3,3],\"fixedrange\":true},\"annotations\":[{\"font\":{\"size\":16},\"showarrow\":false,\"text\":\"Beam schematic\",\"x\":0.5,\"xanchor\":\"center\",\"xref\":\"paper\",\"y\":1.0,\"yanchor\":\"bottom\",\"yref\":\"paper\"},{\"font\":{\"size\":16},\"showarrow\":false,\"text\":\"Reaction Forces\",\"x\":0.5,\"xanchor\":\"center\",\"xref\":\"paper\",\"y\":0.45,\"yanchor\":\"bottom\",\"yref\":\"paper\"},{\"font\":{\"color\":\"red\"},\"showarrow\":false,\"text\":\"2000.000 N\",\"x\":3,\"xref\":\"x\",\"xshift\":0.0,\"y\":0,\"yref\":\"y\",\"yshift\":-52.0},{\"font\":{\"color\":\"mediumpurple\"},\"showarrow\":false,\"text\":\"3000.000 N\\u002fm\",\"x\":2.0,\"xref\":\"x\",\"xshift\":0.0,\"y\":0,\"yref\":\"y\",\"yshift\":-39.0},{\"font\":{\"color\":\"mediumpurple\"},\"showarrow\":false,\"text\":\"3000.000 N\\u002fm\",\"x\":6.0,\"xref\":\"x\",\"xshift\":0.0,\"y\":0,\"yref\":\"y\",\"yshift\":-39.0},{\"font\":{\"color\":\"magenta\",\"size\":26},\"showarrow\":false,\"text\":\"⭯\",\"x\":5.5,\"xref\":\"x\",\"y\":0,\"yref\":\"y\",\"yshift\":0},{\"font\":{\"color\":\"magenta\"},\"showarrow\":false,\"text\":\"3000.000 N.m\",\"x\":5.5,\"xref\":\"x\",\"y\":0,\"yref\":\"y\",\"yshift\":-20},{\"font\":{\"color\":\"red\"},\"showarrow\":false,\"text\":\"-7039.310 N\",\"x\":2,\"xref\":\"x2\",\"xshift\":0.0,\"y\":0,\"yref\":\"y2\",\"yshift\":52.0},{\"font\":{\"color\":\"red\"},\"showarrow\":false,\"text\":\"-9862.414 N\",\"x\":7,\"xref\":\"x2\",\"xshift\":0.0,\"y\":0,\"yref\":\"y2\",\"yshift\":52.0},{\"font\":{\"color\":\"red\"},\"showarrow\":false,\"text\":\"2901.724 N\",\"x\":10,\"xref\":\"x2\",\"xshift\":0.0,\"y\":0,\"yref\":\"y2\",\"yshift\":-52.0},{\"font\":{\"color\":\"magenta\",\"size\":26},\"showarrow\":false,\"text\":\"⭮\",\"x\":10,\"xref\":\"x2\",\"y\":0,\"yref\":\"y2\",\"yshift\":0},{\"font\":{\"color\":\"magenta\"},\"showarrow\":false,\"text\":\"-2901.724 N.m\",\"x\":10,\"xref\":\"x2\",\"y\":0,\"yref\":\"y2\",\"yshift\":-20}],\"shapes\":[{\"fillcolor\":\"blue\",\"line\":{\"color\":\"blue\"},\"type\":\"circle\",\"x0\":-1,\"x1\":1,\"xanchor\":2,\"xref\":\"x\",\"xsizemode\":\"pixel\",\"y0\":-14,\"y1\":-12,\"yanchor\":0,\"yref\":\"y\",\"ysizemode\":\"pixel\"},{\"fillcolor\":\"blue\",\"line\":{\"color\":\"blue\"},\"type\":\"circle\",\"x0\":-5,\"x1\":-3,\"xanchor\":2,\"xref\":\"x\",\"xsizemode\":\"pixel\",\"y0\":-14,\"y1\":-12,\"yanchor\":0,\"yref\":\"y\",\"ysizemode\":\"pixel\"},{\"fillcolor\":\"blue\",\"line\":{\"color\":\"blue\"},\"type\":\"circle\",\"x0\":3,\"x1\":5,\"xanchor\":2,\"xref\":\"x\",\"xsizemode\":\"pixel\",\"y0\":-14,\"y1\":-12,\"yanchor\":0,\"yref\":\"y\",\"ysizemode\":\"pixel\"},{\"fillcolor\":\"blue\",\"line\":{\"color\":\"blue\",\"width\":4},\"type\":\"rect\",\"x0\":-2,\"x1\":-2,\"xanchor\":10,\"xref\":\"x\",\"xsizemode\":\"pixel\",\"y0\":-5,\"y1\":5,\"yanchor\":0,\"yref\":\"y\",\"ysizemode\":\"pixel\"},{\"line\":{\"color\":\"red\",\"width\":2},\"type\":\"line\",\"x0\":0,\"x1\":3,\"xanchor\":3,\"xref\":\"x\",\"xsizemode\":\"pixel\",\"y0\":0,\"y1\":-3,\"yanchor\":0,\"yref\":\"y\",\"ysizemode\":\"pixel\"},{\"line\":{\"color\":\"red\",\"width\":2},\"type\":\"line\",\"x0\":0,\"x1\":-3,\"xanchor\":3,\"xref\":\"x\",\"xsizemode\":\"pixel\",\"y0\":0,\"y1\":-3,\"yanchor\":0,\"yref\":\"y\",\"ysizemode\":\"pixel\"},{\"line\":{\"color\":\"red\",\"width\":2},\"type\":\"line\",\"x0\":0,\"x1\":0,\"xanchor\":3,\"xref\":\"x\",\"xsizemode\":\"pixel\",\"y0\":0,\"y1\":-40,\"yanchor\":0,\"yref\":\"y\",\"ysizemode\":\"pixel\"},{\"line\":{\"color\":\"mediumpurple\",\"width\":2},\"type\":\"line\",\"x0\":0,\"x1\":3,\"xanchor\":2.0,\"xref\":\"x\",\"xsizemode\":\"pixel\",\"y0\":0,\"y1\":-3,\"yanchor\":0,\"yref\":\"y\",\"ysizemode\":\"pixel\"},{\"line\":{\"color\":\"mediumpurple\",\"width\":2},\"type\":\"line\",\"x0\":0,\"x1\":-3,\"xanchor\":2.0,\"xref\":\"x\",\"xsizemode\":\"pixel\",\"y0\":0,\"y1\":-3,\"yanchor\":0,\"yref\":\"y\",\"ysizemode\":\"pixel\"},{\"line\":{\"color\":\"mediumpurple\",\"width\":2},\"type\":\"line\",\"x0\":0,\"x1\":0,\"xanchor\":2.0,\"xref\":\"x\",\"xsizemode\":\"pixel\",\"y0\":0,\"y1\":-30,\"yanchor\":0,\"yref\":\"y\",\"ysizemode\":\"pixel\"},{\"line\":{\"color\":\"mediumpurple\",\"width\":2},\"type\":\"line\",\"x0\":0,\"x1\":3,\"xanchor\":6.0,\"xref\":\"x\",\"xsizemode\":\"pixel\",\"y0\":0,\"y1\":-3,\"yanchor\":0,\"yref\":\"y\",\"ysizemode\":\"pixel\"},{\"line\":{\"color\":\"mediumpurple\",\"width\":2},\"type\":\"line\",\"x0\":0,\"x1\":-3,\"xanchor\":6.0,\"xref\":\"x\",\"xsizemode\":\"pixel\",\"y0\":0,\"y1\":-3,\"yanchor\":0,\"yref\":\"y\",\"ysizemode\":\"pixel\"},{\"line\":{\"color\":\"mediumpurple\",\"width\":2},\"type\":\"line\",\"x0\":0,\"x1\":0,\"xanchor\":6.0,\"xref\":\"x\",\"xsizemode\":\"pixel\",\"y0\":0,\"y1\":-30,\"yanchor\":0,\"yref\":\"y\",\"ysizemode\":\"pixel\"},{\"line\":{\"color\":\"red\",\"width\":2},\"type\":\"line\",\"x0\":0,\"x1\":-3,\"xanchor\":2,\"xref\":\"x2\",\"xsizemode\":\"pixel\",\"y0\":0,\"y1\":3,\"yanchor\":0,\"yref\":\"y2\",\"ysizemode\":\"pixel\"},{\"line\":{\"color\":\"red\",\"width\":2},\"type\":\"line\",\"x0\":0,\"x1\":3,\"xanchor\":2,\"xref\":\"x2\",\"xsizemode\":\"pixel\",\"y0\":0,\"y1\":3,\"yanchor\":0,\"yref\":\"y2\",\"ysizemode\":\"pixel\"},{\"line\":{\"color\":\"red\",\"width\":2},\"type\":\"line\",\"x0\":0,\"x1\":0,\"xanchor\":2,\"xref\":\"x2\",\"xsizemode\":\"pixel\",\"y0\":0,\"y1\":40,\"yanchor\":0,\"yref\":\"y2\",\"ysizemode\":\"pixel\"},{\"line\":{\"color\":\"red\",\"width\":2},\"type\":\"line\",\"x0\":0,\"x1\":-3,\"xanchor\":7,\"xref\":\"x2\",\"xsizemode\":\"pixel\",\"y0\":0,\"y1\":3,\"yanchor\":0,\"yref\":\"y2\",\"ysizemode\":\"pixel\"},{\"line\":{\"color\":\"red\",\"width\":2},\"type\":\"line\",\"x0\":0,\"x1\":3,\"xanchor\":7,\"xref\":\"x2\",\"xsizemode\":\"pixel\",\"y0\":0,\"y1\":3,\"yanchor\":0,\"yref\":\"y2\",\"ysizemode\":\"pixel\"},{\"line\":{\"color\":\"red\",\"width\":2},\"type\":\"line\",\"x0\":0,\"x1\":0,\"xanchor\":7,\"xref\":\"x2\",\"xsizemode\":\"pixel\",\"y0\":0,\"y1\":40,\"yanchor\":0,\"yref\":\"y2\",\"ysizemode\":\"pixel\"},{\"line\":{\"color\":\"red\",\"width\":2},\"type\":\"line\",\"x0\":0,\"x1\":3,\"xanchor\":10,\"xref\":\"x2\",\"xsizemode\":\"pixel\",\"y0\":0,\"y1\":-3,\"yanchor\":0,\"yref\":\"y2\",\"ysizemode\":\"pixel\"},{\"line\":{\"color\":\"red\",\"width\":2},\"type\":\"line\",\"x0\":0,\"x1\":-3,\"xanchor\":10,\"xref\":\"x2\",\"xsizemode\":\"pixel\",\"y0\":0,\"y1\":-3,\"yanchor\":0,\"yref\":\"y2\",\"ysizemode\":\"pixel\"},{\"line\":{\"color\":\"red\",\"width\":2},\"type\":\"line\",\"x0\":0,\"x1\":0,\"xanchor\":10,\"xref\":\"x2\",\"xsizemode\":\"pixel\",\"y0\":0,\"y1\":-40,\"yanchor\":0,\"yref\":\"y2\",\"ysizemode\":\"pixel\"}],\"title\":{\"font\":{\"size\":24},\"text\":\"Beam External Conditions\",\"x\":0.5},\"height\":550,\"width\":700,\"showlegend\":false,\"hovermode\":\"x\"},                        {\"responsive\": true}                    ).then(function(){\n",
              "                            \n",
              "var gd = document.getElementById('15e0026a-0170-4e05-8ce1-4ffd2399db05');\n",
              "var x = new MutationObserver(function (mutations, observer) {{\n",
              "        var display = window.getComputedStyle(gd).display;\n",
              "        if (!display || display === 'none') {{\n",
              "            console.log([gd, 'removed!']);\n",
              "            Plotly.purge(gd);\n",
              "            observer.disconnect();\n",
              "        }}\n",
              "}});\n",
              "\n",
              "// Listen for the removal of the full notebook cells\n",
              "var notebookContainer = gd.closest('#notebook-container');\n",
              "if (notebookContainer) {{\n",
              "    x.observe(notebookContainer, {childList: true});\n",
              "}}\n",
              "\n",
              "// Listen for the clearing of the current output cell\n",
              "var outputEl = gd.closest('.output');\n",
              "if (outputEl) {{\n",
              "    x.observe(outputEl, {childList: true});\n",
              "}}\n",
              "\n",
              "                        })                };                            </script>        </div>\n",
              "</body>\n",
              "</html>"
            ]
          },
          "metadata": {}
        },
        {
          "output_type": "display_data",
          "data": {
            "text/html": [
              "<html>\n",
              "<head><meta charset=\"utf-8\" /></head>\n",
              "<body>\n",
              "    <div>            <script src=\"https://cdnjs.cloudflare.com/ajax/libs/mathjax/2.7.5/MathJax.js?config=TeX-AMS-MML_SVG\"></script><script type=\"text/javascript\">if (window.MathJax && window.MathJax.Hub && window.MathJax.Hub.Config) {window.MathJax.Hub.Config({SVG: {font: \"STIX-Web\"}});}</script>                <script type=\"text/javascript\">window.PlotlyConfig = {MathJaxConfig: 'local'};</script>\n",
              "        <script charset=\"utf-8\" src=\"https://cdn.plot.ly/plotly-2.35.2.min.js\"></script>                <div id=\"176a0d99-b0e5-47b8-a234-94600895055c\" class=\"plotly-graph-div\" style=\"height:1000px; width:700px;\"></div>            <script type=\"text/javascript\">                                    window.PLOTLYENV=window.PLOTLYENV || {};                                    if (document.getElementById(\"176a0d99-b0e5-47b8-a234-94600895055c\")) {                    Plotly.newPlot(                        \"176a0d99-b0e5-47b8-a234-94600895055c\",                        [{\"fill\":\"tozeroy\",\"hovertemplate\":\"x: %{x:.3f} %{meta[0]}\\u003cbr\\u003ef(x): %{y:.3f} %{meta[1]}\",\"line\":{\"color\":\"red\",\"width\":1},\"meta\":[\"m\",\"N\"],\"mode\":\"lines\",\"name\":\"Normal Force\",\"x\":[0.0,0.05025125628140704,0.10050251256281408,0.15075376884422112,0.20100502512562815,0.2512562814070352,0.30150753768844224,0.35175879396984927,0.4020100502512563,0.45226130653266333,0.5025125628140704,0.5527638190954774,0.6030150753768845,0.6532663316582915,0.7035175879396985,0.7537688442211056,0.8040201005025126,0.8542713567839196,0.9045226130653267,0.9547738693467337,1.0050251256281408,1.0552763819095479,1.105527638190955,1.155778894472362,1.206030150753769,1.256281407035176,1.306532663316583,1.35678391959799,1.407035175879397,1.4572864321608041,1.5075376884422111,1.5577889447236182,1.6080402010050252,1.6582914572864322,1.7085427135678393,1.7587939698492463,1.8090452261306533,1.8592964824120604,1.9095477386934674,1.9597989949748744,1.9999999,2.0000001,2.0100502512562817,2.0603015075376887,2.1105527638190957,2.1608040201005028,2.21105527638191,2.261306532663317,2.311557788944724,2.361809045226131,2.412060301507538,2.462311557788945,2.512562814070352,2.562814070351759,2.613065326633166,2.663316582914573,2.71356783919598,2.763819095477387,2.814070351758794,2.864321608040201,2.9145728643216082,2.9648241206030153,2.9999999,3.0000001,3.0150753768844223,3.0653266331658293,3.1155778894472363,3.1658291457286434,3.2160804020100504,3.2663316582914574,3.3165829145728645,3.3668341708542715,3.4170854271356785,3.4673366834170856,3.5175879396984926,3.5678391959798996,3.6180904522613067,3.6683417085427137,3.7185929648241207,3.7688442211055277,3.819095477386935,3.869346733668342,3.919597989949749,3.969849246231156,4.020100502512563,4.07035175879397,4.120603015075377,4.170854271356784,4.2211055276381915,4.2713567839195985,4.3216080402010055,4.371859296482413,4.42211055276382,4.472361809045227,4.522613065326634,4.572864321608041,4.623115577889448,4.673366834170855,4.723618090452262,4.773869346733669,4.824120603015076,4.874371859296483,4.92462311557789,4.974874371859297,5.025125628140704,5.075376884422111,5.125628140703518,5.175879396984925,5.226130653266332,5.276381909547739,5.326633165829146,5.376884422110553,5.42713567839196,5.477386934673367,5.4999999,5.5000001,5.527638190954774,5.577889447236181,5.628140703517588,5.678391959798995,5.728643216080402,5.778894472361809,5.8291457286432165,5.8793969849246235,5.9296482412060305,5.9798994974874375,5.9999999,6.0000001,6.030150753768845,6.080402010050252,6.130653266331659,6.180904522613066,6.231155778894473,6.28140703517588,6.331658291457287,6.381909547738694,6.432160804020101,6.482412060301508,6.532663316582915,6.582914572864322,6.633165829145729,6.683417085427136,6.733668341708543,6.78391959798995,6.834170854271357,6.884422110552764,6.934673366834171,6.984924623115578,6.9999999,7.0000001,7.035175879396985,7.085427135678392,7.135678391959799,7.185929648241206,7.236180904522613,7.28643216080402,7.336683417085427,7.386934673366834,7.437185929648241,7.4874371859296485,7.5376884422110555,7.5879396984924625,7.63819095477387,7.688442211055277,7.738693467336684,7.788944723618091,7.839195979899498,7.889447236180905,7.939698492462312,7.989949748743719,8.040201005025127,8.090452261306533,8.14070351758794,8.190954773869347,8.241206030150755,8.291457286432161,8.341708542713569,8.391959798994975,8.442211055276383,8.492462311557789,8.542713567839197,8.592964824120603,8.643216080402011,8.693467336683417,8.743718592964825,8.793969849246231,8.84422110552764,8.894472361809045,8.944723618090453,8.99497487437186,9.045226130653267,9.095477386934673,9.145728643216081,9.195979899497488,9.246231155778895,9.296482412060302,9.34673366834171,9.396984924623116,9.447236180904524,9.49748743718593,9.547738693467338,9.597989949748744,9.648241206030152,9.698492462311558,9.748743718592966,9.798994974874372,9.84924623115578,9.899497487437186,9.949748743718594,9.9999999,10.0],\"y\":[0.0,0.0,0.0,0.0,0.0,0.0,0.0,0.0,0.0,0.0,0.0,0.0,0.0,0.0,0.0,0.0,0.0,0.0,0.0,0.0,0.0,0.0,0.0,0.0,0.0,0.0,0.0,0.0,0.0,0.0,0.0,0.0,0.0,0.0,0.0,0.0,0.0,0.0,0.0,0.0,0.0,0.0,0.0,0.0,0.0,0.0,0.0,0.0,0.0,0.0,0.0,0.0,0.0,0.0,0.0,0.0,0.0,0.0,0.0,0.0,0.0,0.0,0.0,0.0,0.0,0.0,0.0,0.0,0.0,0.0,0.0,0.0,0.0,0.0,0.0,0.0,0.0,0.0,0.0,0.0,0.0,0.0,0.0,0.0,0.0,0.0,0.0,0.0,0.0,0.0,0.0,0.0,0.0,0.0,0.0,0.0,0.0,0.0,0.0,0.0,0.0,0.0,0.0,0.0,0.0,0.0,0.0,0.0,0.0,0.0,0.0,0.0,0.0,0.0,0.0,0.0,0.0,0.0,0.0,0.0,0.0,0.0,0.0,0.0,0.0,0.0,0.0,0.0,0.0,0.0,0.0,0.0,0.0,0.0,0.0,0.0,0.0,0.0,0.0,0.0,0.0,0.0,0.0,0.0,0.0,0.0,0.0,0.0,0.0,0.0,0.0,0.0,0.0,0.0,0.0,0.0,0.0,0.0,0.0,0.0,0.0,0.0,0.0,0.0,0.0,0.0,0.0,0.0,0.0,0.0,0.0,0.0,0.0,0.0,0.0,0.0,0.0,0.0,0.0,0.0,0.0,0.0,0.0,0.0,0.0,0.0,0.0,0.0,0.0,0.0,0.0,0.0,0.0,0.0,0.0,0.0,0.0,0.0,0.0,0.0,0.0,0.0,0.0,0.0,0.0,0.0,0.0,0.0,0.0,0.0,0.0],\"type\":\"scatter\",\"xaxis\":\"x\",\"yaxis\":\"y\"},{\"fill\":\"tozeroy\",\"hovertemplate\":\"x: %{x:.3f} %{meta[0]}\\u003cbr\\u003ef(x): %{y:.3f} %{meta[1]}\",\"line\":{\"color\":\"aqua\",\"width\":1},\"meta\":[\"m\",\"N\"],\"mode\":\"lines\",\"name\":\"Shear Force\",\"x\":[0.0,0.05025125628140704,0.10050251256281408,0.15075376884422112,0.20100502512562815,0.2512562814070352,0.30150753768844224,0.35175879396984927,0.4020100502512563,0.45226130653266333,0.5025125628140704,0.5527638190954774,0.6030150753768845,0.6532663316582915,0.7035175879396985,0.7537688442211056,0.8040201005025126,0.8542713567839196,0.9045226130653267,0.9547738693467337,1.0050251256281408,1.0552763819095479,1.105527638190955,1.155778894472362,1.206030150753769,1.256281407035176,1.306532663316583,1.35678391959799,1.407035175879397,1.4572864321608041,1.5075376884422111,1.5577889447236182,1.6080402010050252,1.6582914572864322,1.7085427135678393,1.7587939698492463,1.8090452261306533,1.8592964824120604,1.9095477386934674,1.9597989949748744,1.9999999,2.0000001,2.0100502512562817,2.0603015075376887,2.1105527638190957,2.1608040201005028,2.21105527638191,2.261306532663317,2.311557788944724,2.361809045226131,2.412060301507538,2.462311557788945,2.512562814070352,2.562814070351759,2.613065326633166,2.663316582914573,2.71356783919598,2.763819095477387,2.814070351758794,2.864321608040201,2.9145728643216082,2.9648241206030153,2.9999999,3.0000001,3.0150753768844223,3.0653266331658293,3.1155778894472363,3.1658291457286434,3.2160804020100504,3.2663316582914574,3.3165829145728645,3.3668341708542715,3.4170854271356785,3.4673366834170856,3.5175879396984926,3.5678391959798996,3.6180904522613067,3.6683417085427137,3.7185929648241207,3.7688442211055277,3.819095477386935,3.869346733668342,3.919597989949749,3.969849246231156,4.020100502512563,4.07035175879397,4.120603015075377,4.170854271356784,4.2211055276381915,4.2713567839195985,4.3216080402010055,4.371859296482413,4.42211055276382,4.472361809045227,4.522613065326634,4.572864321608041,4.623115577889448,4.673366834170855,4.723618090452262,4.773869346733669,4.824120603015076,4.874371859296483,4.92462311557789,4.974874371859297,5.025125628140704,5.075376884422111,5.125628140703518,5.175879396984925,5.226130653266332,5.276381909547739,5.326633165829146,5.376884422110553,5.42713567839196,5.477386934673367,5.4999999,5.5000001,5.527638190954774,5.577889447236181,5.628140703517588,5.678391959798995,5.728643216080402,5.778894472361809,5.8291457286432165,5.8793969849246235,5.9296482412060305,5.9798994974874375,5.9999999,6.0000001,6.030150753768845,6.080402010050252,6.130653266331659,6.180904522613066,6.231155778894473,6.28140703517588,6.331658291457287,6.381909547738694,6.432160804020101,6.482412060301508,6.532663316582915,6.582914572864322,6.633165829145729,6.683417085427136,6.733668341708543,6.78391959798995,6.834170854271357,6.884422110552764,6.934673366834171,6.984924623115578,6.9999999,7.0000001,7.035175879396985,7.085427135678392,7.135678391959799,7.185929648241206,7.236180904522613,7.28643216080402,7.336683417085427,7.386934673366834,7.437185929648241,7.4874371859296485,7.5376884422110555,7.5879396984924625,7.63819095477387,7.688442211055277,7.738693467336684,7.788944723618091,7.839195979899498,7.889447236180905,7.939698492462312,7.989949748743719,8.040201005025127,8.090452261306533,8.14070351758794,8.190954773869347,8.241206030150755,8.291457286432161,8.341708542713569,8.391959798994975,8.442211055276383,8.492462311557789,8.542713567839197,8.592964824120603,8.643216080402011,8.693467336683417,8.743718592964825,8.793969849246231,8.84422110552764,8.894472361809045,8.944723618090453,8.99497487437186,9.045226130653267,9.095477386934673,9.145728643216081,9.195979899497488,9.246231155778895,9.296482412060302,9.34673366834171,9.396984924623116,9.447236180904524,9.49748743718593,9.547738693467338,9.597989949748744,9.648241206030152,9.698492462311558,9.748743718592966,9.798994974874372,9.84924623115578,9.899497487437186,9.949748743718594,9.9999999,10.0],\"y\":[0.0,0.0,0.0,0.0,0.0,0.0,0.0,0.0,0.0,0.0,0.0,0.0,0.0,0.0,0.0,0.0,0.0,0.0,0.0,0.0,0.0,0.0,0.0,0.0,0.0,0.0,0.0,0.0,0.0,0.0,0.0,0.0,0.0,0.0,0.0,0.0,0.0,0.0,0.0,0.0,0.0,-7039.31004482759,-7009.159591058745,-6858.405822214523,-6707.652053370302,-6556.898284526082,-6406.14451568186,-6255.390746837639,-6104.636977993418,-5953.883209149197,-5803.129440304976,-5652.375671460755,-5501.621902616534,-5350.868133772313,-5200.114364928091,-5049.36059608387,-4898.60682723965,-4747.853058395428,-4597.099289551207,-4446.3455207069865,-4295.591751862766,-4144.837983018543,-4039.3106448275894,-2039.31004482759,-1994.0842141743224,-1843.3304453301016,-1692.5766764858809,-1541.82290764166,-1391.0691387974393,-1240.3153699532168,-1089.561601108996,-938.8078322647752,-788.0540634205545,-637.3002945763337,-486.54652573211115,-335.7927568878904,-185.03898804366963,-34.285219199448875,116.46854964477188,267.22231848899446,417.9760873332152,568.729856177436,719.4836250216567,870.2373938658775,1020.9911627101001,1171.7449315543208,1322.4987003985434,1473.2524692427642,1624.006238086985,1774.7600069312057,1925.5137757754264,2076.267544619647,2227.02131346387,2377.7750823080905,2528.5288511523113,2679.282619996532,2830.036388840753,2980.7901576849754,3131.543926529196,3282.297695373417,3433.0514642176377,3583.8052330618584,3734.559001906079,3885.3127707503018,4036.0665395945225,4186.820308438743,4337.574077282964,4488.327846127185,4639.081614971407,4789.835383815628,4940.589152659849,5091.34292150407,5242.09669034829,5392.850459192513,5460.689355172411,5460.68995517241,5543.604228036734,5694.3579968809545,5845.111765725175,5995.865534569396,6146.619303413617,6297.3730722578375,6448.126841102058,6598.880609946279,6749.634378790503,6900.388147634724,6960.689355172411,6960.68965517241,6960.68965517241,6960.68965517241,6960.68965517241,6960.68965517241,6960.68965517241,6960.68965517241,6960.68965517241,6960.68965517241,6960.68965517241,6960.68965517241,6960.68965517241,6960.68965517241,6960.68965517241,6960.68965517241,6960.68965517241,6960.68965517241,6960.68965517241,6960.68965517241,6960.68965517241,6960.68965517241,6960.68965517241,-2901.724137931011,-2901.724137931011,-2901.724137931011,-2901.724137931011,-2901.724137931011,-2901.724137931011,-2901.724137931011,-2901.724137931011,-2901.724137931011,-2901.724137931011,-2901.724137931011,-2901.724137931011,-2901.724137931011,-2901.724137931011,-2901.724137931011,-2901.724137931011,-2901.724137931011,-2901.724137931011,-2901.724137931011,-2901.724137931011,-2901.724137931011,-2901.724137931011,-2901.724137931011,-2901.724137931011,-2901.724137931011,-2901.724137931011,-2901.724137931011,-2901.724137931011,-2901.724137931011,-2901.724137931011,-2901.724137931011,-2901.724137931011,-2901.724137931011,-2901.724137931011,-2901.724137931011,-2901.724137931011,-2901.724137931011,-2901.724137931011,-2901.724137931011,-2901.724137931011,-2901.724137931011,-2901.724137931011,-2901.724137931011,-2901.724137931011,-2901.724137931011,-2901.724137931011,-2901.724137931011,-2901.724137931011,-2901.724137931011,-2901.724137931011,-2901.724137931011,-2901.724137931011,-2901.724137931011,-2901.724137931011,-2901.724137931011,-2901.724137931011,-2901.724137931011,-2901.724137931011,-2901.724137931011,-2901.724137931011,-2901.724137931011,0.0],\"type\":\"scatter\",\"xaxis\":\"x2\",\"yaxis\":\"y2\"},{\"fill\":\"tozeroy\",\"hovertemplate\":\"x: %{x:.3f} %{meta[0]}\\u003cbr\\u003ef(x): %{y:.3f} %{meta[1]}\",\"line\":{\"color\":\"lightgreen\",\"width\":1},\"meta\":[\"m\",\"N.m\"],\"mode\":\"lines\",\"name\":\"Bending Moment\",\"x\":[0.0,0.05025125628140704,0.10050251256281408,0.15075376884422112,0.20100502512562815,0.2512562814070352,0.30150753768844224,0.35175879396984927,0.4020100502512563,0.45226130653266333,0.5025125628140704,0.5527638190954774,0.6030150753768845,0.6532663316582915,0.7035175879396985,0.7537688442211056,0.8040201005025126,0.8542713567839196,0.9045226130653267,0.9547738693467337,1.0050251256281408,1.0552763819095479,1.105527638190955,1.155778894472362,1.206030150753769,1.256281407035176,1.306532663316583,1.35678391959799,1.407035175879397,1.4572864321608041,1.5075376884422111,1.5577889447236182,1.6080402010050252,1.6582914572864322,1.7085427135678393,1.7587939698492463,1.8090452261306533,1.8592964824120604,1.9095477386934674,1.9597989949748744,1.9999999,2.0000001,2.0100502512562817,2.0603015075376887,2.1105527638190957,2.1608040201005028,2.21105527638191,2.261306532663317,2.311557788944724,2.361809045226131,2.412060301507538,2.462311557788945,2.512562814070352,2.562814070351759,2.613065326633166,2.663316582914573,2.71356783919598,2.763819095477387,2.814070351758794,2.864321608040201,2.9145728643216082,2.9648241206030153,2.9999999,3.0000001,3.0150753768844223,3.0653266331658293,3.1155778894472363,3.1658291457286434,3.2160804020100504,3.2663316582914574,3.3165829145728645,3.3668341708542715,3.4170854271356785,3.4673366834170856,3.5175879396984926,3.5678391959798996,3.6180904522613067,3.6683417085427137,3.7185929648241207,3.7688442211055277,3.819095477386935,3.869346733668342,3.919597989949749,3.969849246231156,4.020100502512563,4.07035175879397,4.120603015075377,4.170854271356784,4.2211055276381915,4.2713567839195985,4.3216080402010055,4.371859296482413,4.42211055276382,4.472361809045227,4.522613065326634,4.572864321608041,4.623115577889448,4.673366834170855,4.723618090452262,4.773869346733669,4.824120603015076,4.874371859296483,4.92462311557789,4.974874371859297,5.025125628140704,5.075376884422111,5.125628140703518,5.175879396984925,5.226130653266332,5.276381909547739,5.326633165829146,5.376884422110553,5.42713567839196,5.477386934673367,5.4999999,5.5000001,5.527638190954774,5.577889447236181,5.628140703517588,5.678391959798995,5.728643216080402,5.778894472361809,5.8291457286432165,5.8793969849246235,5.9296482412060305,5.9798994974874375,5.9999999,6.0000001,6.030150753768845,6.080402010050252,6.130653266331659,6.180904522613066,6.231155778894473,6.28140703517588,6.331658291457287,6.381909547738694,6.432160804020101,6.482412060301508,6.532663316582915,6.582914572864322,6.633165829145729,6.683417085427136,6.733668341708543,6.78391959798995,6.834170854271357,6.884422110552764,6.934673366834171,6.984924623115578,6.9999999,7.0000001,7.035175879396985,7.085427135678392,7.135678391959799,7.185929648241206,7.236180904522613,7.28643216080402,7.336683417085427,7.386934673366834,7.437185929648241,7.4874371859296485,7.5376884422110555,7.5879396984924625,7.63819095477387,7.688442211055277,7.738693467336684,7.788944723618091,7.839195979899498,7.889447236180905,7.939698492462312,7.989949748743719,8.040201005025127,8.090452261306533,8.14070351758794,8.190954773869347,8.241206030150755,8.291457286432161,8.341708542713569,8.391959798994975,8.442211055276383,8.492462311557789,8.542713567839197,8.592964824120603,8.643216080402011,8.693467336683417,8.743718592964825,8.793969849246231,8.84422110552764,8.894472361809045,8.944723618090453,8.99497487437186,9.045226130653267,9.095477386934673,9.145728643216081,9.195979899497488,9.246231155778895,9.296482412060302,9.34673366834171,9.396984924623116,9.447236180904524,9.49748743718593,9.547738693467338,9.597989949748744,9.648241206030152,9.698492462311558,9.748743718592966,9.798994974874372,9.84924623115578,9.899497487437186,9.949748743718594,9.9999999,10.0],\"y\":[0.0,0.0,0.0,0.0,0.0,0.0,0.0,0.0,0.0,0.0,0.0,0.0,0.0,0.0,0.0,0.0,0.0,0.0,0.0,0.0,0.0,0.0,0.0,0.0,0.0,0.0,0.0,0.0,0.0,0.0,0.0,0.0,0.0,0.0,0.0,0.0,0.0,0.0,0.0,0.0,0.0,-0.0007039310187788051,-70.59532631098826,-419.0266181017752,-759.8823436189803,-1093.162502862607,-1418.8670958326575,-1736.9961225291277,-2047.5495829520169,-2350.5274771013305,-2645.929804977063,-2933.7565665792154,-3214.0077619077915,-3486.6833909627885,-3751.783453744207,-4009.307950252043,-4259.256880486301,-4501.630244446983,-4736.4280421340845,-4963.650273547606,-5183.296938687549,-5395.368037553917,-5539.309940896542,-5539.310548758609,-5569.712816377856,-5666.13027013425,-5754.972157617061,-5836.238478826295,-5909.92923376195,-5976.044422424031,-6034.5840448125255,-6085.548100927446,-6128.936590768786,-6164.749514336549,-6192.98687163073,-6213.648662651332,-6226.734887398359,-6232.245545871803,-6230.180638071664,-6220.540163997954,-6203.324123650662,-6178.532517029791,-6146.165344135343,-6106.222604967314,-6058.704299525707,-6003.610427810518,-5940.940989821756,-5870.6959855594105,-5792.875415023485,-5707.479278213983,-5614.507575130898,-5513.960305774239,-5405.837470144004,-5290.139068240189,-5166.865100062791,-5036.0155656118095,-4897.5904648872565,-4751.58979788913,-4598.013564617415,-4436.861765072124,-4268.134399253251,-4091.8314671608023,-3907.952968794765,-3716.498904155167,-3517.4692732419753,-3310.8640760552116,-3096.6833125948688,-2874.9269828609395,-2645.5950868534455,-2408.6876245723615,-2164.204596017702,-1912.1460011894596,-1652.5118400876381,-1385.3021127122483,-1262.5867529655152,-4262.585660827579,-4110.5168190632685,-3828.155959140713,-3538.2195329445785,-3240.7075404748684,-2935.619981731579,-2622.9568567147035,-2302.718165424256,-1974.9039078602145,-1639.5140840226231,-1296.5486939114344,-1157.2420753793122,-1157.240683241398,-947.371339455909,-597.5879396985038,-247.80453994109848,101.97885981631043,451.76225957371935,801.5456593311246,1151.32905908853,1501.1124588459352,1850.8958586033405,2200.6792583607603,2550.462658118169,2900.2460578755745,3250.0294576329834,3599.8128573903887,3949.5962571477903,4299.379656905203,4649.1630566626045,4998.94645642001,5348.729856177419,5698.51325593482,5803.447579793086,5803.447985689629,5701.377577542877,5555.562294229756,5409.7470109166425,5263.931727603522,5118.116444290405,4972.3011609772875,4826.48587766417,4680.670594351053,4534.855311037936,4389.040027724826,4243.2247444117165,4097.409461098592,3951.5941777854823,3805.778894472358,3659.963611159248,3514.1483278461237,3368.333044533014,3222.517761219897,3076.7024779067724,2930.8871945936553,2785.071911280538,2639.256627967443,2493.441344654304,2347.6260613412087,2201.8107780280843,2055.995494714967,1910.18021140185,1764.364928088733,1618.5496447756232,1472.7343614624988,1326.9190781493817,1181.1037948362646,1035.2885115231475,889.4732282100449,743.6579448969132,597.8426615838107,452.0273782706936,306.2120949575765,160.39681164445938,14.58152833134227,-131.23375498177484,-277.04903829489194,-422.86432160800905,-568.6796049211189,-714.4948882342433,-860.3101715473458,-1006.1254548604629,-1151.94073817358,-1297.7560214866971,-1443.5713047998142,-1589.3865881129313,-1735.2018714260485,-1881.0171547391656,-2026.8324380522972,-2172.6477213654,-2318.463004678517,-2464.278287991634,-2610.093571304751,-2755.9088546178536,-2901.723847758578,0.0],\"type\":\"scatter\",\"xaxis\":\"x3\",\"yaxis\":\"y3\"},{\"fill\":\"tozeroy\",\"hovertemplate\":\"x: %{x:.3f} %{meta[0]}\\u003cbr\\u003ef(x): %{y:.3f} %{meta[1]}\",\"line\":{\"color\":\"blue\",\"width\":1},\"meta\":[\"m\",\"m\"],\"mode\":\"lines\",\"name\":\"Deflection\",\"x\":[0.0,0.05025125628140704,0.10050251256281408,0.15075376884422112,0.20100502512562815,0.2512562814070352,0.30150753768844224,0.35175879396984927,0.4020100502512563,0.45226130653266333,0.5025125628140704,0.5527638190954774,0.6030150753768845,0.6532663316582915,0.7035175879396985,0.7537688442211056,0.8040201005025126,0.8542713567839196,0.9045226130653267,0.9547738693467337,1.0050251256281408,1.0552763819095479,1.105527638190955,1.155778894472362,1.206030150753769,1.256281407035176,1.306532663316583,1.35678391959799,1.407035175879397,1.4572864321608041,1.5075376884422111,1.5577889447236182,1.6080402010050252,1.6582914572864322,1.7085427135678393,1.7587939698492463,1.8090452261306533,1.8592964824120604,1.9095477386934674,1.9597989949748744,1.9999999,2.0000001,2.0100502512562817,2.0603015075376887,2.1105527638190957,2.1608040201005028,2.21105527638191,2.261306532663317,2.311557788944724,2.361809045226131,2.412060301507538,2.462311557788945,2.512562814070352,2.562814070351759,2.613065326633166,2.663316582914573,2.71356783919598,2.763819095477387,2.814070351758794,2.864321608040201,2.9145728643216082,2.9648241206030153,2.9999999,3.0000001,3.0150753768844223,3.0653266331658293,3.1155778894472363,3.1658291457286434,3.2160804020100504,3.2663316582914574,3.3165829145728645,3.3668341708542715,3.4170854271356785,3.4673366834170856,3.5175879396984926,3.5678391959798996,3.6180904522613067,3.6683417085427137,3.7185929648241207,3.7688442211055277,3.819095477386935,3.869346733668342,3.919597989949749,3.969849246231156,4.020100502512563,4.07035175879397,4.120603015075377,4.170854271356784,4.2211055276381915,4.2713567839195985,4.3216080402010055,4.371859296482413,4.42211055276382,4.472361809045227,4.522613065326634,4.572864321608041,4.623115577889448,4.673366834170855,4.723618090452262,4.773869346733669,4.824120603015076,4.874371859296483,4.92462311557789,4.974874371859297,5.025125628140704,5.075376884422111,5.125628140703518,5.175879396984925,5.226130653266332,5.276381909547739,5.326633165829146,5.376884422110553,5.42713567839196,5.477386934673367,5.4999999,5.5000001,5.527638190954774,5.577889447236181,5.628140703517588,5.678391959798995,5.728643216080402,5.778894472361809,5.8291457286432165,5.8793969849246235,5.9296482412060305,5.9798994974874375,5.9999999,6.0000001,6.030150753768845,6.080402010050252,6.130653266331659,6.180904522613066,6.231155778894473,6.28140703517588,6.331658291457287,6.381909547738694,6.432160804020101,6.482412060301508,6.532663316582915,6.582914572864322,6.633165829145729,6.683417085427136,6.733668341708543,6.78391959798995,6.834170854271357,6.884422110552764,6.934673366834171,6.984924623115578,6.9999999,7.0000001,7.035175879396985,7.085427135678392,7.135678391959799,7.185929648241206,7.236180904522613,7.28643216080402,7.336683417085427,7.386934673366834,7.437185929648241,7.4874371859296485,7.5376884422110555,7.5879396984924625,7.63819095477387,7.688442211055277,7.738693467336684,7.788944723618091,7.839195979899498,7.889447236180905,7.939698492462312,7.989949748743719,8.040201005025127,8.090452261306533,8.14070351758794,8.190954773869347,8.241206030150755,8.291457286432161,8.341708542713569,8.391959798994975,8.442211055276383,8.492462311557789,8.542713567839197,8.592964824120603,8.643216080402011,8.693467336683417,8.743718592964825,8.793969849246231,8.84422110552764,8.894472361809045,8.944723618090453,8.99497487437186,9.045226130653267,9.095477386934673,9.145728643216081,9.195979899497488,9.246231155778895,9.296482412060302,9.34673366834171,9.396984924623116,9.447236180904524,9.49748743718593,9.547738693467338,9.597989949748744,9.648241206030152,9.698492462311558,9.748743718592966,9.798994974874372,9.84924623115578,9.899497487437186,9.949748743718594,9.9999999,10.0],\"y\":[-0.0112030863021528,-0.010921601721696698,-0.010640117141240598,-0.010358632560784497,-0.010077147980328396,-0.009795663399872295,-0.009514178819416194,-0.009232694238960093,-0.008951209658503993,-0.00866972507804789,-0.00838824049759179,-0.008106755917135689,-0.007825271336679589,-0.007543786756223487,-0.007262302175767386,-0.006980817595311285,-0.006699333014855184,-0.006417848434399083,-0.006136363853942982,-0.005854879273486881,-0.00557339469303078,-0.005291910112574679,-0.005010425532118578,-0.004728940951662477,-0.004447456371206376,-0.004165971790750275,-0.0038844872102941743,-0.0036030026298380733,-0.0033215180493819715,-0.0030400334689258714,-0.0027585488884697695,-0.0024770643080136694,-0.0021955797275575676,-0.0019140951471014675,-0.0016326105666453657,-0.0013511259861892656,-0.0010696414057331637,-0.0007881568252770636,-0.0005066722448209618,-0.0002251876643648617,-5.601542962113681e-10,5.601543326405611e-10,0.00005629625878803002,0.0003376402800156549,0.0006184005845799069,0.0008981016337812654,0.0011762784578344572,0.0014524766558684631,0.001726252395926508,0.0019971724149660634,0.0022648140188588507,0.002528765082390843,0.0027886240492622453,0.003043999932087529,0.0032945123123954007,0.003539791340628826,0.003779477736145013,0.004013222787215406,0.0042406883510257235,0.004461546853675898,0.004675481290180139,0.004882185224466894,0.0050224165749889055,0.0050224173616339775,0.00508136342034303,0.005272780028462019,0.0054562925181754,0.00563177694333097,0.005799119926690757,0.005958218659931062,0.006108980903642407,0.006251324987329582,0.006385179809411605,0.006510484837221761,0.006627190107007592,0.006735256223930845,0.006834654362067552,0.0069253662644079735,0.007007384242856636,0.007080711178232304,0.007145360520267985,0.007201356287610934,0.007248733067822664,0.007287536017378936,0.007317820861669735,0.00733965389499933,0.0073531119805862015,0.007358282550563117,0.007355263605977068,0.007344163716789264,0.007325102021875238,0.007298208229024699,0.00726362261494164,0.007221496025244304,0.00717198987446515,0.0071152761460509285,0.007051537392362604,0.0069809667346753985,0.0069037678631787835,0.006820155036976479,0.0067303530840864614,0.0066345974014409385,0.006533133954886399,0.006426219279183503,0.006314120478007241,0.006197115223946812,0.00607549175850567,0.005949548892101503,0.005819596004066275,0.005685953042646179,0.005548950525001688,0.005408929537207466,0.005266241734252459,0.005121249340039841,0.005055350120775463,0.005055349536302208,0.004973692106282689,0.004820824811403623,0.004662617614730764,0.004499475015824202,0.004331812083158519,0.004160054454122271,0.00398463833501842,0.003806010501064168,0.0036246282963908645,0.0034409596340442238,0.003366959154623164,0.003366958416977924,0.0032554829389120563,0.0030686845470666094,0.002881052441217325,0.002693074615346739,0.002505239063437685,0.002318033779472914,0.002131946757435055,0.001947465991307018,0.0017650794750714432,0.0015852752027110117,0.001408541168208495,0.0012353653655466888,0.0010662357887082745,0.0009016404316760755,0.0007420672884327455,0.000588004352961042,0.00043993961924373645,0.0002983610812633229,0.00016375673300303775,0.000036614568444965495,2.404745257089669e-10,-2.404743661144071e-10,-0.00008261694492077767,-0.00019389739590979296,-0.0002974271046616399,-0.00039340950273141287,-0.00048204802167360963,-0.0005635460930432622,-0.0006381071483949029,-0.0007059346192835846,-0.0007672319372637286,-0.000822202533890367,-0.0008710498407183027,-0.000913977289302214,-0.0009511883111968204,-0.0009828863379569806,-0.0010092748011374907,-0.0010305571322929384,-0.0010469367629784808,-0.0010586171247485947,-0.0010658016491581733,-0.0010686937677619017,-0.0010674969121146315,-0.001062414513771117,-0.0010536500042861822,-0.0010414068152144428,-0.0010258883781108195,-0.0010072981245302752,-0.0009858394860270646,-0.0009617158941565666,-0.0009351307804732166,-0.0009062875765314497,-0.000875389713886867,-0.0008426406240936261,-0.0008082437387069395,-0.0007724024892808261,-0.0007353203073710811,-0.0006972006245316818,-0.0006582468723178546,-0.0006186624822840624,-0.0005786508859854066,-0.000538415514976489,-0.0004981598008118836,-0.00045808717504677507,-0.0004184010692357097,-0.0003793049149335391,-0.00034100214369497603,-0.0003036961870746778,-0.0002675904766276625,-0.00023288844390855976,-0.00019979352047227658,-0.00016850913787349805,-0.0001392387276667427,-0.00011218572140761149,-0.00008755355064995682,-0.00006554564694915763,-0.000046365441859205075,-0.000030216366935922195,-0.000017301853733744238,-7.825333806856655e-6,-1.990238710693898e-6,1.97758476261356e-16,1.4224732503009818e-16],\"type\":\"scatter\",\"xaxis\":\"x4\",\"yaxis\":\"y4\"}],                        {\"template\":{\"data\":{\"histogram2dcontour\":[{\"type\":\"histogram2dcontour\",\"colorbar\":{\"outlinewidth\":0,\"ticks\":\"\"},\"colorscale\":[[0.0,\"#0d0887\"],[0.1111111111111111,\"#46039f\"],[0.2222222222222222,\"#7201a8\"],[0.3333333333333333,\"#9c179e\"],[0.4444444444444444,\"#bd3786\"],[0.5555555555555556,\"#d8576b\"],[0.6666666666666666,\"#ed7953\"],[0.7777777777777778,\"#fb9f3a\"],[0.8888888888888888,\"#fdca26\"],[1.0,\"#f0f921\"]]}],\"choropleth\":[{\"type\":\"choropleth\",\"colorbar\":{\"outlinewidth\":0,\"ticks\":\"\"}}],\"histogram2d\":[{\"type\":\"histogram2d\",\"colorbar\":{\"outlinewidth\":0,\"ticks\":\"\"},\"colorscale\":[[0.0,\"#0d0887\"],[0.1111111111111111,\"#46039f\"],[0.2222222222222222,\"#7201a8\"],[0.3333333333333333,\"#9c179e\"],[0.4444444444444444,\"#bd3786\"],[0.5555555555555556,\"#d8576b\"],[0.6666666666666666,\"#ed7953\"],[0.7777777777777778,\"#fb9f3a\"],[0.8888888888888888,\"#fdca26\"],[1.0,\"#f0f921\"]]}],\"heatmap\":[{\"type\":\"heatmap\",\"colorbar\":{\"outlinewidth\":0,\"ticks\":\"\"},\"colorscale\":[[0.0,\"#0d0887\"],[0.1111111111111111,\"#46039f\"],[0.2222222222222222,\"#7201a8\"],[0.3333333333333333,\"#9c179e\"],[0.4444444444444444,\"#bd3786\"],[0.5555555555555556,\"#d8576b\"],[0.6666666666666666,\"#ed7953\"],[0.7777777777777778,\"#fb9f3a\"],[0.8888888888888888,\"#fdca26\"],[1.0,\"#f0f921\"]]}],\"heatmapgl\":[{\"type\":\"heatmapgl\",\"colorbar\":{\"outlinewidth\":0,\"ticks\":\"\"},\"colorscale\":[[0.0,\"#0d0887\"],[0.1111111111111111,\"#46039f\"],[0.2222222222222222,\"#7201a8\"],[0.3333333333333333,\"#9c179e\"],[0.4444444444444444,\"#bd3786\"],[0.5555555555555556,\"#d8576b\"],[0.6666666666666666,\"#ed7953\"],[0.7777777777777778,\"#fb9f3a\"],[0.8888888888888888,\"#fdca26\"],[1.0,\"#f0f921\"]]}],\"contourcarpet\":[{\"type\":\"contourcarpet\",\"colorbar\":{\"outlinewidth\":0,\"ticks\":\"\"}}],\"contour\":[{\"type\":\"contour\",\"colorbar\":{\"outlinewidth\":0,\"ticks\":\"\"},\"colorscale\":[[0.0,\"#0d0887\"],[0.1111111111111111,\"#46039f\"],[0.2222222222222222,\"#7201a8\"],[0.3333333333333333,\"#9c179e\"],[0.4444444444444444,\"#bd3786\"],[0.5555555555555556,\"#d8576b\"],[0.6666666666666666,\"#ed7953\"],[0.7777777777777778,\"#fb9f3a\"],[0.8888888888888888,\"#fdca26\"],[1.0,\"#f0f921\"]]}],\"surface\":[{\"type\":\"surface\",\"colorbar\":{\"outlinewidth\":0,\"ticks\":\"\"},\"colorscale\":[[0.0,\"#0d0887\"],[0.1111111111111111,\"#46039f\"],[0.2222222222222222,\"#7201a8\"],[0.3333333333333333,\"#9c179e\"],[0.4444444444444444,\"#bd3786\"],[0.5555555555555556,\"#d8576b\"],[0.6666666666666666,\"#ed7953\"],[0.7777777777777778,\"#fb9f3a\"],[0.8888888888888888,\"#fdca26\"],[1.0,\"#f0f921\"]]}],\"mesh3d\":[{\"type\":\"mesh3d\",\"colorbar\":{\"outlinewidth\":0,\"ticks\":\"\"}}],\"scatter\":[{\"fillpattern\":{\"fillmode\":\"overlay\",\"size\":10,\"solidity\":0.2},\"type\":\"scatter\"}],\"parcoords\":[{\"type\":\"parcoords\",\"line\":{\"colorbar\":{\"outlinewidth\":0,\"ticks\":\"\"}}}],\"scatterpolargl\":[{\"type\":\"scatterpolargl\",\"marker\":{\"colorbar\":{\"outlinewidth\":0,\"ticks\":\"\"}}}],\"bar\":[{\"error_x\":{\"color\":\"#2a3f5f\"},\"error_y\":{\"color\":\"#2a3f5f\"},\"marker\":{\"line\":{\"color\":\"#E5ECF6\",\"width\":0.5},\"pattern\":{\"fillmode\":\"overlay\",\"size\":10,\"solidity\":0.2}},\"type\":\"bar\"}],\"scattergeo\":[{\"type\":\"scattergeo\",\"marker\":{\"colorbar\":{\"outlinewidth\":0,\"ticks\":\"\"}}}],\"scatterpolar\":[{\"type\":\"scatterpolar\",\"marker\":{\"colorbar\":{\"outlinewidth\":0,\"ticks\":\"\"}}}],\"histogram\":[{\"marker\":{\"pattern\":{\"fillmode\":\"overlay\",\"size\":10,\"solidity\":0.2}},\"type\":\"histogram\"}],\"scattergl\":[{\"type\":\"scattergl\",\"marker\":{\"colorbar\":{\"outlinewidth\":0,\"ticks\":\"\"}}}],\"scatter3d\":[{\"type\":\"scatter3d\",\"line\":{\"colorbar\":{\"outlinewidth\":0,\"ticks\":\"\"}},\"marker\":{\"colorbar\":{\"outlinewidth\":0,\"ticks\":\"\"}}}],\"scattermapbox\":[{\"type\":\"scattermapbox\",\"marker\":{\"colorbar\":{\"outlinewidth\":0,\"ticks\":\"\"}}}],\"scatterternary\":[{\"type\":\"scatterternary\",\"marker\":{\"colorbar\":{\"outlinewidth\":0,\"ticks\":\"\"}}}],\"scattercarpet\":[{\"type\":\"scattercarpet\",\"marker\":{\"colorbar\":{\"outlinewidth\":0,\"ticks\":\"\"}}}],\"carpet\":[{\"aaxis\":{\"endlinecolor\":\"#2a3f5f\",\"gridcolor\":\"white\",\"linecolor\":\"white\",\"minorgridcolor\":\"white\",\"startlinecolor\":\"#2a3f5f\"},\"baxis\":{\"endlinecolor\":\"#2a3f5f\",\"gridcolor\":\"white\",\"linecolor\":\"white\",\"minorgridcolor\":\"white\",\"startlinecolor\":\"#2a3f5f\"},\"type\":\"carpet\"}],\"table\":[{\"cells\":{\"fill\":{\"color\":\"#EBF0F8\"},\"line\":{\"color\":\"white\"}},\"header\":{\"fill\":{\"color\":\"#C8D4E3\"},\"line\":{\"color\":\"white\"}},\"type\":\"table\"}],\"barpolar\":[{\"marker\":{\"line\":{\"color\":\"#E5ECF6\",\"width\":0.5},\"pattern\":{\"fillmode\":\"overlay\",\"size\":10,\"solidity\":0.2}},\"type\":\"barpolar\"}],\"pie\":[{\"automargin\":true,\"type\":\"pie\"}]},\"layout\":{\"autotypenumbers\":\"strict\",\"colorway\":[\"#636efa\",\"#EF553B\",\"#00cc96\",\"#ab63fa\",\"#FFA15A\",\"#19d3f3\",\"#FF6692\",\"#B6E880\",\"#FF97FF\",\"#FECB52\"],\"font\":{\"color\":\"#2a3f5f\"},\"hovermode\":\"closest\",\"hoverlabel\":{\"align\":\"left\"},\"paper_bgcolor\":\"white\",\"plot_bgcolor\":\"#E5ECF6\",\"polar\":{\"bgcolor\":\"#E5ECF6\",\"angularaxis\":{\"gridcolor\":\"white\",\"linecolor\":\"white\",\"ticks\":\"\"},\"radialaxis\":{\"gridcolor\":\"white\",\"linecolor\":\"white\",\"ticks\":\"\"}},\"ternary\":{\"bgcolor\":\"#E5ECF6\",\"aaxis\":{\"gridcolor\":\"white\",\"linecolor\":\"white\",\"ticks\":\"\"},\"baxis\":{\"gridcolor\":\"white\",\"linecolor\":\"white\",\"ticks\":\"\"},\"caxis\":{\"gridcolor\":\"white\",\"linecolor\":\"white\",\"ticks\":\"\"}},\"coloraxis\":{\"colorbar\":{\"outlinewidth\":0,\"ticks\":\"\"}},\"colorscale\":{\"sequential\":[[0.0,\"#0d0887\"],[0.1111111111111111,\"#46039f\"],[0.2222222222222222,\"#7201a8\"],[0.3333333333333333,\"#9c179e\"],[0.4444444444444444,\"#bd3786\"],[0.5555555555555556,\"#d8576b\"],[0.6666666666666666,\"#ed7953\"],[0.7777777777777778,\"#fb9f3a\"],[0.8888888888888888,\"#fdca26\"],[1.0,\"#f0f921\"]],\"sequentialminus\":[[0.0,\"#0d0887\"],[0.1111111111111111,\"#46039f\"],[0.2222222222222222,\"#7201a8\"],[0.3333333333333333,\"#9c179e\"],[0.4444444444444444,\"#bd3786\"],[0.5555555555555556,\"#d8576b\"],[0.6666666666666666,\"#ed7953\"],[0.7777777777777778,\"#fb9f3a\"],[0.8888888888888888,\"#fdca26\"],[1.0,\"#f0f921\"]],\"diverging\":[[0,\"#8e0152\"],[0.1,\"#c51b7d\"],[0.2,\"#de77ae\"],[0.3,\"#f1b6da\"],[0.4,\"#fde0ef\"],[0.5,\"#f7f7f7\"],[0.6,\"#e6f5d0\"],[0.7,\"#b8e186\"],[0.8,\"#7fbc41\"],[0.9,\"#4d9221\"],[1,\"#276419\"]]},\"xaxis\":{\"gridcolor\":\"white\",\"linecolor\":\"white\",\"ticks\":\"\",\"title\":{\"standoff\":15},\"zerolinecolor\":\"white\",\"automargin\":true,\"zerolinewidth\":2},\"yaxis\":{\"gridcolor\":\"white\",\"linecolor\":\"white\",\"ticks\":\"\",\"title\":{\"standoff\":15},\"zerolinecolor\":\"white\",\"automargin\":true,\"zerolinewidth\":2},\"scene\":{\"xaxis\":{\"backgroundcolor\":\"#E5ECF6\",\"gridcolor\":\"white\",\"linecolor\":\"white\",\"showbackground\":true,\"ticks\":\"\",\"zerolinecolor\":\"white\",\"gridwidth\":2},\"yaxis\":{\"backgroundcolor\":\"#E5ECF6\",\"gridcolor\":\"white\",\"linecolor\":\"white\",\"showbackground\":true,\"ticks\":\"\",\"zerolinecolor\":\"white\",\"gridwidth\":2},\"zaxis\":{\"backgroundcolor\":\"#E5ECF6\",\"gridcolor\":\"white\",\"linecolor\":\"white\",\"showbackground\":true,\"ticks\":\"\",\"zerolinecolor\":\"white\",\"gridwidth\":2}},\"shapedefaults\":{\"line\":{\"color\":\"#2a3f5f\"}},\"annotationdefaults\":{\"arrowcolor\":\"#2a3f5f\",\"arrowhead\":0,\"arrowwidth\":1},\"geo\":{\"bgcolor\":\"white\",\"landcolor\":\"#E5ECF6\",\"subunitcolor\":\"white\",\"showland\":true,\"showlakes\":true,\"lakecolor\":\"white\"},\"title\":{\"x\":0.05},\"mapbox\":{\"style\":\"light\"}}},\"xaxis\":{\"anchor\":\"y\",\"domain\":[0.0,1.0],\"matches\":\"x4\",\"showticklabels\":false},\"yaxis\":{\"anchor\":\"x\",\"domain\":[0.7875,1.0],\"title\":{\"text\":\"Normal Force (N)\"}},\"xaxis2\":{\"anchor\":\"y2\",\"domain\":[0.0,1.0],\"matches\":\"x4\",\"showticklabels\":false},\"yaxis2\":{\"anchor\":\"x2\",\"domain\":[0.525,0.7375],\"title\":{\"text\":\"Shear Force (N)\"}},\"xaxis3\":{\"anchor\":\"y3\",\"domain\":[0.0,1.0],\"matches\":\"x4\",\"showticklabels\":false},\"yaxis3\":{\"anchor\":\"x3\",\"domain\":[0.2625,0.475],\"title\":{\"text\":\"Bending Moment (N.m)\"}},\"xaxis4\":{\"anchor\":\"y4\",\"domain\":[0.0,1.0],\"title\":{\"text\":\"Beam Length (m)\"}},\"yaxis4\":{\"anchor\":\"x4\",\"domain\":[0.0,0.2125],\"title\":{\"text\":\"Deflection (m)\"}},\"annotations\":[{\"font\":{\"size\":16},\"showarrow\":false,\"text\":\"Normal Force Diagram\",\"x\":0.5,\"xanchor\":\"center\",\"xref\":\"paper\",\"y\":1.0,\"yanchor\":\"bottom\",\"yref\":\"paper\"},{\"font\":{\"size\":16},\"showarrow\":false,\"text\":\"Shear Force Diagram\",\"x\":0.5,\"xanchor\":\"center\",\"xref\":\"paper\",\"y\":0.7375,\"yanchor\":\"bottom\",\"yref\":\"paper\"},{\"font\":{\"size\":16},\"showarrow\":false,\"text\":\"Bending Moment Diagram\",\"x\":0.5,\"xanchor\":\"center\",\"xref\":\"paper\",\"y\":0.475,\"yanchor\":\"bottom\",\"yref\":\"paper\"},{\"font\":{\"size\":16},\"showarrow\":false,\"text\":\"Deflection Diagram\",\"x\":0.5,\"xanchor\":\"center\",\"xref\":\"paper\",\"y\":0.2125,\"yanchor\":\"bottom\",\"yref\":\"paper\"}],\"title\":{\"font\":{\"size\":24},\"text\":\"Analysis Results\",\"x\":0.5},\"height\":1000,\"width\":700,\"showlegend\":false},                        {\"responsive\": true}                    ).then(function(){\n",
              "                            \n",
              "var gd = document.getElementById('176a0d99-b0e5-47b8-a234-94600895055c');\n",
              "var x = new MutationObserver(function (mutations, observer) {{\n",
              "        var display = window.getComputedStyle(gd).display;\n",
              "        if (!display || display === 'none') {{\n",
              "            console.log([gd, 'removed!']);\n",
              "            Plotly.purge(gd);\n",
              "            observer.disconnect();\n",
              "        }}\n",
              "}});\n",
              "\n",
              "// Listen for the removal of the full notebook cells\n",
              "var notebookContainer = gd.closest('#notebook-container');\n",
              "if (notebookContainer) {{\n",
              "    x.observe(notebookContainer, {childList: true});\n",
              "}}\n",
              "\n",
              "// Listen for the clearing of the current output cell\n",
              "var outputEl = gd.closest('.output');\n",
              "if (outputEl) {{\n",
              "    x.observe(outputEl, {childList: true});\n",
              "}}\n",
              "\n",
              "                        })                };                            </script>        </div>\n",
              "</body>\n",
              "</html>"
            ]
          },
          "metadata": {}
        },
        {
          "output_type": "stream",
          "name": "stdout",
          "text": [
            " x [m]  Axial [N]  Shear [N]  Moment [N.m]  Deflection [m]\n",
            " 0.000          0      0.000         0.000          -0.011\n",
            " 1.111          0      0.000         0.000          -0.005\n",
            " 2.222          0  -6372.644     -1490.217           0.001\n",
            " 3.333          0  -1039.310     -6052.414           0.006\n",
            " 4.444          0   2294.023     -5355.351           0.007\n",
            " 5.556          0   5627.356     -3954.585           0.005\n",
            " 6.667          0   6960.690      3483.218           0.001\n",
            " 7.778          0  -2901.724      3546.552          -0.001\n",
            " 8.889          0  -2901.724       322.414          -0.001\n",
            "10.000          0      0.000         0.000           0.000\n",
            "Results exported to beam_results.csv\n"
          ]
        }
      ],
      "source": [
        "beam = Beam(10)                          # Initialize a Beam object of length 10 m with E and I as defaults\n",
        "beam_2 = Beam(12,E=3000, I =200000)      # Initialize a Beam specifying some beam parameters\n",
        "\n",
        "a = Support(7,(1,1,0))                  # Defines a pin support at location x = 7 m\n",
        "b = Support(2,(0,1,0))                  # Defines a roller support at location x = 2 m\n",
        "c = Support(10,(1,1,1))                  # Defines a fixed support at location x = 10 m\n",
        "beam.add_supports(a,b,c)\n",
        "\n",
        "load_1 = PointLoadV(2000,3)                # Defines a point load of 2000 N acting up, at location x = 3 m\n",
        "load_2 = DistributedLoadV(3000,(2,6))      # Defines a 3000 N/m UDL from location x = 2 m to x = 6 m\n",
        "load_3 = PointTorque(3*10**3, 5.5)            # Defines a 3*10**3 N.m point torque at location x = 5.5 m\n",
        "beam.add_loads(load_1,load_2,load_3)    # Assign the support objects to a beam object created earlier\n",
        "\n",
        "# solve the beam\n",
        "beam.analyse()\n",
        "\n",
        "## plot the results for the beam\n",
        "fig_1 = beam.plot_beam_external()\n",
        "fig_1.show()\n",
        "\n",
        "fig_2 = beam.plot_beam_internal()\n",
        "fig_2.show()\n",
        "\n",
        "# print results as a table with 10 points\n",
        "beam.print_results_table(num_points=10, max_dp=3)\n",
        "\n",
        "# optionally export as a csv\n",
        "beam.export_results_csv(filename=\"beam_results.csv\", num_points=10, max_dp=3)\n",
        "\n",
        "# save the figures (optional)\n",
        "# Can save figure using ``fig.write_image(\"./results.pdf\")`` (can change extension to be\n",
        "# png, jpg, svg or other formats as reired). Requires pip install -U kaleido\n",
        "\n",
        "# fig_1.write_image(\"./example_plot_external.png\")\n",
        "# fig_2.write_image(\"./example_plot_internal.png\")"
      ]
    },
    {
      "cell_type": "code",
      "execution_count": 4,
      "metadata": {
        "colab": {
          "base_uri": "https://localhost:8080/",
          "height": 1000
        },
        "id": "KDcSO4kqUt1V",
        "outputId": "8ebfb29b-973d-4d82-a80b-f7c7b0d20da5"
      },
      "outputs": [
        {
          "output_type": "display_data",
          "data": {
            "text/html": [
              "<html>\n",
              "<head><meta charset=\"utf-8\" /></head>\n",
              "<body>\n",
              "    <div>            <script src=\"https://cdnjs.cloudflare.com/ajax/libs/mathjax/2.7.5/MathJax.js?config=TeX-AMS-MML_SVG\"></script><script type=\"text/javascript\">if (window.MathJax && window.MathJax.Hub && window.MathJax.Hub.Config) {window.MathJax.Hub.Config({SVG: {font: \"STIX-Web\"}});}</script>                <script type=\"text/javascript\">window.PlotlyConfig = {MathJaxConfig: 'local'};</script>\n",
              "        <script charset=\"utf-8\" src=\"https://cdn.plot.ly/plotly-2.35.2.min.js\"></script>                <div id=\"37539e49-de16-4cb8-9ce2-e1885656d461\" class=\"plotly-graph-div\" style=\"height:550px; width:700px;\"></div>            <script type=\"text/javascript\">                                    window.PLOTLYENV=window.PLOTLYENV || {};                                    if (document.getElementById(\"37539e49-de16-4cb8-9ce2-e1885656d461\")) {                    Plotly.newPlot(                        \"37539e49-de16-4cb8-9ce2-e1885656d461\",                        [{\"hoverinfo\":\"skip\",\"hovertemplate\":\"%{x} %{meta[0]}\",\"line\":{\"color\":\"purple\",\"width\":2},\"meta\":[\"m\"],\"mode\":\"lines\",\"name\":\"Beam_\",\"x\":[0,7],\"y\":[0,0],\"type\":\"scatter\",\"xaxis\":\"x\",\"yaxis\":\"y\"},{\"hoverinfo\":\"skip\",\"hovertemplate\":\"x: %{x:.3f} %{meta[1]}\\u003cbr\\u003eFixed: %{meta[0]}\",\"marker\":{\"color\":\"blue\",\"size\":10,\"symbol\":\"triangle-up\"},\"meta\":[\"[1, 1, 1]\",\"m\"],\"mode\":\"markers\",\"name\":\"Support\",\"opacity\":0,\"showlegend\":false,\"x\":[0],\"y\":[0],\"type\":\"scatter\",\"xaxis\":\"x\",\"yaxis\":\"y\"},{\"hoverinfo\":\"skip\",\"hovertemplate\":\"x: %{x:.3f} %{meta[1]}\\u003cbr\\u003eFixed: %{meta[0]}\",\"marker\":{\"color\":\"blue\",\"size\":10,\"symbol\":\"triangle-up\"},\"meta\":[\"[1, 1, 1]\",\"m\"],\"mode\":\"markers\",\"name\":\"Support\",\"opacity\":0,\"showlegend\":false,\"x\":[7],\"y\":[0],\"type\":\"scatter\",\"xaxis\":\"x\",\"yaxis\":\"y\"},{\"hoverinfo\":\"skip\",\"hovertemplate\":\"x: %{meta[1]:.3f} %{meta[2]}\\u003cbr\\u003eForce: %{meta[0]:.3f} %{meta[3]}            \\u003cbr\\u003eAngle: %{meta[5]:.3f} deg\",\"marker\":{\"color\":\"red\",\"size\":10,\"symbol\":\"triangle-up\"},\"meta\":[-3000,3,\"m\",\"N\",\"N.m\",90],\"mode\":\"markers\",\"name\":\"Point\\u003cbr\\u003eLoad\",\"opacity\":0,\"showlegend\":false,\"x\":[3],\"y\":[0],\"type\":\"scatter\",\"xaxis\":\"x\",\"yaxis\":\"y\"},{\"hoverinfo\":\"skip\",\"hovertemplate\":\"x: %{meta[1]:.3f} %{meta[2]}\\u003cbr\\u003eMoment: %{meta[0]:.3f} %{meta[4]}\",\"marker\":{\"color\":\"magenta\",\"size\":10,\"symbol\":\"triangle-up\"},\"meta\":[1000,5,\"m\",\"N\",\"N.m\"],\"mode\":\"markers\",\"name\":\"Point\\u003cbr\\u003eTorque\",\"opacity\":0,\"showlegend\":false,\"x\":[5],\"y\":[0],\"type\":\"scatter\",\"xaxis\":\"x\",\"yaxis\":\"y\"},{\"hoverinfo\":\"skip\",\"hovertemplate\":\"%{x}\",\"line\":{\"color\":\"purple\",\"width\":2},\"mode\":\"lines\",\"name\":\"Beam\",\"x\":[0,7],\"y\":[0,0],\"type\":\"scatter\",\"xaxis\":\"x2\",\"yaxis\":\"y2\"},{\"hoverinfo\":\"skip\",\"hovertemplate\":\"Reactions\\u003cbr\\u003ex coord: %{x:.3f} %{meta[3]}\\u003cbr\\u003ey: %{meta[1]:.3f} %{meta[4]}\\u003cbr\\u003em: %{meta[2]:.3f} %{meta[5]}\",\"marker\":{\"color\":\"red\",\"size\":10,\"symbol\":\"triangle-up\"},\"meta\":[0.0,1994.1690962099,3265.306122449,\"m\",\"N\",\"N.m\"],\"mode\":\"markers\",\"name\":\"Reaction\",\"opacity\":0,\"showlegend\":false,\"x\":[0],\"y\":[0],\"type\":\"scatter\",\"xaxis\":\"x2\",\"yaxis\":\"y2\"},{\"hoverinfo\":\"skip\",\"hovertemplate\":\"Reactions\\u003cbr\\u003ex coord: %{x:.3f} %{meta[3]}\\u003cbr\\u003ey: %{meta[1]:.3f} %{meta[4]}\\u003cbr\\u003em: %{meta[2]:.3f} %{meta[5]}\",\"marker\":{\"color\":\"red\",\"size\":10,\"symbol\":\"triangle-up\"},\"meta\":[0.0,1005.8309037901,-2306.1224489796,\"m\",\"N\",\"N.m\"],\"mode\":\"markers\",\"name\":\"Reaction\",\"opacity\":0,\"showlegend\":false,\"x\":[7],\"y\":[0],\"type\":\"scatter\",\"xaxis\":\"x2\",\"yaxis\":\"y2\"}],                        {\"template\":{\"data\":{\"histogram2dcontour\":[{\"type\":\"histogram2dcontour\",\"colorbar\":{\"outlinewidth\":0,\"ticks\":\"\"},\"colorscale\":[[0.0,\"#0d0887\"],[0.1111111111111111,\"#46039f\"],[0.2222222222222222,\"#7201a8\"],[0.3333333333333333,\"#9c179e\"],[0.4444444444444444,\"#bd3786\"],[0.5555555555555556,\"#d8576b\"],[0.6666666666666666,\"#ed7953\"],[0.7777777777777778,\"#fb9f3a\"],[0.8888888888888888,\"#fdca26\"],[1.0,\"#f0f921\"]]}],\"choropleth\":[{\"type\":\"choropleth\",\"colorbar\":{\"outlinewidth\":0,\"ticks\":\"\"}}],\"histogram2d\":[{\"type\":\"histogram2d\",\"colorbar\":{\"outlinewidth\":0,\"ticks\":\"\"},\"colorscale\":[[0.0,\"#0d0887\"],[0.1111111111111111,\"#46039f\"],[0.2222222222222222,\"#7201a8\"],[0.3333333333333333,\"#9c179e\"],[0.4444444444444444,\"#bd3786\"],[0.5555555555555556,\"#d8576b\"],[0.6666666666666666,\"#ed7953\"],[0.7777777777777778,\"#fb9f3a\"],[0.8888888888888888,\"#fdca26\"],[1.0,\"#f0f921\"]]}],\"heatmap\":[{\"type\":\"heatmap\",\"colorbar\":{\"outlinewidth\":0,\"ticks\":\"\"},\"colorscale\":[[0.0,\"#0d0887\"],[0.1111111111111111,\"#46039f\"],[0.2222222222222222,\"#7201a8\"],[0.3333333333333333,\"#9c179e\"],[0.4444444444444444,\"#bd3786\"],[0.5555555555555556,\"#d8576b\"],[0.6666666666666666,\"#ed7953\"],[0.7777777777777778,\"#fb9f3a\"],[0.8888888888888888,\"#fdca26\"],[1.0,\"#f0f921\"]]}],\"heatmapgl\":[{\"type\":\"heatmapgl\",\"colorbar\":{\"outlinewidth\":0,\"ticks\":\"\"},\"colorscale\":[[0.0,\"#0d0887\"],[0.1111111111111111,\"#46039f\"],[0.2222222222222222,\"#7201a8\"],[0.3333333333333333,\"#9c179e\"],[0.4444444444444444,\"#bd3786\"],[0.5555555555555556,\"#d8576b\"],[0.6666666666666666,\"#ed7953\"],[0.7777777777777778,\"#fb9f3a\"],[0.8888888888888888,\"#fdca26\"],[1.0,\"#f0f921\"]]}],\"contourcarpet\":[{\"type\":\"contourcarpet\",\"colorbar\":{\"outlinewidth\":0,\"ticks\":\"\"}}],\"contour\":[{\"type\":\"contour\",\"colorbar\":{\"outlinewidth\":0,\"ticks\":\"\"},\"colorscale\":[[0.0,\"#0d0887\"],[0.1111111111111111,\"#46039f\"],[0.2222222222222222,\"#7201a8\"],[0.3333333333333333,\"#9c179e\"],[0.4444444444444444,\"#bd3786\"],[0.5555555555555556,\"#d8576b\"],[0.6666666666666666,\"#ed7953\"],[0.7777777777777778,\"#fb9f3a\"],[0.8888888888888888,\"#fdca26\"],[1.0,\"#f0f921\"]]}],\"surface\":[{\"type\":\"surface\",\"colorbar\":{\"outlinewidth\":0,\"ticks\":\"\"},\"colorscale\":[[0.0,\"#0d0887\"],[0.1111111111111111,\"#46039f\"],[0.2222222222222222,\"#7201a8\"],[0.3333333333333333,\"#9c179e\"],[0.4444444444444444,\"#bd3786\"],[0.5555555555555556,\"#d8576b\"],[0.6666666666666666,\"#ed7953\"],[0.7777777777777778,\"#fb9f3a\"],[0.8888888888888888,\"#fdca26\"],[1.0,\"#f0f921\"]]}],\"mesh3d\":[{\"type\":\"mesh3d\",\"colorbar\":{\"outlinewidth\":0,\"ticks\":\"\"}}],\"scatter\":[{\"fillpattern\":{\"fillmode\":\"overlay\",\"size\":10,\"solidity\":0.2},\"type\":\"scatter\"}],\"parcoords\":[{\"type\":\"parcoords\",\"line\":{\"colorbar\":{\"outlinewidth\":0,\"ticks\":\"\"}}}],\"scatterpolargl\":[{\"type\":\"scatterpolargl\",\"marker\":{\"colorbar\":{\"outlinewidth\":0,\"ticks\":\"\"}}}],\"bar\":[{\"error_x\":{\"color\":\"#2a3f5f\"},\"error_y\":{\"color\":\"#2a3f5f\"},\"marker\":{\"line\":{\"color\":\"#E5ECF6\",\"width\":0.5},\"pattern\":{\"fillmode\":\"overlay\",\"size\":10,\"solidity\":0.2}},\"type\":\"bar\"}],\"scattergeo\":[{\"type\":\"scattergeo\",\"marker\":{\"colorbar\":{\"outlinewidth\":0,\"ticks\":\"\"}}}],\"scatterpolar\":[{\"type\":\"scatterpolar\",\"marker\":{\"colorbar\":{\"outlinewidth\":0,\"ticks\":\"\"}}}],\"histogram\":[{\"marker\":{\"pattern\":{\"fillmode\":\"overlay\",\"size\":10,\"solidity\":0.2}},\"type\":\"histogram\"}],\"scattergl\":[{\"type\":\"scattergl\",\"marker\":{\"colorbar\":{\"outlinewidth\":0,\"ticks\":\"\"}}}],\"scatter3d\":[{\"type\":\"scatter3d\",\"line\":{\"colorbar\":{\"outlinewidth\":0,\"ticks\":\"\"}},\"marker\":{\"colorbar\":{\"outlinewidth\":0,\"ticks\":\"\"}}}],\"scattermapbox\":[{\"type\":\"scattermapbox\",\"marker\":{\"colorbar\":{\"outlinewidth\":0,\"ticks\":\"\"}}}],\"scatterternary\":[{\"type\":\"scatterternary\",\"marker\":{\"colorbar\":{\"outlinewidth\":0,\"ticks\":\"\"}}}],\"scattercarpet\":[{\"type\":\"scattercarpet\",\"marker\":{\"colorbar\":{\"outlinewidth\":0,\"ticks\":\"\"}}}],\"carpet\":[{\"aaxis\":{\"endlinecolor\":\"#2a3f5f\",\"gridcolor\":\"white\",\"linecolor\":\"white\",\"minorgridcolor\":\"white\",\"startlinecolor\":\"#2a3f5f\"},\"baxis\":{\"endlinecolor\":\"#2a3f5f\",\"gridcolor\":\"white\",\"linecolor\":\"white\",\"minorgridcolor\":\"white\",\"startlinecolor\":\"#2a3f5f\"},\"type\":\"carpet\"}],\"table\":[{\"cells\":{\"fill\":{\"color\":\"#EBF0F8\"},\"line\":{\"color\":\"white\"}},\"header\":{\"fill\":{\"color\":\"#C8D4E3\"},\"line\":{\"color\":\"white\"}},\"type\":\"table\"}],\"barpolar\":[{\"marker\":{\"line\":{\"color\":\"#E5ECF6\",\"width\":0.5},\"pattern\":{\"fillmode\":\"overlay\",\"size\":10,\"solidity\":0.2}},\"type\":\"barpolar\"}],\"pie\":[{\"automargin\":true,\"type\":\"pie\"}]},\"layout\":{\"autotypenumbers\":\"strict\",\"colorway\":[\"#636efa\",\"#EF553B\",\"#00cc96\",\"#ab63fa\",\"#FFA15A\",\"#19d3f3\",\"#FF6692\",\"#B6E880\",\"#FF97FF\",\"#FECB52\"],\"font\":{\"color\":\"#2a3f5f\"},\"hovermode\":\"closest\",\"hoverlabel\":{\"align\":\"left\"},\"paper_bgcolor\":\"white\",\"plot_bgcolor\":\"#E5ECF6\",\"polar\":{\"bgcolor\":\"#E5ECF6\",\"angularaxis\":{\"gridcolor\":\"white\",\"linecolor\":\"white\",\"ticks\":\"\"},\"radialaxis\":{\"gridcolor\":\"white\",\"linecolor\":\"white\",\"ticks\":\"\"}},\"ternary\":{\"bgcolor\":\"#E5ECF6\",\"aaxis\":{\"gridcolor\":\"white\",\"linecolor\":\"white\",\"ticks\":\"\"},\"baxis\":{\"gridcolor\":\"white\",\"linecolor\":\"white\",\"ticks\":\"\"},\"caxis\":{\"gridcolor\":\"white\",\"linecolor\":\"white\",\"ticks\":\"\"}},\"coloraxis\":{\"colorbar\":{\"outlinewidth\":0,\"ticks\":\"\"}},\"colorscale\":{\"sequential\":[[0.0,\"#0d0887\"],[0.1111111111111111,\"#46039f\"],[0.2222222222222222,\"#7201a8\"],[0.3333333333333333,\"#9c179e\"],[0.4444444444444444,\"#bd3786\"],[0.5555555555555556,\"#d8576b\"],[0.6666666666666666,\"#ed7953\"],[0.7777777777777778,\"#fb9f3a\"],[0.8888888888888888,\"#fdca26\"],[1.0,\"#f0f921\"]],\"sequentialminus\":[[0.0,\"#0d0887\"],[0.1111111111111111,\"#46039f\"],[0.2222222222222222,\"#7201a8\"],[0.3333333333333333,\"#9c179e\"],[0.4444444444444444,\"#bd3786\"],[0.5555555555555556,\"#d8576b\"],[0.6666666666666666,\"#ed7953\"],[0.7777777777777778,\"#fb9f3a\"],[0.8888888888888888,\"#fdca26\"],[1.0,\"#f0f921\"]],\"diverging\":[[0,\"#8e0152\"],[0.1,\"#c51b7d\"],[0.2,\"#de77ae\"],[0.3,\"#f1b6da\"],[0.4,\"#fde0ef\"],[0.5,\"#f7f7f7\"],[0.6,\"#e6f5d0\"],[0.7,\"#b8e186\"],[0.8,\"#7fbc41\"],[0.9,\"#4d9221\"],[1,\"#276419\"]]},\"xaxis\":{\"gridcolor\":\"white\",\"linecolor\":\"white\",\"ticks\":\"\",\"title\":{\"standoff\":15},\"zerolinecolor\":\"white\",\"automargin\":true,\"zerolinewidth\":2},\"yaxis\":{\"gridcolor\":\"white\",\"linecolor\":\"white\",\"ticks\":\"\",\"title\":{\"standoff\":15},\"zerolinecolor\":\"white\",\"automargin\":true,\"zerolinewidth\":2},\"scene\":{\"xaxis\":{\"backgroundcolor\":\"#E5ECF6\",\"gridcolor\":\"white\",\"linecolor\":\"white\",\"showbackground\":true,\"ticks\":\"\",\"zerolinecolor\":\"white\",\"gridwidth\":2},\"yaxis\":{\"backgroundcolor\":\"#E5ECF6\",\"gridcolor\":\"white\",\"linecolor\":\"white\",\"showbackground\":true,\"ticks\":\"\",\"zerolinecolor\":\"white\",\"gridwidth\":2},\"zaxis\":{\"backgroundcolor\":\"#E5ECF6\",\"gridcolor\":\"white\",\"linecolor\":\"white\",\"showbackground\":true,\"ticks\":\"\",\"zerolinecolor\":\"white\",\"gridwidth\":2}},\"shapedefaults\":{\"line\":{\"color\":\"#2a3f5f\"}},\"annotationdefaults\":{\"arrowcolor\":\"#2a3f5f\",\"arrowhead\":0,\"arrowwidth\":1},\"geo\":{\"bgcolor\":\"white\",\"landcolor\":\"#E5ECF6\",\"subunitcolor\":\"white\",\"showland\":true,\"showlakes\":true,\"lakecolor\":\"white\"},\"title\":{\"x\":0.05},\"mapbox\":{\"style\":\"light\"}}},\"xaxis\":{\"anchor\":\"y\",\"domain\":[0.0,1.0],\"matches\":\"x2\",\"showticklabels\":false},\"yaxis\":{\"anchor\":\"x\",\"domain\":[0.55,1.0],\"visible\":false,\"range\":[-3,3],\"fixedrange\":true},\"xaxis2\":{\"anchor\":\"y2\",\"domain\":[0.0,1.0],\"title\":{\"text\":\"Beam Length (m)\"}},\"yaxis2\":{\"anchor\":\"x2\",\"domain\":[0.0,0.45],\"visible\":false,\"range\":[-3,3],\"fixedrange\":true},\"annotations\":[{\"font\":{\"size\":16},\"showarrow\":false,\"text\":\"Beam schematic\",\"x\":0.5,\"xanchor\":\"center\",\"xref\":\"paper\",\"y\":1.0,\"yanchor\":\"bottom\",\"yref\":\"paper\"},{\"font\":{\"size\":16},\"showarrow\":false,\"text\":\"Reaction Forces\",\"x\":0.5,\"xanchor\":\"center\",\"xref\":\"paper\",\"y\":0.45,\"yanchor\":\"bottom\",\"yref\":\"paper\"},{\"font\":{\"color\":\"red\"},\"showarrow\":false,\"text\":\"-3000.000 N\",\"x\":3,\"xref\":\"x\",\"xshift\":0.0,\"y\":0,\"yref\":\"y\",\"yshift\":52.0},{\"font\":{\"color\":\"magenta\",\"size\":26},\"showarrow\":false,\"text\":\"⭯\",\"x\":5,\"xref\":\"x\",\"y\":0,\"yref\":\"y\",\"yshift\":0},{\"font\":{\"color\":\"magenta\"},\"showarrow\":false,\"text\":\"1000.000 N.m\",\"x\":5,\"xref\":\"x\",\"y\":0,\"yref\":\"y\",\"yshift\":-20},{\"font\":{\"color\":\"red\"},\"showarrow\":false,\"text\":\"1994.169 N\",\"x\":0,\"xref\":\"x2\",\"xshift\":0.0,\"y\":0,\"yref\":\"y2\",\"yshift\":-52.0},{\"font\":{\"color\":\"magenta\",\"size\":26},\"showarrow\":false,\"text\":\"⭯\",\"x\":0,\"xref\":\"x2\",\"y\":0,\"yref\":\"y2\",\"yshift\":0},{\"font\":{\"color\":\"magenta\"},\"showarrow\":false,\"text\":\"3265.306 N.m\",\"x\":0,\"xref\":\"x2\",\"y\":0,\"yref\":\"y2\",\"yshift\":-20},{\"font\":{\"color\":\"red\"},\"showarrow\":false,\"text\":\"1005.831 N\",\"x\":7,\"xref\":\"x2\",\"xshift\":0.0,\"y\":0,\"yref\":\"y2\",\"yshift\":-52.0},{\"font\":{\"color\":\"magenta\",\"size\":26},\"showarrow\":false,\"text\":\"⭮\",\"x\":7,\"xref\":\"x2\",\"y\":0,\"yref\":\"y2\",\"yshift\":0},{\"font\":{\"color\":\"magenta\"},\"showarrow\":false,\"text\":\"-2306.122 N.m\",\"x\":7,\"xref\":\"x2\",\"y\":0,\"yref\":\"y2\",\"yshift\":-20}],\"shapes\":[{\"fillcolor\":\"blue\",\"line\":{\"color\":\"blue\",\"width\":4},\"type\":\"rect\",\"x0\":-2,\"x1\":-2,\"xanchor\":0,\"xref\":\"x\",\"xsizemode\":\"pixel\",\"y0\":-5,\"y1\":5,\"yanchor\":0,\"yref\":\"y\",\"ysizemode\":\"pixel\"},{\"fillcolor\":\"blue\",\"line\":{\"color\":\"blue\",\"width\":4},\"type\":\"rect\",\"x0\":-2,\"x1\":-2,\"xanchor\":7,\"xref\":\"x\",\"xsizemode\":\"pixel\",\"y0\":-5,\"y1\":5,\"yanchor\":0,\"yref\":\"y\",\"ysizemode\":\"pixel\"},{\"line\":{\"color\":\"red\",\"width\":2},\"type\":\"line\",\"x0\":0,\"x1\":-3,\"xanchor\":3,\"xref\":\"x\",\"xsizemode\":\"pixel\",\"y0\":0,\"y1\":3,\"yanchor\":0,\"yref\":\"y\",\"ysizemode\":\"pixel\"},{\"line\":{\"color\":\"red\",\"width\":2},\"type\":\"line\",\"x0\":0,\"x1\":3,\"xanchor\":3,\"xref\":\"x\",\"xsizemode\":\"pixel\",\"y0\":0,\"y1\":3,\"yanchor\":0,\"yref\":\"y\",\"ysizemode\":\"pixel\"},{\"line\":{\"color\":\"red\",\"width\":2},\"type\":\"line\",\"x0\":0,\"x1\":0,\"xanchor\":3,\"xref\":\"x\",\"xsizemode\":\"pixel\",\"y0\":0,\"y1\":40,\"yanchor\":0,\"yref\":\"y\",\"ysizemode\":\"pixel\"},{\"line\":{\"color\":\"red\",\"width\":2},\"type\":\"line\",\"x0\":0,\"x1\":3,\"xanchor\":0,\"xref\":\"x2\",\"xsizemode\":\"pixel\",\"y0\":0,\"y1\":-3,\"yanchor\":0,\"yref\":\"y2\",\"ysizemode\":\"pixel\"},{\"line\":{\"color\":\"red\",\"width\":2},\"type\":\"line\",\"x0\":0,\"x1\":-3,\"xanchor\":0,\"xref\":\"x2\",\"xsizemode\":\"pixel\",\"y0\":0,\"y1\":-3,\"yanchor\":0,\"yref\":\"y2\",\"ysizemode\":\"pixel\"},{\"line\":{\"color\":\"red\",\"width\":2},\"type\":\"line\",\"x0\":0,\"x1\":0,\"xanchor\":0,\"xref\":\"x2\",\"xsizemode\":\"pixel\",\"y0\":0,\"y1\":-40,\"yanchor\":0,\"yref\":\"y2\",\"ysizemode\":\"pixel\"},{\"line\":{\"color\":\"red\",\"width\":2},\"type\":\"line\",\"x0\":0,\"x1\":3,\"xanchor\":7,\"xref\":\"x2\",\"xsizemode\":\"pixel\",\"y0\":0,\"y1\":-3,\"yanchor\":0,\"yref\":\"y2\",\"ysizemode\":\"pixel\"},{\"line\":{\"color\":\"red\",\"width\":2},\"type\":\"line\",\"x0\":0,\"x1\":-3,\"xanchor\":7,\"xref\":\"x2\",\"xsizemode\":\"pixel\",\"y0\":0,\"y1\":-3,\"yanchor\":0,\"yref\":\"y2\",\"ysizemode\":\"pixel\"},{\"line\":{\"color\":\"red\",\"width\":2},\"type\":\"line\",\"x0\":0,\"x1\":0,\"xanchor\":7,\"xref\":\"x2\",\"xsizemode\":\"pixel\",\"y0\":0,\"y1\":-40,\"yanchor\":0,\"yref\":\"y2\",\"ysizemode\":\"pixel\"}],\"title\":{\"font\":{\"size\":24},\"text\":\"Beam External Conditions\",\"x\":0.5},\"height\":550,\"width\":700,\"showlegend\":false,\"hovermode\":\"x\"},                        {\"responsive\": true}                    ).then(function(){\n",
              "                            \n",
              "var gd = document.getElementById('37539e49-de16-4cb8-9ce2-e1885656d461');\n",
              "var x = new MutationObserver(function (mutations, observer) {{\n",
              "        var display = window.getComputedStyle(gd).display;\n",
              "        if (!display || display === 'none') {{\n",
              "            console.log([gd, 'removed!']);\n",
              "            Plotly.purge(gd);\n",
              "            observer.disconnect();\n",
              "        }}\n",
              "}});\n",
              "\n",
              "// Listen for the removal of the full notebook cells\n",
              "var notebookContainer = gd.closest('#notebook-container');\n",
              "if (notebookContainer) {{\n",
              "    x.observe(notebookContainer, {childList: true});\n",
              "}}\n",
              "\n",
              "// Listen for the clearing of the current output cell\n",
              "var outputEl = gd.closest('.output');\n",
              "if (outputEl) {{\n",
              "    x.observe(outputEl, {childList: true});\n",
              "}}\n",
              "\n",
              "                        })                };                            </script>        </div>\n",
              "</body>\n",
              "</html>"
            ]
          },
          "metadata": {}
        },
        {
          "output_type": "display_data",
          "data": {
            "text/html": [
              "<html>\n",
              "<head><meta charset=\"utf-8\" /></head>\n",
              "<body>\n",
              "    <div>            <script src=\"https://cdnjs.cloudflare.com/ajax/libs/mathjax/2.7.5/MathJax.js?config=TeX-AMS-MML_SVG\"></script><script type=\"text/javascript\">if (window.MathJax && window.MathJax.Hub && window.MathJax.Hub.Config) {window.MathJax.Hub.Config({SVG: {font: \"STIX-Web\"}});}</script>                <script type=\"text/javascript\">window.PlotlyConfig = {MathJaxConfig: 'local'};</script>\n",
              "        <script charset=\"utf-8\" src=\"https://cdn.plot.ly/plotly-2.35.2.min.js\"></script>                <div id=\"824827a0-a2d1-447c-8540-fedc0c423de5\" class=\"plotly-graph-div\" style=\"height:1000px; width:700px;\"></div>            <script type=\"text/javascript\">                                    window.PLOTLYENV=window.PLOTLYENV || {};                                    if (document.getElementById(\"824827a0-a2d1-447c-8540-fedc0c423de5\")) {                    Plotly.newPlot(                        \"824827a0-a2d1-447c-8540-fedc0c423de5\",                        [{\"fill\":\"tozeroy\",\"hovertemplate\":\"x: %{x:.3f} %{meta[0]}\\u003cbr\\u003ef(x): %{y:.3f} %{meta[1]}\",\"line\":{\"color\":\"red\",\"width\":1},\"meta\":[\"m\",\"N\"],\"mode\":\"lines\",\"name\":\"Normal Force\",\"x\":[0.0,1e-7,0.035175879396984924,0.07035175879396985,0.10552763819095477,0.1407035175879397,0.1758793969849246,0.21105527638190955,0.24623115577889448,0.2814070351758794,0.3165829145728643,0.3517587939698492,0.3869346733668342,0.4221105527638191,0.457286432160804,0.49246231155778897,0.5276381909547738,0.5628140703517588,0.5979899497487438,0.6331658291457286,0.6683417085427136,0.7035175879396984,0.7386934673366834,0.7738693467336684,0.8090452261306532,0.8442211055276382,0.8793969849246231,0.914572864321608,0.949748743718593,0.9849246231155779,1.020100502512563,1.0552763819095476,1.0904522613065326,1.1256281407035176,1.1608040201005025,1.1959798994974875,1.2311557788944723,1.2663316582914572,1.3015075376884422,1.3366834170854272,1.3718592964824121,1.4070351758793969,1.4422110552763818,1.4773869346733668,1.5125628140703518,1.5477386934673367,1.5829145728643217,1.6180904522613064,1.6532663316582914,1.6884422110552764,1.7236180904522613,1.7587939698492463,1.793969849246231,1.829145728643216,1.864321608040201,1.899497487437186,1.934673366834171,1.9698492462311559,2.0050251256281406,2.040201005025126,2.0753768844221105,2.1105527638190953,2.1457286432160805,2.180904522613065,2.2160804020100504,2.251256281407035,2.28643216080402,2.321608040201005,2.35678391959799,2.391959798994975,2.4271356783919598,2.4623115577889445,2.4974874371859297,2.5326633165829144,2.5678391959798996,2.6030150753768844,2.638190954773869,2.6733668341708543,2.708542713567839,2.7437185929648242,2.778894472361809,2.8140703517587937,2.849246231155779,2.8844221105527637,2.919597989949749,2.9547738693467336,2.9899497487437188,2.9999999,3.0000001,3.0251256281407035,3.0603015075376883,3.0954773869346734,3.130653266331658,3.1658291457286434,3.201005025125628,3.236180904522613,3.271356783919598,3.306532663316583,3.341708542713568,3.3768844221105527,3.4120603015075375,3.4472361809045227,3.4824120603015074,3.5175879396984926,3.5527638190954773,3.587939698492462,3.6231155778894473,3.658291457286432,3.693467336683417,3.728643216080402,3.7638190954773867,3.798994974874372,3.8341708542713566,3.869346733668342,3.9045226130653266,3.9396984924623117,3.9748743718592965,4.010050251256281,4.045226130653266,4.080402010050252,4.115577889447236,4.150753768844221,4.185929648241206,4.221105527638191,4.256281407035176,4.291457286432161,4.326633165829145,4.36180904522613,4.396984924623116,4.432160804020101,4.467336683417085,4.50251256281407,4.5376884422110555,4.57286432160804,4.608040201005025,4.64321608040201,4.678391959798995,4.71356783919598,4.748743718592965,4.78391959798995,4.819095477386934,4.8542713567839195,4.889447236180905,4.924623115577889,4.959798994974874,4.994974874371859,4.9999999,5.0000001,5.030150753768845,5.065326633165829,5.100502512562814,5.135678391959799,5.1708542713567835,5.206030150753769,5.241206030150754,5.276381909547738,5.311557788944723,5.346733668341709,5.381909547738694,5.417085427135678,5.452261306532663,5.4874371859296485,5.522613065326633,5.557788944723618,5.592964824120603,5.628140703517587,5.663316582914573,5.698492462311558,5.733668341708543,5.768844221105527,5.8040201005025125,5.839195979899498,5.874371859296482,5.909547738693467,5.944723618090452,5.9798994974874375,6.015075376884422,6.050251256281407,6.085427135678392,6.1206030150753765,6.155778894472362,6.190954773869347,6.226130653266331,6.261306532663316,6.296482412060302,6.331658291457287,6.366834170854271,6.402010050251256,6.437185929648241,6.472361809045226,6.507537688442211,6.542713567839196,6.57788944723618,6.613065326633166,6.648241206030151,6.683417085427136,6.71859296482412,6.7537688442211055,6.788944723618091,6.824120603015075,6.85929648241206,6.894472361809045,6.9296482412060305,6.964824120603015,6.9999999,7.0],\"y\":[0.0,0.0,0.0,0.0,0.0,0.0,0.0,0.0,0.0,0.0,0.0,0.0,0.0,0.0,0.0,0.0,0.0,0.0,0.0,0.0,0.0,0.0,0.0,0.0,0.0,0.0,0.0,0.0,0.0,0.0,0.0,0.0,0.0,0.0,0.0,0.0,0.0,0.0,0.0,0.0,0.0,0.0,0.0,0.0,0.0,0.0,0.0,0.0,0.0,0.0,0.0,0.0,0.0,0.0,0.0,0.0,0.0,0.0,0.0,0.0,0.0,0.0,0.0,0.0,0.0,0.0,0.0,0.0,0.0,0.0,0.0,0.0,0.0,0.0,0.0,0.0,0.0,0.0,0.0,0.0,0.0,0.0,0.0,0.0,0.0,0.0,0.0,0.0,0.0,0.0,0.0,0.0,0.0,0.0,0.0,0.0,0.0,0.0,0.0,0.0,0.0,0.0,0.0,0.0,0.0,0.0,0.0,0.0,0.0,0.0,0.0,0.0,0.0,0.0,0.0,0.0,0.0,0.0,0.0,0.0,0.0,0.0,0.0,0.0,0.0,0.0,0.0,0.0,0.0,0.0,0.0,0.0,0.0,0.0,0.0,0.0,0.0,0.0,0.0,0.0,0.0,0.0,0.0,0.0,0.0,0.0,0.0,0.0,0.0,0.0,0.0,0.0,0.0,0.0,0.0,0.0,0.0,0.0,0.0,0.0,0.0,0.0,0.0,0.0,0.0,0.0,0.0,0.0,0.0,0.0,0.0,0.0,0.0,0.0,0.0,0.0,0.0,0.0,0.0,0.0,0.0,0.0,0.0,0.0,0.0,0.0,0.0,0.0,0.0,0.0,0.0,0.0,0.0,0.0,0.0,0.0,0.0,0.0,0.0,0.0,0.0,0.0,0.0,0.0,0.0,0.0],\"type\":\"scatter\",\"xaxis\":\"x\",\"yaxis\":\"y\"},{\"fill\":\"tozeroy\",\"hovertemplate\":\"x: %{x:.3f} %{meta[0]}\\u003cbr\\u003ef(x): %{y:.3f} %{meta[1]}\",\"line\":{\"color\":\"aqua\",\"width\":1},\"meta\":[\"m\",\"N\"],\"mode\":\"lines\",\"name\":\"Shear Force\",\"x\":[0.0,1e-7,0.035175879396984924,0.07035175879396985,0.10552763819095477,0.1407035175879397,0.1758793969849246,0.21105527638190955,0.24623115577889448,0.2814070351758794,0.3165829145728643,0.3517587939698492,0.3869346733668342,0.4221105527638191,0.457286432160804,0.49246231155778897,0.5276381909547738,0.5628140703517588,0.5979899497487438,0.6331658291457286,0.6683417085427136,0.7035175879396984,0.7386934673366834,0.7738693467336684,0.8090452261306532,0.8442211055276382,0.8793969849246231,0.914572864321608,0.949748743718593,0.9849246231155779,1.020100502512563,1.0552763819095476,1.0904522613065326,1.1256281407035176,1.1608040201005025,1.1959798994974875,1.2311557788944723,1.2663316582914572,1.3015075376884422,1.3366834170854272,1.3718592964824121,1.4070351758793969,1.4422110552763818,1.4773869346733668,1.5125628140703518,1.5477386934673367,1.5829145728643217,1.6180904522613064,1.6532663316582914,1.6884422110552764,1.7236180904522613,1.7587939698492463,1.793969849246231,1.829145728643216,1.864321608040201,1.899497487437186,1.934673366834171,1.9698492462311559,2.0050251256281406,2.040201005025126,2.0753768844221105,2.1105527638190953,2.1457286432160805,2.180904522613065,2.2160804020100504,2.251256281407035,2.28643216080402,2.321608040201005,2.35678391959799,2.391959798994975,2.4271356783919598,2.4623115577889445,2.4974874371859297,2.5326633165829144,2.5678391959798996,2.6030150753768844,2.638190954773869,2.6733668341708543,2.708542713567839,2.7437185929648242,2.778894472361809,2.8140703517587937,2.849246231155779,2.8844221105527637,2.919597989949749,2.9547738693467336,2.9899497487437188,2.9999999,3.0000001,3.0251256281407035,3.0603015075376883,3.0954773869346734,3.130653266331658,3.1658291457286434,3.201005025125628,3.236180904522613,3.271356783919598,3.306532663316583,3.341708542713568,3.3768844221105527,3.4120603015075375,3.4472361809045227,3.4824120603015074,3.5175879396984926,3.5527638190954773,3.587939698492462,3.6231155778894473,3.658291457286432,3.693467336683417,3.728643216080402,3.7638190954773867,3.798994974874372,3.8341708542713566,3.869346733668342,3.9045226130653266,3.9396984924623117,3.9748743718592965,4.010050251256281,4.045226130653266,4.080402010050252,4.115577889447236,4.150753768844221,4.185929648241206,4.221105527638191,4.256281407035176,4.291457286432161,4.326633165829145,4.36180904522613,4.396984924623116,4.432160804020101,4.467336683417085,4.50251256281407,4.5376884422110555,4.57286432160804,4.608040201005025,4.64321608040201,4.678391959798995,4.71356783919598,4.748743718592965,4.78391959798995,4.819095477386934,4.8542713567839195,4.889447236180905,4.924623115577889,4.959798994974874,4.994974874371859,4.9999999,5.0000001,5.030150753768845,5.065326633165829,5.100502512562814,5.135678391959799,5.1708542713567835,5.206030150753769,5.241206030150754,5.276381909547738,5.311557788944723,5.346733668341709,5.381909547738694,5.417085427135678,5.452261306532663,5.4874371859296485,5.522613065326633,5.557788944723618,5.592964824120603,5.628140703517587,5.663316582914573,5.698492462311558,5.733668341708543,5.768844221105527,5.8040201005025125,5.839195979899498,5.874371859296482,5.909547738693467,5.944723618090452,5.9798994974874375,6.015075376884422,6.050251256281407,6.085427135678392,6.1206030150753765,6.155778894472362,6.190954773869347,6.226130653266331,6.261306532663316,6.296482412060302,6.331658291457287,6.366834170854271,6.402010050251256,6.437185929648241,6.472361809045226,6.507537688442211,6.542713567839196,6.57788944723618,6.613065326633166,6.648241206030151,6.683417085427136,6.71859296482412,6.7537688442211055,6.788944723618091,6.824120603015075,6.85929648241206,6.894472361809045,6.9296482412060305,6.964824120603015,6.9999999,7.0],\"y\":[1994.16909620991,1994.16909620991,1994.16909620991,1994.16909620991,1994.16909620991,1994.16909620991,1994.16909620991,1994.16909620991,1994.16909620991,1994.16909620991,1994.16909620991,1994.16909620991,1994.16909620991,1994.16909620991,1994.16909620991,1994.16909620991,1994.16909620991,1994.16909620991,1994.16909620991,1994.16909620991,1994.16909620991,1994.16909620991,1994.16909620991,1994.16909620991,1994.16909620991,1994.16909620991,1994.16909620991,1994.16909620991,1994.16909620991,1994.16909620991,1994.16909620991,1994.16909620991,1994.16909620991,1994.16909620991,1994.16909620991,1994.16909620991,1994.16909620991,1994.16909620991,1994.16909620991,1994.16909620991,1994.16909620991,1994.16909620991,1994.16909620991,1994.16909620991,1994.16909620991,1994.16909620991,1994.16909620991,1994.16909620991,1994.16909620991,1994.16909620991,1994.16909620991,1994.16909620991,1994.16909620991,1994.16909620991,1994.16909620991,1994.16909620991,1994.16909620991,1994.16909620991,1994.16909620991,1994.16909620991,1994.16909620991,1994.16909620991,1994.16909620991,1994.16909620991,1994.16909620991,1994.16909620991,1994.16909620991,1994.16909620991,1994.16909620991,1994.16909620991,1994.16909620991,1994.16909620991,1994.16909620991,1994.16909620991,1994.16909620991,1994.16909620991,1994.16909620991,1994.16909620991,1994.16909620991,1994.16909620991,1994.16909620991,1994.16909620991,1994.16909620991,1994.16909620991,1994.16909620991,1994.16909620991,1994.16909620991,1994.16909620991,-1005.8309037900899,-1005.8309037900899,-1005.8309037900899,-1005.8309037900899,-1005.8309037900899,-1005.8309037900899,-1005.8309037900899,-1005.8309037900899,-1005.8309037900899,-1005.8309037900899,-1005.8309037900899,-1005.8309037900899,-1005.8309037900899,-1005.8309037900899,-1005.8309037900899,-1005.8309037900899,-1005.8309037900899,-1005.8309037900899,-1005.8309037900899,-1005.8309037900899,-1005.8309037900899,-1005.8309037900899,-1005.8309037900899,-1005.8309037900899,-1005.8309037900899,-1005.8309037900899,-1005.8309037900899,-1005.8309037900899,-1005.8309037900899,-1005.8309037900899,-1005.8309037900899,-1005.8309037900899,-1005.8309037900899,-1005.8309037900899,-1005.8309037900899,-1005.8309037900899,-1005.8309037900899,-1005.8309037900899,-1005.8309037900899,-1005.8309037900899,-1005.8309037900899,-1005.8309037900899,-1005.8309037900899,-1005.8309037900899,-1005.8309037900899,-1005.8309037900899,-1005.8309037900899,-1005.8309037900899,-1005.8309037900899,-1005.8309037900899,-1005.8309037900899,-1005.8309037900899,-1005.8309037900899,-1005.8309037900899,-1005.8309037900899,-1005.8309037900899,-1005.8309037900899,-1005.8309037900899,-1005.8309037900899,-1005.8309037900899,-1005.8309037900899,-1005.8309037900899,-1005.8309037900899,-1005.8309037900899,-1005.8309037900899,-1005.8309037900899,-1005.8309037900899,-1005.8309037900899,-1005.8309037900899,-1005.8309037900899,-1005.8309037900899,-1005.8309037900899,-1005.8309037900899,-1005.8309037900899,-1005.8309037900899,-1005.8309037900899,-1005.8309037900899,-1005.8309037900899,-1005.8309037900899,-1005.8309037900899,-1005.8309037900899,-1005.8309037900899,-1005.8309037900899,-1005.8309037900899,-1005.8309037900899,-1005.8309037900899,-1005.8309037900899,-1005.8309037900899,-1005.8309037900899,-1005.8309037900899,-1005.8309037900899,-1005.8309037900899,-1005.8309037900899,-1005.8309037900899,-1005.8309037900899,-1005.8309037900899,-1005.8309037900899,-1005.8309037900899,-1005.8309037900899,-1005.8309037900899,-1005.8309037900899,-1005.8309037900899,-1005.8309037900899,-1005.8309037900899,-1005.8309037900899,-1005.8309037900899,-1005.8309037900899,-1005.8309037900899,-1005.8309037900899,-1005.8309037900899,-1005.8309037900899,-1005.8309037900899,-1005.8309037900899,-1005.8309037900899,-1005.8309037900899,-1005.8309037900899,-1005.8309037900899,1.1368683772161603e-13],\"type\":\"scatter\",\"xaxis\":\"x2\",\"yaxis\":\"y2\"},{\"fill\":\"tozeroy\",\"hovertemplate\":\"x: %{x:.3f} %{meta[0]}\\u003cbr\\u003ef(x): %{y:.3f} %{meta[1]}\",\"line\":{\"color\":\"lightgreen\",\"width\":1},\"meta\":[\"m\",\"N.m\"],\"mode\":\"lines\",\"name\":\"Bending Moment\",\"x\":[0.0,1e-7,0.035175879396984924,0.07035175879396985,0.10552763819095477,0.1407035175879397,0.1758793969849246,0.21105527638190955,0.24623115577889448,0.2814070351758794,0.3165829145728643,0.3517587939698492,0.3869346733668342,0.4221105527638191,0.457286432160804,0.49246231155778897,0.5276381909547738,0.5628140703517588,0.5979899497487438,0.6331658291457286,0.6683417085427136,0.7035175879396984,0.7386934673366834,0.7738693467336684,0.8090452261306532,0.8442211055276382,0.8793969849246231,0.914572864321608,0.949748743718593,0.9849246231155779,1.020100502512563,1.0552763819095476,1.0904522613065326,1.1256281407035176,1.1608040201005025,1.1959798994974875,1.2311557788944723,1.2663316582914572,1.3015075376884422,1.3366834170854272,1.3718592964824121,1.4070351758793969,1.4422110552763818,1.4773869346733668,1.5125628140703518,1.5477386934673367,1.5829145728643217,1.6180904522613064,1.6532663316582914,1.6884422110552764,1.7236180904522613,1.7587939698492463,1.793969849246231,1.829145728643216,1.864321608040201,1.899497487437186,1.934673366834171,1.9698492462311559,2.0050251256281406,2.040201005025126,2.0753768844221105,2.1105527638190953,2.1457286432160805,2.180904522613065,2.2160804020100504,2.251256281407035,2.28643216080402,2.321608040201005,2.35678391959799,2.391959798994975,2.4271356783919598,2.4623115577889445,2.4974874371859297,2.5326633165829144,2.5678391959798996,2.6030150753768844,2.638190954773869,2.6733668341708543,2.708542713567839,2.7437185929648242,2.778894472361809,2.8140703517587937,2.849246231155779,2.8844221105527637,2.919597989949749,2.9547738693467336,2.9899497487437188,2.9999999,3.0000001,3.0251256281407035,3.0603015075376883,3.0954773869346734,3.130653266331658,3.1658291457286434,3.201005025125628,3.236180904522613,3.271356783919598,3.306532663316583,3.341708542713568,3.3768844221105527,3.4120603015075375,3.4472361809045227,3.4824120603015074,3.5175879396984926,3.5527638190954773,3.587939698492462,3.6231155778894473,3.658291457286432,3.693467336683417,3.728643216080402,3.7638190954773867,3.798994974874372,3.8341708542713566,3.869346733668342,3.9045226130653266,3.9396984924623117,3.9748743718592965,4.010050251256281,4.045226130653266,4.080402010050252,4.115577889447236,4.150753768844221,4.185929648241206,4.221105527638191,4.256281407035176,4.291457286432161,4.326633165829145,4.36180904522613,4.396984924623116,4.432160804020101,4.467336683417085,4.50251256281407,4.5376884422110555,4.57286432160804,4.608040201005025,4.64321608040201,4.678391959798995,4.71356783919598,4.748743718592965,4.78391959798995,4.819095477386934,4.8542713567839195,4.889447236180905,4.924623115577889,4.959798994974874,4.994974874371859,4.9999999,5.0000001,5.030150753768845,5.065326633165829,5.100502512562814,5.135678391959799,5.1708542713567835,5.206030150753769,5.241206030150754,5.276381909547738,5.311557788944723,5.346733668341709,5.381909547738694,5.417085427135678,5.452261306532663,5.4874371859296485,5.522613065326633,5.557788944723618,5.592964824120603,5.628140703517587,5.663316582914573,5.698492462311558,5.733668341708543,5.768844221105527,5.8040201005025125,5.839195979899498,5.874371859296482,5.909547738693467,5.944723618090452,5.9798994974874375,6.015075376884422,6.050251256281407,6.085427135678392,6.1206030150753765,6.155778894472362,6.190954773869347,6.226130653266331,6.261306532663316,6.296482412060302,6.331658291457287,6.366834170854271,6.402010050251256,6.437185929648241,6.472361809045226,6.507537688442211,6.542713567839196,6.57788944723618,6.613065326633166,6.648241206030151,6.683417085427136,6.71859296482412,6.7537688442211055,6.788944723618091,6.824120603015075,6.85929648241206,6.894472361809045,6.9296482412060305,6.964824120603015,6.9999999,7.0],\"y\":[-3265.30612244898,-3265.3059230320705,-3195.159470823506,-3125.0128191980316,-3054.8661675725575,-2984.7195159470834,-2914.572864321609,-2844.426212696135,-2774.2795610706607,-2704.1329094451867,-2633.986257819712,-2563.839606194238,-2493.6929545687635,-2423.5463029432894,-2353.3996513178154,-2283.2529996923413,-2213.106348066867,-2142.9596964413927,-2072.813044815918,-2002.6663931904443,-1932.51974156497,-1862.373089939496,-1792.2264383140216,-1722.0797866885473,-1651.9331350630732,-1581.786483437599,-1511.6398318121246,-1441.4931801866505,-1371.3465285611762,-1301.199876935702,-1231.0532253102276,-1160.9065736847538,-1090.7599220592792,-1020.6132704338052,-950.4666188083306,-880.3199671828565,-810.1733155573825,-740.0266639319084,-669.8800123064339,-599.7333606809598,-529.5867090554852,-459.4400574300116,-389.2934058045371,-319.146754179063,-249.00010255358848,-178.8534509281144,-108.70679930263987,-38.56014767716624,31.58650394830829,101.73315557378237,171.8798071992569,242.02645882473098,312.17311045020506,382.31976207567914,452.46641370115367,522.6130653266277,592.7597169521023,662.9063685775764,733.0530202030504,803.199671828525,873.3463234539986,943.4929750794727,1013.6396267049477,1083.7862783304217,1153.9329299558958,1224.07958158137,1294.226233206844,1364.372884832319,1434.519536457793,1504.6661880832671,1574.8128397087412,1644.9594913342153,1715.1061429596903,1785.2527945851634,1855.3994462106384,1925.5460978361125,1995.6927494615866,2065.8394010870607,2135.9860527125347,2206.1327043380097,2276.279355963484,2346.426007588957,2416.572659214432,2486.719310839906,2556.865962465381,2627.012614090854,2697.159265716329,2717.2009667638404,2717.20106559766,2691.929032919693,2656.5480463542126,2621.167059788731,2585.786073223251,2550.4050866577704,2515.02410009229,2479.643113526809,2444.2621269613287,2408.8811403958484,2373.5001538303677,2338.1191672648865,2302.7381806994067,2267.357194133926,2231.9762075684457,2196.5952210029645,2161.2142344374843,2125.833247872004,2090.4522613065237,2055.0712747410425,2019.6902881755618,1984.3093016100815,1948.9283150446017,1913.54732847912,1878.1663419136398,1842.7853553481596,1807.4043687826793,1772.0233822171976,1736.6423956517174,1701.2614090862376,1665.8804225207568,1630.4994359552752,1595.1184493897963,1559.7374628243142,1524.3564762588335,1488.9754896933537,1453.5945031278734,1418.2135165623927,1382.8325299969129,1347.4515434314321,1312.0705568659514,1276.6895703004693,1241.30858373499,1205.9275971695088,1170.5466106040285,1135.1656240385491,1099.784637473068,1064.4036509075877,1029.0226643421074,993.6416777766271,958.2606912111451,922.8797046456648,887.4987180801845,852.1177315147042,816.7367449492231,781.3557583837437,745.9747718182634,710.5937852527823,705.5394591836612,-294.46074198252063,-324.78720131269984,-360.1681878781792,-395.5491744436604,-430.93016100914065,-466.31114757462,-501.6921341401012,-537.0731207055815,-572.4541072710617,-607.8350938365438,-643.2160804020241,-678.5970669675053,-713.9780535329846,-749.3590400984649,-784.7400266639461,-820.1210132294254,-855.5019997949057,-890.8829863603887,-926.2639729258681,-961.6449594913483,-997.0259460568295,-1032.4069326223098,-1067.78791918779,-1103.1689057532703,-1138.5498923187506,-1173.9308788842327,-1209.311865449713,-1244.6928520151932,-1280.0738385806735,-1315.4548251461538,-1350.835811711634,-1386.2167982771143,-1421.5977848425946,-1456.9787714080767,-1492.359757973557,-1527.7407445390372,-1563.1217311045184,-1598.5027176699969,-1633.8837042354808,-1669.2646908009592,-1704.6456773664377,-1740.0266639319216,-1775.4076504974,-1810.788637062884,-1846.1696236283624,-1881.5506101938408,-1916.9315967593247,-1952.3125833248032,-1987.6935698902853,-2023.0745564557656,-2058.4555430212476,-2093.836529586726,-2129.2175161522064,-2164.5985027176885,-2199.979489283167,-2235.360475848649,-2270.7414624141293,-2306.122348396517,-1.8189894035458565e-11],\"type\":\"scatter\",\"xaxis\":\"x3\",\"yaxis\":\"y3\"},{\"fill\":\"tozeroy\",\"hovertemplate\":\"x: %{x:.3f} %{meta[0]}\\u003cbr\\u003ef(x): %{y:.3f} %{meta[1]}\",\"line\":{\"color\":\"blue\",\"width\":1},\"meta\":[\"m\",\"m\"],\"mode\":\"lines\",\"name\":\"Deflection\",\"x\":[0.0,1e-7,0.035175879396984924,0.07035175879396985,0.10552763819095477,0.1407035175879397,0.1758793969849246,0.21105527638190955,0.24623115577889448,0.2814070351758794,0.3165829145728643,0.3517587939698492,0.3869346733668342,0.4221105527638191,0.457286432160804,0.49246231155778897,0.5276381909547738,0.5628140703517588,0.5979899497487438,0.6331658291457286,0.6683417085427136,0.7035175879396984,0.7386934673366834,0.7738693467336684,0.8090452261306532,0.8442211055276382,0.8793969849246231,0.914572864321608,0.949748743718593,0.9849246231155779,1.020100502512563,1.0552763819095476,1.0904522613065326,1.1256281407035176,1.1608040201005025,1.1959798994974875,1.2311557788944723,1.2663316582914572,1.3015075376884422,1.3366834170854272,1.3718592964824121,1.4070351758793969,1.4422110552763818,1.4773869346733668,1.5125628140703518,1.5477386934673367,1.5829145728643217,1.6180904522613064,1.6532663316582914,1.6884422110552764,1.7236180904522613,1.7587939698492463,1.793969849246231,1.829145728643216,1.864321608040201,1.899497487437186,1.934673366834171,1.9698492462311559,2.0050251256281406,2.040201005025126,2.0753768844221105,2.1105527638190953,2.1457286432160805,2.180904522613065,2.2160804020100504,2.251256281407035,2.28643216080402,2.321608040201005,2.35678391959799,2.391959798994975,2.4271356783919598,2.4623115577889445,2.4974874371859297,2.5326633165829144,2.5678391959798996,2.6030150753768844,2.638190954773869,2.6733668341708543,2.708542713567839,2.7437185929648242,2.778894472361809,2.8140703517587937,2.849246231155779,2.8844221105527637,2.919597989949749,2.9547738693467336,2.9899497487437188,2.9999999,3.0000001,3.0251256281407035,3.0603015075376883,3.0954773869346734,3.130653266331658,3.1658291457286434,3.201005025125628,3.236180904522613,3.271356783919598,3.306532663316583,3.341708542713568,3.3768844221105527,3.4120603015075375,3.4472361809045227,3.4824120603015074,3.5175879396984926,3.5527638190954773,3.587939698492462,3.6231155778894473,3.658291457286432,3.693467336683417,3.728643216080402,3.7638190954773867,3.798994974874372,3.8341708542713566,3.869346733668342,3.9045226130653266,3.9396984924623117,3.9748743718592965,4.010050251256281,4.045226130653266,4.080402010050252,4.115577889447236,4.150753768844221,4.185929648241206,4.221105527638191,4.256281407035176,4.291457286432161,4.326633165829145,4.36180904522613,4.396984924623116,4.432160804020101,4.467336683417085,4.50251256281407,4.5376884422110555,4.57286432160804,4.608040201005025,4.64321608040201,4.678391959798995,4.71356783919598,4.748743718592965,4.78391959798995,4.819095477386934,4.8542713567839195,4.889447236180905,4.924623115577889,4.959798994974874,4.994974874371859,4.9999999,5.0000001,5.030150753768845,5.065326633165829,5.100502512562814,5.135678391959799,5.1708542713567835,5.206030150753769,5.241206030150754,5.276381909547738,5.311557788944723,5.346733668341709,5.381909547738694,5.417085427135678,5.452261306532663,5.4874371859296485,5.522613065326633,5.557788944723618,5.592964824120603,5.628140703517587,5.663316582914573,5.698492462311558,5.733668341708543,5.768844221105527,5.8040201005025125,5.839195979899498,5.874371859296482,5.909547738693467,5.944723618090452,5.9798994974874375,6.015075376884422,6.050251256281407,6.085427135678392,6.1206030150753765,6.155778894472362,6.190954773869347,6.226130653266331,6.261306532663316,6.296482412060302,6.331658291457287,6.366834170854271,6.402010050251256,6.437185929648241,6.472361809045226,6.507537688442211,6.542713567839196,6.57788944723618,6.613065326633166,6.648241206030151,6.683417085427136,6.71859296482412,6.7537688442211055,6.788944723618091,6.824120603015075,6.85929648241206,6.894472361809045,6.9296482412060305,6.964824120603015,6.9999999,7.0],\"y\":[0.0,-9.020182475073682e-18,-1.1081133153815927e-6,-4.400484409709718e-6,-9.829160005259398e-6,-0.000017346186824305656,-0.000026903611589123505,-0.00003845348102198798,-0.0000519478418451741,-0.00006733874078095686,-0.00008457822455161132,-0.00010361833987941248,-0.0001244111334866354,-0.000146908652095555,-0.0001710629424284464,-0.00019682605120758466,-0.00022415002515524464,-0.00025298691099370145,-0.0002832887554452302,-0.0003150076052321057,-0.00034809550707660323,-0.00038250450770099754,-0.000418186653827564,-0.0004550939921785773,-0.0004931785694763125,-0.0005323924324430447,-0.0005726876278010492,-0.0006140162022726004,-0.000656330202579974,-0.0006995816754454446,-0.0007437226675912872,-0.0007887052257397769,-0.0008344813966131887,-0.0008810032269337979,-0.0009282227634238793,-0.0009760920528057077,-0.0010245631418015584,-0.0010735880771337064,-0.001123118905524427,-0.0011731076736959944,-0.0012235064283706845,-0.0012742672162707716,-0.0013253420841185313,-0.0013766830786362387,-0.0014282422465461677,-0.0014799716345705951,-0.0015318232894317944,-0.001583749257852041,-0.0016357015865536102,-0.001687632322258777,-0.0017394935116898165,-0.0017912372015690039,-0.001842815438618613,-0.0018941802695609201,-0.0019452837411182,-0.0019960779000127277,-0.0020465147929667775,-0.0020965464667026257,-0.0021461249679425457,-0.0021952023434088142,-0.0022437306398237055,-0.0022916619039094945,-0.0023389481823884563,-0.002385541521982865,-0.0024313939694149975,-0.0024764575714071274,-0.0025206843746815306,-0.0025640264259604814,-0.002606435771966255,-0.002647864459421127,-0.002688264535047371,-0.0027275880455672643,-0.00276578703770308,-0.0028028135581770934,-0.0028386196537115807,-0.002873157371028816,-0.002906378756851074,-0.0029382358579006307,-0.0029686807208997596,-0.0029976653925707373,-0.0030251419196358383,-0.0030510623488173363,-0.0030753787268375087,-0.003098043100418629,-0.003119007516282972,-0.003138224021152816,-0.0031556446617504313,-0.0031602853789281906,-0.0031602854697743163,-0.003171225866493792,-0.0031849671095794184,-0.003196892297539038,-0.0032070256173329075,-0.0032153912559212835,-0.003222013400264422,-0.00322691623732258,-0.0032301239540560105,-0.0032316607374249734,-0.003231550774389723,-0.003229818251910513,-0.0032264873569476022,-0.003221582276461247,-0.003215127197411703,-0.0032071463067592254,-0.0031976637914640682,-0.003186703838486492,-0.0031742906347867494,-0.0031604483673250976,-0.0031452012230617937,-0.00312857338895709,-0.003110589051971247,-0.0030912723990645192,-0.00307064761719716,-0.0030487388933294287,-0.003025570414421582,-0.003001166367433873,-0.002975550939326556,-0.0029487483170598933,-0.002920782687594138,-0.002891678237889541,-0.00286145915490637,-0.0028301496256048692,-0.0027977738369453003,-0.0027643559758879204,-0.0027299202293929814,-0.0026944907844207405,-0.0026580918279314556,-0.002620747546885382,-0.0025824821282427733,-0.0025433197589638905,-0.0025032846260089866,-0.0024624009163383173,-0.002420692816912143,-0.0023781845146907113,-0.0023349001966342844,-0.002290864049703113,-0.002246100260857462,-0.0022006330170575798,-0.0021544865052637247,-0.0021076849124361543,-0.0020602524255351248,-0.0020122132315208837,-0.0019635915173536996,-0.0019144114699938247,-0.0018646972764015143,-0.0018144731235370118,-0.0018072581692250376,-0.00180725788186779,-0.0017640143221044724,-0.0017137705742968094,-0.0016637730427338474,-0.001614045914375828,-0.00156461337618302,-0.00151549961511567,-0.0014667288181340397,-0.0014183251721983819,-0.001370312864268951,-0.0013227160813060073,-0.0012755590102698023,-0.0012288658381205985,-0.001182660751818644,-0.001136967938324201,-0.0010918115845975265,-0.0010472158775988675,-0.0010032050042884833,-0.0009598031516266405,-0.0009170345065735892,-0.0008749232560895746,-0.0008334935871348714,-0.0007927696866697163,-0.0007527757416543731,-0.0007135359390491054,-0.0006750744658141627,-0.0006374155089098098,-0.0006005832552962867,-0.0005646018919338563,-0.0005294956057827621,-0.0004952885838032947,-0.00046200501295568484,-0.0004296690802001943,-0.00039830497249706935,-0.00036793687680658146,-0.0003385889800889691,-0.00031028546930450887,-0.00028305053141344273,-0.00025690835337602823,-0.00023188312215252117,-0.00020799902470318953,-0.00018528024798827349,-0.00016375097896804101,-0.00014343540460273058,-0.0001243577118526188,-0.00010654208767795978,-0.00009001271903899197,-0.00007479379289597639,-0.00006090949620920008,-0.0000483840159388807,-0.00003724153904526885,-0.000027506252488655042,-0.00001920234322927601,-0.000012353998227392776,-6.98540444326462e-6,-3.120748837140419e-6,-7.842183692777227e-7,5.898059818321144e-17,6.245004513516506e-17],\"type\":\"scatter\",\"xaxis\":\"x4\",\"yaxis\":\"y4\"}],                        {\"template\":{\"data\":{\"histogram2dcontour\":[{\"type\":\"histogram2dcontour\",\"colorbar\":{\"outlinewidth\":0,\"ticks\":\"\"},\"colorscale\":[[0.0,\"#0d0887\"],[0.1111111111111111,\"#46039f\"],[0.2222222222222222,\"#7201a8\"],[0.3333333333333333,\"#9c179e\"],[0.4444444444444444,\"#bd3786\"],[0.5555555555555556,\"#d8576b\"],[0.6666666666666666,\"#ed7953\"],[0.7777777777777778,\"#fb9f3a\"],[0.8888888888888888,\"#fdca26\"],[1.0,\"#f0f921\"]]}],\"choropleth\":[{\"type\":\"choropleth\",\"colorbar\":{\"outlinewidth\":0,\"ticks\":\"\"}}],\"histogram2d\":[{\"type\":\"histogram2d\",\"colorbar\":{\"outlinewidth\":0,\"ticks\":\"\"},\"colorscale\":[[0.0,\"#0d0887\"],[0.1111111111111111,\"#46039f\"],[0.2222222222222222,\"#7201a8\"],[0.3333333333333333,\"#9c179e\"],[0.4444444444444444,\"#bd3786\"],[0.5555555555555556,\"#d8576b\"],[0.6666666666666666,\"#ed7953\"],[0.7777777777777778,\"#fb9f3a\"],[0.8888888888888888,\"#fdca26\"],[1.0,\"#f0f921\"]]}],\"heatmap\":[{\"type\":\"heatmap\",\"colorbar\":{\"outlinewidth\":0,\"ticks\":\"\"},\"colorscale\":[[0.0,\"#0d0887\"],[0.1111111111111111,\"#46039f\"],[0.2222222222222222,\"#7201a8\"],[0.3333333333333333,\"#9c179e\"],[0.4444444444444444,\"#bd3786\"],[0.5555555555555556,\"#d8576b\"],[0.6666666666666666,\"#ed7953\"],[0.7777777777777778,\"#fb9f3a\"],[0.8888888888888888,\"#fdca26\"],[1.0,\"#f0f921\"]]}],\"heatmapgl\":[{\"type\":\"heatmapgl\",\"colorbar\":{\"outlinewidth\":0,\"ticks\":\"\"},\"colorscale\":[[0.0,\"#0d0887\"],[0.1111111111111111,\"#46039f\"],[0.2222222222222222,\"#7201a8\"],[0.3333333333333333,\"#9c179e\"],[0.4444444444444444,\"#bd3786\"],[0.5555555555555556,\"#d8576b\"],[0.6666666666666666,\"#ed7953\"],[0.7777777777777778,\"#fb9f3a\"],[0.8888888888888888,\"#fdca26\"],[1.0,\"#f0f921\"]]}],\"contourcarpet\":[{\"type\":\"contourcarpet\",\"colorbar\":{\"outlinewidth\":0,\"ticks\":\"\"}}],\"contour\":[{\"type\":\"contour\",\"colorbar\":{\"outlinewidth\":0,\"ticks\":\"\"},\"colorscale\":[[0.0,\"#0d0887\"],[0.1111111111111111,\"#46039f\"],[0.2222222222222222,\"#7201a8\"],[0.3333333333333333,\"#9c179e\"],[0.4444444444444444,\"#bd3786\"],[0.5555555555555556,\"#d8576b\"],[0.6666666666666666,\"#ed7953\"],[0.7777777777777778,\"#fb9f3a\"],[0.8888888888888888,\"#fdca26\"],[1.0,\"#f0f921\"]]}],\"surface\":[{\"type\":\"surface\",\"colorbar\":{\"outlinewidth\":0,\"ticks\":\"\"},\"colorscale\":[[0.0,\"#0d0887\"],[0.1111111111111111,\"#46039f\"],[0.2222222222222222,\"#7201a8\"],[0.3333333333333333,\"#9c179e\"],[0.4444444444444444,\"#bd3786\"],[0.5555555555555556,\"#d8576b\"],[0.6666666666666666,\"#ed7953\"],[0.7777777777777778,\"#fb9f3a\"],[0.8888888888888888,\"#fdca26\"],[1.0,\"#f0f921\"]]}],\"mesh3d\":[{\"type\":\"mesh3d\",\"colorbar\":{\"outlinewidth\":0,\"ticks\":\"\"}}],\"scatter\":[{\"fillpattern\":{\"fillmode\":\"overlay\",\"size\":10,\"solidity\":0.2},\"type\":\"scatter\"}],\"parcoords\":[{\"type\":\"parcoords\",\"line\":{\"colorbar\":{\"outlinewidth\":0,\"ticks\":\"\"}}}],\"scatterpolargl\":[{\"type\":\"scatterpolargl\",\"marker\":{\"colorbar\":{\"outlinewidth\":0,\"ticks\":\"\"}}}],\"bar\":[{\"error_x\":{\"color\":\"#2a3f5f\"},\"error_y\":{\"color\":\"#2a3f5f\"},\"marker\":{\"line\":{\"color\":\"#E5ECF6\",\"width\":0.5},\"pattern\":{\"fillmode\":\"overlay\",\"size\":10,\"solidity\":0.2}},\"type\":\"bar\"}],\"scattergeo\":[{\"type\":\"scattergeo\",\"marker\":{\"colorbar\":{\"outlinewidth\":0,\"ticks\":\"\"}}}],\"scatterpolar\":[{\"type\":\"scatterpolar\",\"marker\":{\"colorbar\":{\"outlinewidth\":0,\"ticks\":\"\"}}}],\"histogram\":[{\"marker\":{\"pattern\":{\"fillmode\":\"overlay\",\"size\":10,\"solidity\":0.2}},\"type\":\"histogram\"}],\"scattergl\":[{\"type\":\"scattergl\",\"marker\":{\"colorbar\":{\"outlinewidth\":0,\"ticks\":\"\"}}}],\"scatter3d\":[{\"type\":\"scatter3d\",\"line\":{\"colorbar\":{\"outlinewidth\":0,\"ticks\":\"\"}},\"marker\":{\"colorbar\":{\"outlinewidth\":0,\"ticks\":\"\"}}}],\"scattermapbox\":[{\"type\":\"scattermapbox\",\"marker\":{\"colorbar\":{\"outlinewidth\":0,\"ticks\":\"\"}}}],\"scatterternary\":[{\"type\":\"scatterternary\",\"marker\":{\"colorbar\":{\"outlinewidth\":0,\"ticks\":\"\"}}}],\"scattercarpet\":[{\"type\":\"scattercarpet\",\"marker\":{\"colorbar\":{\"outlinewidth\":0,\"ticks\":\"\"}}}],\"carpet\":[{\"aaxis\":{\"endlinecolor\":\"#2a3f5f\",\"gridcolor\":\"white\",\"linecolor\":\"white\",\"minorgridcolor\":\"white\",\"startlinecolor\":\"#2a3f5f\"},\"baxis\":{\"endlinecolor\":\"#2a3f5f\",\"gridcolor\":\"white\",\"linecolor\":\"white\",\"minorgridcolor\":\"white\",\"startlinecolor\":\"#2a3f5f\"},\"type\":\"carpet\"}],\"table\":[{\"cells\":{\"fill\":{\"color\":\"#EBF0F8\"},\"line\":{\"color\":\"white\"}},\"header\":{\"fill\":{\"color\":\"#C8D4E3\"},\"line\":{\"color\":\"white\"}},\"type\":\"table\"}],\"barpolar\":[{\"marker\":{\"line\":{\"color\":\"#E5ECF6\",\"width\":0.5},\"pattern\":{\"fillmode\":\"overlay\",\"size\":10,\"solidity\":0.2}},\"type\":\"barpolar\"}],\"pie\":[{\"automargin\":true,\"type\":\"pie\"}]},\"layout\":{\"autotypenumbers\":\"strict\",\"colorway\":[\"#636efa\",\"#EF553B\",\"#00cc96\",\"#ab63fa\",\"#FFA15A\",\"#19d3f3\",\"#FF6692\",\"#B6E880\",\"#FF97FF\",\"#FECB52\"],\"font\":{\"color\":\"#2a3f5f\"},\"hovermode\":\"closest\",\"hoverlabel\":{\"align\":\"left\"},\"paper_bgcolor\":\"white\",\"plot_bgcolor\":\"#E5ECF6\",\"polar\":{\"bgcolor\":\"#E5ECF6\",\"angularaxis\":{\"gridcolor\":\"white\",\"linecolor\":\"white\",\"ticks\":\"\"},\"radialaxis\":{\"gridcolor\":\"white\",\"linecolor\":\"white\",\"ticks\":\"\"}},\"ternary\":{\"bgcolor\":\"#E5ECF6\",\"aaxis\":{\"gridcolor\":\"white\",\"linecolor\":\"white\",\"ticks\":\"\"},\"baxis\":{\"gridcolor\":\"white\",\"linecolor\":\"white\",\"ticks\":\"\"},\"caxis\":{\"gridcolor\":\"white\",\"linecolor\":\"white\",\"ticks\":\"\"}},\"coloraxis\":{\"colorbar\":{\"outlinewidth\":0,\"ticks\":\"\"}},\"colorscale\":{\"sequential\":[[0.0,\"#0d0887\"],[0.1111111111111111,\"#46039f\"],[0.2222222222222222,\"#7201a8\"],[0.3333333333333333,\"#9c179e\"],[0.4444444444444444,\"#bd3786\"],[0.5555555555555556,\"#d8576b\"],[0.6666666666666666,\"#ed7953\"],[0.7777777777777778,\"#fb9f3a\"],[0.8888888888888888,\"#fdca26\"],[1.0,\"#f0f921\"]],\"sequentialminus\":[[0.0,\"#0d0887\"],[0.1111111111111111,\"#46039f\"],[0.2222222222222222,\"#7201a8\"],[0.3333333333333333,\"#9c179e\"],[0.4444444444444444,\"#bd3786\"],[0.5555555555555556,\"#d8576b\"],[0.6666666666666666,\"#ed7953\"],[0.7777777777777778,\"#fb9f3a\"],[0.8888888888888888,\"#fdca26\"],[1.0,\"#f0f921\"]],\"diverging\":[[0,\"#8e0152\"],[0.1,\"#c51b7d\"],[0.2,\"#de77ae\"],[0.3,\"#f1b6da\"],[0.4,\"#fde0ef\"],[0.5,\"#f7f7f7\"],[0.6,\"#e6f5d0\"],[0.7,\"#b8e186\"],[0.8,\"#7fbc41\"],[0.9,\"#4d9221\"],[1,\"#276419\"]]},\"xaxis\":{\"gridcolor\":\"white\",\"linecolor\":\"white\",\"ticks\":\"\",\"title\":{\"standoff\":15},\"zerolinecolor\":\"white\",\"automargin\":true,\"zerolinewidth\":2},\"yaxis\":{\"gridcolor\":\"white\",\"linecolor\":\"white\",\"ticks\":\"\",\"title\":{\"standoff\":15},\"zerolinecolor\":\"white\",\"automargin\":true,\"zerolinewidth\":2},\"scene\":{\"xaxis\":{\"backgroundcolor\":\"#E5ECF6\",\"gridcolor\":\"white\",\"linecolor\":\"white\",\"showbackground\":true,\"ticks\":\"\",\"zerolinecolor\":\"white\",\"gridwidth\":2},\"yaxis\":{\"backgroundcolor\":\"#E5ECF6\",\"gridcolor\":\"white\",\"linecolor\":\"white\",\"showbackground\":true,\"ticks\":\"\",\"zerolinecolor\":\"white\",\"gridwidth\":2},\"zaxis\":{\"backgroundcolor\":\"#E5ECF6\",\"gridcolor\":\"white\",\"linecolor\":\"white\",\"showbackground\":true,\"ticks\":\"\",\"zerolinecolor\":\"white\",\"gridwidth\":2}},\"shapedefaults\":{\"line\":{\"color\":\"#2a3f5f\"}},\"annotationdefaults\":{\"arrowcolor\":\"#2a3f5f\",\"arrowhead\":0,\"arrowwidth\":1},\"geo\":{\"bgcolor\":\"white\",\"landcolor\":\"#E5ECF6\",\"subunitcolor\":\"white\",\"showland\":true,\"showlakes\":true,\"lakecolor\":\"white\"},\"title\":{\"x\":0.05},\"mapbox\":{\"style\":\"light\"}}},\"xaxis\":{\"anchor\":\"y\",\"domain\":[0.0,1.0],\"matches\":\"x4\",\"showticklabels\":false},\"yaxis\":{\"anchor\":\"x\",\"domain\":[0.7875,1.0],\"title\":{\"text\":\"Normal Force (N)\"}},\"xaxis2\":{\"anchor\":\"y2\",\"domain\":[0.0,1.0],\"matches\":\"x4\",\"showticklabels\":false},\"yaxis2\":{\"anchor\":\"x2\",\"domain\":[0.525,0.7375],\"title\":{\"text\":\"Shear Force (N)\"}},\"xaxis3\":{\"anchor\":\"y3\",\"domain\":[0.0,1.0],\"matches\":\"x4\",\"showticklabels\":false},\"yaxis3\":{\"anchor\":\"x3\",\"domain\":[0.2625,0.475],\"title\":{\"text\":\"Bending Moment (N.m)\"}},\"xaxis4\":{\"anchor\":\"y4\",\"domain\":[0.0,1.0],\"title\":{\"text\":\"Beam Length (m)\"}},\"yaxis4\":{\"anchor\":\"x4\",\"domain\":[0.0,0.2125],\"title\":{\"text\":\"Deflection (m)\"}},\"annotations\":[{\"font\":{\"size\":16},\"showarrow\":false,\"text\":\"Normal Force Diagram\",\"x\":0.5,\"xanchor\":\"center\",\"xref\":\"paper\",\"y\":1.0,\"yanchor\":\"bottom\",\"yref\":\"paper\"},{\"font\":{\"size\":16},\"showarrow\":false,\"text\":\"Shear Force Diagram\",\"x\":0.5,\"xanchor\":\"center\",\"xref\":\"paper\",\"y\":0.7375,\"yanchor\":\"bottom\",\"yref\":\"paper\"},{\"font\":{\"size\":16},\"showarrow\":false,\"text\":\"Bending Moment Diagram\",\"x\":0.5,\"xanchor\":\"center\",\"xref\":\"paper\",\"y\":0.475,\"yanchor\":\"bottom\",\"yref\":\"paper\"},{\"font\":{\"size\":16},\"showarrow\":false,\"text\":\"Deflection Diagram\",\"x\":0.5,\"xanchor\":\"center\",\"xref\":\"paper\",\"y\":0.2125,\"yanchor\":\"bottom\",\"yref\":\"paper\"}],\"title\":{\"font\":{\"size\":24},\"text\":\"Analysis Results\",\"x\":0.5},\"height\":1000,\"width\":700,\"showlegend\":false},                        {\"responsive\": true}                    ).then(function(){\n",
              "                            \n",
              "var gd = document.getElementById('824827a0-a2d1-447c-8540-fedc0c423de5');\n",
              "var x = new MutationObserver(function (mutations, observer) {{\n",
              "        var display = window.getComputedStyle(gd).display;\n",
              "        if (!display || display === 'none') {{\n",
              "            console.log([gd, 'removed!']);\n",
              "            Plotly.purge(gd);\n",
              "            observer.disconnect();\n",
              "        }}\n",
              "}});\n",
              "\n",
              "// Listen for the removal of the full notebook cells\n",
              "var notebookContainer = gd.closest('#notebook-container');\n",
              "if (notebookContainer) {{\n",
              "    x.observe(notebookContainer, {childList: true});\n",
              "}}\n",
              "\n",
              "// Listen for the clearing of the current output cell\n",
              "var outputEl = gd.closest('.output');\n",
              "if (outputEl) {{\n",
              "    x.observe(outputEl, {childList: true});\n",
              "}}\n",
              "\n",
              "                        })                };                            </script>        </div>\n",
              "</body>\n",
              "</html>"
            ]
          },
          "metadata": {}
        }
      ],
      "source": [
        "beam = Beam(7)                          # Initialize a Beam object of length 7 m with E and I as defaults\n",
        "beam_2 = Beam(9,E=2000, I =100000)      # Initialize a Beam specifying some beam parameters\n",
        "\n",
        "b = Support(0,(1,1,1))                  # Defines a fixed support at location x = 0 m\n",
        "c = Support(7,(1,1,1))                  # Defines a fixed support at location x = 7 m\n",
        "beam.add_supports(b,c)\n",
        "\n",
        "load_1 = PointLoadV(-3000, 3)          # Defines a point load of -3000 N acting down, at location x = 3 m\n",
        "load_2 = PointTorque(1000, 5)           # Defines a 1000 N.m point torque at location x = 5 m\n",
        "beam.add_loads(load_1, load_2)    # Assign the support objects to a beam object created earlier\n",
        "\n",
        "\n",
        "beam.analyse()\n",
        "\n",
        "## plot the results for the beam\n",
        "fig_1 = beam.plot_beam_external()\n",
        "fig_1.show()\n",
        "\n",
        "fig_2 = beam.plot_beam_internal()\n",
        "fig_2.show()\n",
        "\n",
        "# save the results (optional)\n",
        "# Can save figure using ``fig.write_image(\"./results.pdf\")`` (can change extension to be\n",
        "# png, jpg, svg or other formats as reired). Requires pip install -U kaleido\n",
        "\n",
        "# fig_1.write_image(\"./example_plot_external.png\")\n",
        "# fig_2.write_image(\"./example_plot_internal.png\")"
      ]
    },
    {
      "cell_type": "code",
      "execution_count": null,
      "metadata": {
        "colab": {
          "base_uri": "https://localhost:8080/"
        },
        "id": "_Y7Lx3JLUt1a",
        "outputId": "a6cd6e3f-8540-4621-b106-66979e93f2d4"
      },
      "outputs": [
        {
          "output_type": "execute_result",
          "data": {
            "text/plain": [
              "np.float64(-1741.9825072886297)"
            ]
          },
          "metadata": {},
          "execution_count": 8
        }
      ],
      "source": [
        "beam._plotting_vectors[\"bm\"][\"y_vec\"][0]\n",
        "len(beam._plotting_vectors[\"bm\"][\"y_vec\"])  # returns 212 points\n",
        "\n",
        "beam._plotting_vectors[\"bm\"][\"y_lam\"](2)"
      ]
    },
    {
      "cell_type": "markdown",
      "metadata": {
        "id": "mcidsc-PUt1d"
      },
      "source": [
        "## 2.2 Querying Data"
      ]
    },
    {
      "cell_type": "code",
      "execution_count": null,
      "metadata": {
        "ExecuteTime": {
          "end_time": "2019-05-08T12:22:38.894727Z",
          "start_time": "2019-05-08T12:22:37.765381Z"
        },
        "colab": {
          "base_uri": "https://localhost:8080/",
          "height": 1000
        },
        "id": "N4uBL9y3Ut1e",
        "outputId": "f43b62b2-23a0-4a1f-b9a1-5fad3ce71d2c"
      },
      "outputs": [
        {
          "output_type": "stream",
          "name": "stdout",
          "text": [
            "bending moments at 3 m: -2913.9941862974\n",
            "shear forces at 1,2,3,4,5m points: [-4172.0116618076, -2172.0118618076, -172.0118618076, 1827.9883381924, 1827.9883381924]\n",
            "normal force absolute max: 0.0\n",
            "deflection max: 0.0043381774\n"
          ]
        },
        {
          "output_type": "display_data",
          "data": {
            "text/html": [
              "\n\n\n                                \n                        \n                    \n\n\n"
            ]
          },
          "metadata": {}
        },
        {
          "output_type": "display_data",
          "data": {
            "text/html": [
              "\n\n\n                                \n                        \n                    \n\n\n"
            ]
          },
          "metadata": {}
        }
      ],
      "source": [
        "# Run section 2 (prior to running this example)\n",
        "\n",
        "# query for the data at a specfic point (note units are not provided)\n",
        "print(\"bending moments at 3 m: \" + str(beam.get_bending_moment(3)))\n",
        "print(\"shear forces at 1,2,3,4,5m points: \" + str(beam.get_shear_force(1,2,3,4,5)))\n",
        "print(\"normal force absolute max: \" + str(beam.get_normal_force(return_absmax=True)))\n",
        "print(\"deflection max: \" + str(beam.get_deflection(return_max = True)))\n",
        "\n",
        "##add a query point to a plot (adds values on plot)\n",
        "beam.add_query_points(1,3,5)\n",
        "beam.remove_query_points(5)\n",
        "\n",
        "## plot the results for the beam\n",
        "fig_1 = beam.plot_beam_external()\n",
        "fig_1.show()\n",
        "\n",
        "fig_2 = beam.plot_beam_internal()\n",
        "fig_2.show()\n",
        "\n",
        "# save the results (optional)\n",
        "# Can save figure using ``fig.write_image(\"./results.pdf\")`` (can change extension to be\n",
        "# png, jpg, svg or other formats as reired). Requires pip install -U kaleido\n",
        "\n",
        "# fig_1.write_image(\"./example_plot_external.png\")\n",
        "# fig_2.write_image(\"./example_plot_internal.png\")"
      ]
    },
    {
      "cell_type": "markdown",
      "metadata": {
        "id": "uYM0RI4PUt1g"
      },
      "source": [
        "## 2.3 Specifying Units"
      ]
    },
    {
      "cell_type": "code",
      "execution_count": null,
      "metadata": {
        "colab": {
          "base_uri": "https://localhost:8080/",
          "height": 1000
        },
        "id": "XT_jUDugUt1h",
        "outputId": "c2a7f8d0-6a72-4e35-cee6-cc5f46dbdd60"
      },
      "outputs": [
        {
          "output_type": "display_data",
          "data": {
            "text/html": [
              "\n\n\n                                \n                        \n                    \n\n\n"
            ]
          },
          "metadata": {}
        },
        {
          "output_type": "display_data",
          "data": {
            "text/html": [
              "\n\n\n                                \n                        \n                    \n\n\n"
            ]
          },
          "metadata": {}
        }
      ],
      "source": [
        "# Readme example as a demonstration for changing units\n",
        "# used and presented in following example. Note that\n",
        "# the example is conceptually identical only with\n",
        "# different units.\n",
        "\n",
        "# update units usings the update_units() function.\n",
        "# use the command below for more information.\n",
        "# help(beam.update_units)\n",
        "\n",
        "# note: initialising beam with the anticipation that units will be updated\n",
        "beam = Beam(7000, E = 200 * 10 **6, I = 9.05 * 10 **6)\n",
        "\n",
        "beam.update_units(key='length', unit='mm')\n",
        "beam.update_units('force', 'kN')\n",
        "beam.update_units('distributed', 'kN/m')\n",
        "beam.update_units('moment', 'kN.m')\n",
        "beam.update_units('E', 'kPa')\n",
        "beam.update_units('I', 'mm4')\n",
        "beam.update_units('deflection', 'mm')\n",
        "\n",
        "a = Support(5000,(1,1,0))               # Defines a pin support at location x = 5 m (x = 5000 mm)\n",
        "b = Support(0,(0,1,0))                  # Defines a roller support at location x = 0 m\n",
        "c = Support(7000,(1,1,1))               # Defines a fixed support at location x = 7 m (x = 7000 mm)\n",
        "beam.add_supports(a,b,c)\n",
        "\n",
        "load_1 = PointLoadV(1,2000)             # Defines a point load of 1000 N (1 kN) acting up, at location x = 2 m\n",
        "load_2 = DistributedLoadV(2,(1000,4000))      # Defines a 2000 N/m (2 kN/m) UDL from location x = 1 m to x = 4 m\n",
        "load_3 = PointTorque(2, 3500)           # Defines a 2*10**3 N.m (2 kN.m) point torque at location x = 3.5 m\n",
        "beam.add_loads(load_1,load_2,load_3)    # Assign the support objects to a beam object created earlier\n",
        "\n",
        "beam.analyse()\n",
        "\n",
        "## plot the results for the beam\n",
        "fig_1 = beam.plot_beam_external()\n",
        "fig_1.show()\n",
        "\n",
        "fig_2 = beam.plot_beam_internal()\n",
        "fig_2.show()\n",
        "\n",
        "# save the results (optional)\n",
        "# Can save figure using ``fig.write_image(\"./results.pdf\")`` (can change extension to be\n",
        "# png, jpg, svg or other formats as reired). Requires pip install -U kaleido\n",
        "\n",
        "# fig_1.write_image(\"./example_plot_external.png\")\n",
        "# fig_2.write_image(\"./example_plot_internal.png\")"
      ]
    },
    {
      "cell_type": "markdown",
      "metadata": {
        "id": "mO5cq-FuUt1k"
      },
      "source": [
        "## 2.4 Exporting Results"
      ]
    },
    {
      "cell_type": "code",
      "execution_count": null,
      "metadata": {
        "colab": {
          "base_uri": "https://localhost:8080/"
        },
        "id": "mrmPDhPxUt1m",
        "outputId": "29d8dc8d-6249-46b3-ae8f-061c83a75f4f"
      },
      "outputs": [
        {
          "output_type": "stream",
          "name": "stdout",
          "text": [
            "  x [mm]  Axial [kN]  Shear [kN]  Moment [kN.m]  Deflection [mm]\n",
            "   0.000           0      -2.382          0.000            0.000\n",
            " 777.778           0      -2.382         -1.852            2.141\n",
            "1555.556           0      -1.270         -3.396            3.668\n",
            "2333.333           0       1.285         -3.446            4.096\n",
            "3111.111           0       2.841         -1.841            3.415\n",
            "3888.889           0       4.396         -1.027            2.068\n",
            "4666.667           0       4.618          2.553            0.487\n",
            "5444.444           0      -3.069          2.728           -0.304\n",
            "6222.222           0      -3.069          0.341           -0.209\n",
            "7000.000           0       0.000          0.000            0.000\n"
          ]
        }
      ],
      "source": [
        "# print results as a table with 10 points\n",
        "beam.print_results_table(num_points=10)\n",
        "\n",
        "# optionally export as a csv\n",
        "# beam.export_results_csv(filename=\"filename.csv\", num_points=100)"
      ]
    },
    {
      "cell_type": "markdown",
      "metadata": {
        "id": "VLQJlguuUt1n"
      },
      "source": [
        "## 3. Support class breakdown"
      ]
    },
    {
      "cell_type": "code",
      "execution_count": null,
      "metadata": {
        "colab": {
          "base_uri": "https://localhost:8080/",
          "height": 367
        },
        "id": "DmhsVCfnUt1p",
        "outputId": "7dbedb8b-4e4c-419d-92dd-83f5c18392e5"
      },
      "outputs": [
        {
          "output_type": "display_data",
          "data": {
            "text/html": [
              "\n\n\n                                \n                        \n                    \n\n\n"
            ]
          },
          "metadata": {}
        }
      ],
      "source": [
        "# The parameters for a support class are as below, taken from the docstring\n",
        "# for the Support class __init__ method.\n",
        "\n",
        "# Parameters:\n",
        "#         -----------\n",
        "#         coord: float\n",
        "#             x coordinate of support on a beam in m (default 0)\n",
        "#         fixed: tuple of 3 booleans\n",
        "#             Degrees of freedom that are fixed on a beam for movement in\n",
        "#             x, y and bending, 1 represents fixed and 0 represents free\n",
        "#             (default (1,1,1))\n",
        "#         kx :\n",
        "#             stiffness of x support (N/m), if set will overide the\n",
        "#             value placed in the fixed tuple. (default = None)\n",
        "#         ky : (positive number)\n",
        "#             stiffness of y support (N/m), if set will overide the\n",
        "#             value placed in the fixed tuple. (default = None)\n",
        "\n",
        "\n",
        "# Lets define every possible degree of freedom combination for\n",
        "# supports below, and view them on a plot:\n",
        "support_0 = Support(0, (1,1,1))     # conventional fixed support\n",
        "support_1 = Support(1, (1,1,0))     # conventional pin support\n",
        "support_2 = Support(2, (1,0,1))\n",
        "support_3 = Support(3, (0,1,1))\n",
        "support_4 = Support(4, (0,0,1))\n",
        "support_5 = Support(5, (0,1,0))     # conventional roller support\n",
        "support_6 = Support(6, (1,0,0))\n",
        "\n",
        "# Note we could also explicitly define parameters as follows:\n",
        "support_0 = Support(coord=0, fixed=(1,1,1))\n",
        "\n",
        "# Now lets define some spring supports\n",
        "support_7 = Support(7, (0,0,0), kx = 10)    #spring in x direction only\n",
        "support_8 = Support(8, (0,0,0), ky = 5)     # spring in y direction only\n",
        "support_9 = Support(9, (0,0,0), kx = 100, ky = 100)     # spring in x and y direction\n",
        "\n",
        "# Now lets define a support which is fixed in one degree of freedom\n",
        "# but has a spring stiffness in another degree of freedom\n",
        "support_10 = Support(10, (0,1,0), kx = 10) #spring in x direction, fixed in y direction\n",
        "support_11 = Support(11, (0,1,1), kx = 10) #spring in x direction, fixed in y and m direction\n",
        "\n",
        "# Note we could also do the following for the same result since the spring\n",
        "# stiffness overides the fixed boolean in respective directions\n",
        "support_10 = Support(10, (1,1,0), kx =10)\n",
        "\n",
        "# Now lets plot all the supports we have created\n",
        "beam = Beam(11)\n",
        "\n",
        "beam.add_supports(\n",
        "    support_0,\n",
        "    support_1,\n",
        "    support_2,\n",
        "    support_3,\n",
        "    support_4,\n",
        "    support_5,\n",
        "    support_6,\n",
        "    support_7,\n",
        "    support_8,\n",
        "    support_9,\n",
        "    support_10,\n",
        "    support_11,\n",
        ")\n",
        "\n",
        "## plot the results for the beam\n",
        "fig_1 = beam.plot_beam_diagram()\n",
        "fig_1.show()"
      ]
    },
    {
      "cell_type": "markdown",
      "metadata": {
        "id": "iMR3k7YqUt1s"
      },
      "source": [
        "## 4. Load classes breakdown"
      ]
    },
    {
      "cell_type": "markdown",
      "metadata": {
        "id": "Hjht_1smUt1w"
      },
      "source": [
        "### 4.1 Point Torque"
      ]
    },
    {
      "cell_type": "code",
      "execution_count": null,
      "metadata": {
        "colab": {
          "base_uri": "https://localhost:8080/",
          "height": 367
        },
        "id": "BZeJYGI4Ut1u",
        "outputId": "8d84fed2-becc-4c69-ab9d-2c6f25b1e504"
      },
      "outputs": [
        {
          "output_type": "display_data",
          "data": {
            "text/html": [
              "\n\n\n                                \n                        \n                    \n\n\n"
            ]
          },
          "metadata": {}
        }
      ],
      "source": [
        "# defined using a force (technically a moment, however force is used to maintain consistenct for all load classes) and a coordinate. An anti-clockwise moment is positive by convention of this package.\n",
        "load_1 = PointTorque(force=1000, coord=1)\n",
        "load_2 = PointTorque(force=-1000, coord=2)\n",
        "\n",
        "# Plotting the loads\n",
        "beam = Beam(3)\n",
        "beam.add_loads(\n",
        "    load_1,\n",
        "    load_2\n",
        ")\n",
        "\n",
        "\n",
        "## plot the results for the beam\n",
        "fig_1 = beam.plot_beam_diagram()\n",
        "fig_1.show()"
      ]
    },
    {
      "cell_type": "markdown",
      "metadata": {
        "id": "VVH534EjUt1z"
      },
      "source": [
        "### 4.2 Point Load"
      ]
    },
    {
      "cell_type": "code",
      "execution_count": null,
      "metadata": {
        "colab": {
          "base_uri": "https://localhost:8080/",
          "height": 367
        },
        "id": "NFMSChzkUt1x",
        "outputId": "1cc0b663-b982-4918-e044-350a87d8b2a0"
      },
      "outputs": [
        {
          "output_type": "display_data",
          "data": {
            "text/html": [
              "\n\n\n                                \n                        \n                    \n\n\n"
            ]
          },
          "metadata": {}
        }
      ],
      "source": [
        "\n",
        "# Modified Statically Determinate Beam (based on Ex 12.14 Hibbeler)\n",
        "# Beam length changed to 12 m, load intensity to -6000 N/m descending to 0 over 0-10 m\n",
        "\n",
        "beam = Beam(12, E=1, I=1)  # EI=1 for symbolic deflection\n",
        "\n",
        "a = Support(0, (1,1,1))  # Fixed at x=0 m\n",
        "\n",
        "load_1 = TrapezoidalLoadV((-6000,0),(0,10))  # Updated load\n",
        "\n",
        "beam.add_supports(a)\n",
        "beam.add_loads(load_1)\n",
        "\n",
        "beam.analyse()\n",
        "\n",
        "print(f\"Deflection at x=12 m is {beam.get_deflection(12)} N.m3 / EI\")\n",
        "\n",
        "fig_1 = beam.plot_beam_external()\n",
        "fig_1.show()\n",
        "\n",
        "fig_2 = beam.plot_beam_internal()\n",
        "fig_2.show()\n"
      ]
    },
    {
      "cell_type": "markdown",
      "metadata": {
        "id": "lnRWcSTAUt12"
      },
      "source": [
        "### 4.3 Uniformly Distributed Load (UDL)"
      ]
    },
    {
      "cell_type": "code",
      "execution_count": null,
      "metadata": {
        "colab": {
          "base_uri": "https://localhost:8080/",
          "height": 367
        },
        "id": "7trLmNwdUt10",
        "outputId": "23fd2323-2d46-4ab1-f0a0-c21c17b53fdb"
      },
      "outputs": [
        {
          "output_type": "display_data",
          "data": {
            "text/html": [
              "\n\n\n                                \n                        \n                    \n\n\n"
            ]
          },
          "metadata": {}
        }
      ],
      "source": [
        "# defined by force, span (tuple with start and end point)\n",
        "# and angle of force\n",
        "load_1 = UDL(force=1000, span=(1,2), angle = 0)\n",
        "load_2 = UDL(force=1000, span=(3,4), angle = 45)\n",
        "load_3 = UDL(force=1000, span=(5,6), angle = 90)\n",
        "\n",
        "# Plotting the loads\n",
        "beam = Beam(7)\n",
        "beam.add_loads(\n",
        "    load_1,\n",
        "    load_2,\n",
        "    load_3\n",
        ")\n",
        "\n",
        "## plot the results for the beam\n",
        "fig_1 = beam.plot_beam_diagram()\n",
        "fig_1.show()"
      ]
    },
    {
      "cell_type": "markdown",
      "metadata": {
        "id": "1SAWNConUt13"
      },
      "source": [
        "### 4.4 Trapezoidal Load"
      ]
    },
    {
      "cell_type": "code",
      "execution_count": null,
      "metadata": {
        "id": "j4qydRXZbsMu"
      },
      "outputs": [],
      "source": [
        "# defined by force (tuple with start and end force),\n",
        "# span (tuple with start and end point) and angle of force\n",
        "load_1 = TrapezoidalLoad(force=(1000,2000), span=(1,2), angle = 0)\n",
        "load_2 = TrapezoidalLoad(force=(-1000,-2000), span=(3,4), angle = 45)\n",
        "load_3 = TrapezoidalLoad(force=(-1000,2000), span=(5,6), angle = 90)\n",
        "\n",
        "# Plotting the loads\n",
        "beam = Beam(7)\n",
        "beam.add_loads(\n",
        "    load_1,\n",
        "    load_2,\n",
        "    load_3\n",
        ")\n",
        "\n",
        "# plot the results for the beam\n",
        "fig_1 = beam.plot_beam_diagram()\n",
        "fig_1.show()"
      ]
    },
    {
      "cell_type": "markdown",
      "metadata": {
        "id": "P8RwxTw7Ut14"
      },
      "source": [
        "### 4.5 Distributed Load"
      ]
    },
    {
      "cell_type": "code",
      "execution_count": null,
      "metadata": {
        "id": "YhxPDSX4Ut15"
      },
      "outputs": [],
      "source": [
        "# defined with Sympy expression of the distributed load function\n",
        "# expressed using variable x which represents the beam x-coordinate.\n",
        "# Requires quotation marks around expression. As with the UDL and\n",
        "# Trapezoidal load classes other parameters to express are the span\n",
        "# (tuple with start and end point) and angle of force.\n",
        "# NOTE: where UDL or Trapezoidal load classes can be spefied (linear functions)\n",
        "# they should be used for quicker analysis times.\n",
        "\n",
        "load_1 = DistributedLoad(expr= \"2\", span=(1,2), angle = 0)\n",
        "load_2 = DistributedLoad(expr= \"2*(x-6)**2 -5\", span=(3,4), angle = 45)\n",
        "load_3 = DistributedLoad(expr= \"cos(5*x)\", span=(5,6), angle = 90)\n",
        "\n",
        "# Plotting the loads\n",
        "beam = Beam(7)\n",
        "beam.add_loads(\n",
        "    load_1,\n",
        "    load_2,\n",
        "    load_3\n",
        ")\n",
        "\n",
        "# plot the results for the beam\n",
        "fig_1 = beam.plot_beam_diagram()\n",
        "fig_1.show()"
      ]
    },
    {
      "cell_type": "markdown",
      "metadata": {
        "id": "mKG17eDFUt17"
      },
      "source": [
        "### 4.6 Vertical and Horizontal Load Child Classes"
      ]
    },
    {
      "cell_type": "code",
      "execution_count": null,
      "metadata": {
        "id": "12LtzpIEUt18"
      },
      "outputs": [],
      "source": [
        "# for all loads except the point torque an angle is specified for the\n",
        "# direction of the load. If the load to be specified is to be completely\n",
        "# vertical or completely horizontal a V (vertical) or a H (horizontal)\n",
        "# can be added at the end of the class name, and the angle does then\n",
        "# not need to be spefied.\n",
        "\n",
        "# The following two loads are equivalent horizontal loads\n",
        "load_1 = PointLoad(force=1000, coord=1, angle = 0)\n",
        "load_2 = PointLoadH(force=1000, coord=2)\n",
        "\n",
        "# The following two loads are equivalent vertical loads\n",
        "load_3 = PointLoad(force=1000, coord=3, angle = 90)\n",
        "load_4 = PointLoadV(force=1000, coord=4)\n",
        "\n",
        "# The following two loads are also equivalent (a negative sign\n",
        "# esentially changes the load direction by 180 degrees).\n",
        "load_5 = PointLoad(force=1000, coord=5, angle = 0)\n",
        "load_6 = PointLoad(force=-1000, coord=6, angle = 180)\n",
        "\n",
        "\n",
        "# Plotting the loads\n",
        "beam = Beam(7)\n",
        "beam.add_loads(\n",
        "    load_1,\n",
        "    load_2,\n",
        "    load_3,\n",
        "    load_4,\n",
        "    load_5,\n",
        "    load_6\n",
        ")\n",
        "\n",
        "# plot the results for the beam\n",
        "fig_1 = beam.plot_beam_diagram()\n",
        "fig_1.show()"
      ]
    },
    {
      "cell_type": "markdown",
      "metadata": {
        "id": "IsP6Z3xiUt19"
      },
      "source": [
        "## 5. Statically Determinate Beam (Ex 12.14 Hibbeler)"
      ]
    },
    {
      "cell_type": "code",
      "execution_count": null,
      "metadata": {
        "id": "lCl4aP0gUt1-"
      },
      "outputs": [],
      "source": [
        "# Statically Determinate beam (Ex 12.14 Hibbeler)\n",
        "# Determine the displacement at x = 8m for the following structure\n",
        "# 8 m long fixed at A (x = 0m)\n",
        "# A trapezoidal load of - 4000 N/m at x = 0 m descending to 0 N/m at x = 6 m.\n",
        "\n",
        "beam = Beam(8, E=1, I = 1)     ##EI Defined to be 1 get the deflection as a function of EI\n",
        "\n",
        "a = Support(0, (1,1,1))             ##explicitly stated although this is equivalent to Support() as the defaults are for a cantilever on the left of the beam.\n",
        "\n",
        "load_1 = TrapezoidalLoadV((-4000,0),(0,6))\n",
        "\n",
        "beam.add_supports(a)\n",
        "beam.add_loads(load_1)\n",
        "\n",
        "beam.analyse()\n",
        "\n",
        "print(f\"Deflection is {beam.get_deflection(8)} N.m3 / EI (N.m2)\")\n",
        "\n",
        "# plot the results for the beam\n",
        "fig_1 = beam.plot_beam_external()\n",
        "fig_1.show()\n",
        "\n",
        "fig_2 = beam.plot_beam_internal()\n",
        "fig_2.show()\n",
        "\n",
        "# save the results (optional)\n",
        "# Can save figure using ``fig.write_image(\"./results.pdf\")`` (can change extension to be\n",
        "# png, jpg, svg or other formats as reired). Requires pip install -U kaleido\n",
        "\n",
        "# fig_1.write_image(\"./example_plot_external.png\")\n",
        "# fig_2.write_image(\"./example_plot_internal.png\")"
      ]
    },
    {
      "cell_type": "markdown",
      "metadata": {
        "id": "lmbhad0XUt2A"
      },
      "source": [
        "## 6. Statically Indeterminate Beam (Ex 12.21 Hibbeler)"
      ]
    },
    {
      "cell_type": "code",
      "execution_count": null,
      "metadata": {
        "id": "WElz8dAYUt2C"
      },
      "outputs": [],
      "source": [
        "# Statically Indeterminate beam (Ex 12.21 Hibbeler)\n",
        "# Determine the reactions at the roller support B of the beam described below:\n",
        "# 3 m long, fixed at A (x = 0 m), roller support at B (x=3 m),\n",
        "# vertical point load at midpan of 8000 N, UDL of 6000 N/m, EI constant.\n",
        "\n",
        "beam = Beam(3)\n",
        "\n",
        "a = Support(0,(1,1,1))\n",
        "b = Support(3,(0,1,0))\n",
        "\n",
        "load_1 = PointLoadV(-8000,1.5)\n",
        "load_2 = UDLV(-6000, (0,3))\n",
        "\n",
        "beam.add_supports(a,b)\n",
        "beam.add_loads(load_1,load_2)\n",
        "\n",
        "beam.analyse()\n",
        "\n",
        "print(f\"The beam has an absolute maximum shear force of: {beam.get_shear_force(return_absmax=True)} N\")\n",
        "print(f\"The beam has an absolute maximum bending moment of: {beam.get_bending_moment(return_absmax=True)} N.mm\")\n",
        "print(f\"The beam has a vertical reaction at B of: {beam.get_reaction(3,'y')} N\")\n",
        "\n",
        "# plot the results for the beam\n",
        "fig_1 = beam.plot_beam_external()\n",
        "fig_1.show()\n",
        "\n",
        "fig_2 = beam.plot_beam_internal()\n",
        "fig_2.show()\n",
        "\n",
        "# save the results (optional)\n",
        "# Can save figure using ``fig.write_image(\"./results.pdf\")`` (can change extension to be\n",
        "# png, jpg, svg or other formats as reired). Requires pip install -U kaleido\n",
        "\n",
        "# fig_1.write_image(\"./example_plot_external.png\")\n",
        "# fig_2.write_image(\"./example_plot_internal.png\")"
      ]
    },
    {
      "cell_type": "markdown",
      "metadata": {
        "id": "4pG-n23mUt2F"
      },
      "source": [
        "## 7. Spring Supported Beam (Ex 12.16 Hibbeler)"
      ]
    },
    {
      "cell_type": "code",
      "execution_count": null,
      "metadata": {
        "id": "i1mh66RHUt2G"
      },
      "outputs": [],
      "source": [
        "# Spring Supported beam (Ex 12.16 Hibbeler)\n",
        "# Determine the vertical displacement at x = 1 m for the beam detailed below:\n",
        "# 3 m long, spring of ky = 45 kN/m at A (x = 0 m) and B (x = 3 m), vertical point load at x = 1 m of 3000 N, E = 200 GPa, I = 4.6875*10**-6 m4.\n",
        "\n",
        "# when initializing beam we should specify E and I. Units should be expressed in MPa (N/mm2) for E, and mm4 for I\n",
        "beam = Beam(3, E=(200)*10**3, I=(4.6875*10**-6)*10**12)\n",
        "\n",
        "# creating supports, note that an x support must be specified even when there are no x forces. This will not affect the accuracy or reliability of results.\n",
        "# Also note that ky units are kN/m in the problem but must be in N/m for the program to work correctly.\n",
        "a = Support(0, (1,1,0), ky = 45000)\n",
        "b = Support(3, (0,1,0), ky = 45000)\n",
        "\n",
        "load_1 = PointLoadV(-3000, 1)\n",
        "\n",
        "beam.add_supports(a,b)\n",
        "beam.add_loads(load_1)\n",
        "\n",
        "beam.analyse()\n",
        "\n",
        "beam.get_deflection(1)\n",
        "\n",
        "# plot the results for the beam\n",
        "fig_1 = beam.plot_beam_external()\n",
        "fig_1.show()\n",
        "\n",
        "fig_2 = beam.plot_beam_internal()\n",
        "fig_2.show()\n",
        "\n",
        "# save the results (optional)\n",
        "# Can save figure using ``fig.write_image(\"./results.pdf\")`` (can change extension to be\n",
        "# png, jpg, svg or other formats as reired). Requires pip install -U kaleido\n",
        "\n",
        "# fig_1.write_image(\"./example_plot_external.png\")\n",
        "# fig_2.write_image(\"./example_plot_internal.png\")\n",
        "\n",
        "##results in 38.46 mm deflection ~= 38.4mm specified in textbook (difference only due to their rounding)\n",
        "##can easily check reliability of answer by looking at deflection at the spring supports. Should equal F/k.\n",
        "## ie at support A (x = 0 m), the reaction force is 2kN by equilibrium, so our deflection is F/K = 2kn / 45*10-3 kN/mm = 44.4 mm (can be seen in plot)"
      ]
    },
    {
      "cell_type": "markdown",
      "metadata": {
        "id": "nV_Q7AW5Ut2H"
      },
      "source": [
        "## 8. Axially Loaded Indeterminate Beam (Ex 4.13 Hibbeler)"
      ]
    },
    {
      "cell_type": "code",
      "execution_count": null,
      "metadata": {
        "id": "J6_a9gfEUt2J"
      },
      "outputs": [],
      "source": [
        "##AXIAL LOADED INDETERMINATE BEAM (Ex 4.13 Hibbeler)\n",
        "## A rod with constant EA has a force of 60kN applied at x = 0.1 m, and the beam has fixed supports at x=0, and x =0.4 m. Determine the reaction forces.\n",
        "\n",
        "beam = Beam(0.4)\n",
        "\n",
        "a = Support()\n",
        "b = Support(0.4)\n",
        "\n",
        "load_1 = PointLoadH(-60000, 0.1)\n",
        "\n",
        "beam.add_supports(a,b)\n",
        "beam.add_loads(load_1)\n",
        "\n",
        "beam.analyse()\n",
        "\n",
        "# plot the results for the beam\n",
        "fig_1 = beam.plot_beam_external()\n",
        "fig_1.show()\n",
        "\n",
        "fig_2 = beam.plot_beam_internal()\n",
        "fig_2.show()\n",
        "\n",
        "# save the results (optional)\n",
        "# Can save figure using ``fig.write_image(\"./results.pdf\")`` (can change extension to be\n",
        "# png, jpg, svg or other formats as reired). Requires pip install -U kaleido\n",
        "\n",
        "# fig_1.write_image(\"./example_plot_external.png\")\n",
        "# fig_2.write_image(\"./example_plot_internal.png\")\n"
      ]
    },
    {
      "cell_type": "code",
      "execution_count": null,
      "metadata": {
        "id": "kb1ntwuCUt2K"
      },
      "outputs": [],
      "source": []
    }
  ],
  "metadata": {
    "kernelspec": {
      "display_name": "Python 3",
      "language": "python",
      "name": "python3"
    },
    "language_info": {
      "codemirror_mode": {
        "name": "ipython",
        "version": 3
      },
      "file_extension": ".py",
      "mimetype": "text/x-python",
      "name": "python",
      "nbconvert_exporter": "python",
      "pygments_lexer": "ipython3",
      "version": "3.12.4"
    },
    "toc": {
      "base_numbering": 1,
      "nav_menu": {},
      "number_sections": true,
      "sideBar": true,
      "skip_h1_title": false,
      "title_cell": "Table of Contents",
      "title_sidebar": "Contents",
      "toc_cell": false,
      "toc_position": {},
      "toc_section_display": true,
      "toc_window_display": false
    },
    "varInspector": {
      "cols": {
        "lenName": 16,
        "lenType": 16,
        "lenVar": 40
      },
      "kernels_config": {
        "python": {
          "delete_cmd_postfix": "",
          "delete_cmd_prefix": "del ",
          "library": "var_list.py",
          "varRefreshCmd": "print(var_dic_list())"
        },
        "r": {
          "delete_cmd_postfix": ") ",
          "delete_cmd_prefix": "rm(",
          "library": "var_list.r",
          "varRefreshCmd": "cat(var_dic_list()) "
        }
      },
      "types_to_exclude": [
        "module",
        "function",
        "builtin_function_or_method",
        "instance",
        "_Feature"
      ],
      "window_display": false
    },
    "colab": {
      "provenance": [],
      "include_colab_link": true
    }
  },
  "nbformat": 4,
  "nbformat_minor": 0
}